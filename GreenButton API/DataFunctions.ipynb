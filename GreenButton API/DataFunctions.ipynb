{
 "cells": [
  {
   "cell_type": "code",
   "execution_count": 2,
   "metadata": {
    "collapsed": true
   },
   "outputs": [],
   "source": [
    "import numpy as np\n",
    "import csv\n",
    "import time\n",
    "import matplotlib\n",
    "import matplotlib.pyplot as plt\n",
    "import datetime\n",
    "#import pandas as pd\n",
    "#from LEDsetup import *"
   ]
  },
  {
   "cell_type": "markdown",
   "metadata": {},
   "source": [
    "### Open datafiles"
   ]
  },
  {
   "cell_type": "code",
   "execution_count": 31,
   "metadata": {
    "collapsed": false
   },
   "outputs": [],
   "source": [
    "def OpenDailyData(filename):\n",
    "    time_stamp = []\n",
    "    value = []\n",
    "    with open(filename) as f:\n",
    "        cf = csv.DictReader(f, fieldnames=['time_stamp', 'value'])\n",
    "        for row in cf:\n",
    "            try:\n",
    "                time_stamp.append(datetime.datetime.strptime(row['time_stamp'], \"%Y-%m-%d\"))\n",
    "                \n",
    "            except:\n",
    "                time_stamp.append(datetime.datetime.strptime(row['time_stamp'], \"%Y-%m-%d %H:%M:%S\"))\n",
    "            value.append(float(row['value']))\n",
    "                \n",
    "    \n",
    "    return(time_stamp, value)\n"
   ]
  },
  {
   "cell_type": "code",
   "execution_count": null,
   "metadata": {
    "collapsed": true
   },
   "outputs": [],
   "source": [
    "def OpenMonthlyData(filename):\n",
    "    Months = {'January','February','March','April','May','June','July','August','September','October','November','December'}\n",
    "    value = []\n",
    "    with open(filename) as f:\n",
    "        cf = csv.DictReader(f, fieldnames=['time_stamp', 'value'])\n",
    "        for row in cf:\n",
    "            time_stamp.append(Months(row['time_stamp']))\n",
    "            value.append(float(row['value']))\n",
    "                \n",
    "    \n",
    "    return(time_stamp, value)"
   ]
  },
  {
   "cell_type": "markdown",
   "metadata": {},
   "source": [
    "### Generating color scale"
   ]
  },
  {
   "cell_type": "code",
   "execution_count": 19,
   "metadata": {
    "collapsed": false
   },
   "outputs": [],
   "source": [
    "#def ColorScale(steps, color1, color2):\n",
    "    #clrs = []\n",
    "    #inc = 1/(steps-1)\n",
    "    #print(inc)\n",
    "    \n",
    "    #for i in range(steps):\n",
    "        #new_color = (int(color1[0]*i*inc+color2[0]*(steps-i-1)*inc),\n",
    "                     #int(color1[1]*i*inc+color2[1]*(steps-i-1)*inc), \n",
    "                     #int(color1[2]*i*inc+color2[2]*(steps-i-1)*inc))\n",
    "        #print(new_color)\n",
    "        #clrs.append(new_color)\n",
    "\n",
    "        \n",
    "    #return clrs\n",
    "\n"
   ]
  },
  {
   "cell_type": "code",
   "execution_count": 22,
   "metadata": {
    "collapsed": true
   },
   "outputs": [],
   "source": [
    "def ColorScaler(color1, color2, value):\n",
    "    min_value = min(value)\n",
    "    max_value = max(value)\n",
    "    clr_data = []\n",
    "    \n",
    "    for val in value:\n",
    "        ratio = (val - min_value)/(max_value-min_value)\n",
    "        new_color = (int(color2[0]*ratio+color1[0]*(1-ratio)),\n",
    "                     int(color2[1]*ratio+color1[1]*(1-ratio)), \n",
    "                     int(color2[2]*ratio+color1[2]*(1-ratio)))\n",
    "        print(new_color)\n",
    "        clr_data.append(new_color)\n",
    "\n",
    "        \n",
    "    return clr_data\n"
   ]
  },
  {
   "cell_type": "code",
   "execution_count": 23,
   "metadata": {
    "collapsed": false
   },
   "outputs": [
    {
     "name": "stdout",
     "output_type": "stream",
     "text": [
      "(0, 255, 0)\n",
      "(28, 226, 0)\n",
      "(56, 198, 0)\n",
      "(85, 170, 0)\n",
      "(113, 141, 0)\n",
      "(141, 113, 0)\n",
      "(170, 85, 0)\n",
      "(198, 56, 0)\n",
      "(226, 28, 0)\n",
      "(255, 0, 0)\n"
     ]
    }
   ],
   "source": [
    "clr_data = ColorScaler((0,255,0),(255,0,0), range(10))"
   ]
  },
  {
   "cell_type": "code",
   "execution_count": 26,
   "metadata": {
    "collapsed": true
   },
   "outputs": [],
   "source": [
    "def NumScaler(led1, led2, value):\n",
    "    min_value = min(value)\n",
    "    max_value = max(value)\n",
    "    num_data = []\n",
    "    \n",
    "    for val in value:\n",
    "        ratio = (val - min_value)/(max_value-min_value)\n",
    "        new_num = led1 + int((led2-led1)*ratio)\n",
    "        print(new_num)\n",
    "        num_data.append(new_num)\n",
    "\n",
    "        \n",
    "    return num_data"
   ]
  },
  {
   "cell_type": "code",
   "execution_count": 27,
   "metadata": {
    "collapsed": false
   },
   "outputs": [
    {
     "name": "stdout",
     "output_type": "stream",
     "text": [
      "0\n",
      "4\n",
      "8\n",
      "13\n",
      "17\n",
      "21\n",
      "26\n",
      "30\n",
      "34\n",
      "39\n"
     ]
    }
   ],
   "source": [
    "num_data = NumScaler(0,39,range(10))"
   ]
  },
  {
   "cell_type": "code",
   "execution_count": 28,
   "metadata": {
    "collapsed": false
   },
   "outputs": [],
   "source": [
    "def Flash(num_flashes, delay, color, led1 = 0, led2 = 79):\n",
    "    for i in range(num_flashes):\n",
    "        led.fill(color, led1, led2)\n",
    "        led.update\n",
    "        time.sleep(delay)\n",
    "        "
   ]
  },
  {
   "cell_type": "code",
   "execution_count": null,
   "metadata": {
    "collapsed": true
   },
   "outputs": [],
   "source": [
    "def Pulse(num_pulses, color, led1 = 0, led2 = 79):\n",
    "    ## Step-up intensity by 10% increments, then step down by the same every 0.1 seconds. total time = 2 sec\n",
    "    \n",
    "    intensity = np.arange(0,1.1,0.1) \n",
    "\n",
    "    for i in intensity:\n",
    "        color_new = (int(color[0]*i),int(color[1]*i),int(color[2]*i)) \n",
    "        # There is probably a more elegant way to do this.. \n",
    "        #print color_new\n",
    "        led.fill(color_new, led1, led2)\n",
    "        led.update()\n",
    "        time.sleep(0.1)\n",
    "\n",
    "    for i in reversed(intensity):\n",
    "        color_new = (int(color[0]*i),int(color[1]*i),int(color[2]*i)) \n",
    "        #print color_new\n",
    "        led.fill(color_new, led1, led2)\n",
    "        led.update()\n",
    "        time.sleep(0.1)        "
   ]
  }
 ],
 "metadata": {
  "kernelspec": {
   "display_name": "Python 3",
   "language": "python",
   "name": "python3"
  },
  "language_info": {
   "codemirror_mode": {
    "name": "ipython",
    "version": 3
   },
   "file_extension": ".py",
   "mimetype": "text/x-python",
   "name": "python",
   "nbconvert_exporter": "python",
   "pygments_lexer": "ipython3",
   "version": "3.4.3"
  }
 },
 "nbformat": 4,
 "nbformat_minor": 0
}
