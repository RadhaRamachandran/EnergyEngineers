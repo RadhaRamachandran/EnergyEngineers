{
 "cells": [
  {
   "cell_type": "code",
   "execution_count": 2,
   "metadata": {
    "collapsed": false
   },
   "outputs": [],
   "source": [
    "%matplotlib inline\n",
    "\n",
    "import sys\n",
    "import os\n",
    "import csv\n",
    "import numpy as np\n",
    "import time\n",
    "import xml.etree.ElementTree as ET\n",
    "from xml.dom import minidom\n",
    "from lxml import objectify\n",
    "from lxml import etree\n",
    "import pandas as pd\n",
    "import matplotlib\n",
    "import matplotlib.pyplot as plt\n",
    "import plotly.plotly as py\n",
    "import plotly.tools as tls\n",
    "from plotly.graph_objs import *"
   ]
  },
  {
   "cell_type": "markdown",
   "metadata": {},
   "source": [
    "##Filenames"
   ]
  },
  {
   "cell_type": "code",
   "execution_count": 69,
   "metadata": {
    "collapsed": false
   },
   "outputs": [],
   "source": [
    "lb1='Lindblom/comed_3b2b46d2_b123035b_generic_Green.xml'\n",
    "lb2='Lindblom/comed_3b2b46d2_568dcb32_generic_Green.xml'\n",
    "lb3='Lindblom/comed_3b2b46d2_bec2e3e9_generic_Green.xml'\n",
    "lb4='Lindblom/comed_3b2b46d2_4f6b6a04_generic_Green.xml'"
   ]
  },
  {
   "cell_type": "markdown",
   "metadata": {},
   "source": [
    "##Load XML"
   ]
  },
  {
   "cell_type": "code",
   "execution_count": 155,
   "metadata": {
    "collapsed": false
   },
   "outputs": [],
   "source": [
    "data_parse = ET.ElementTree(file=lb4)\n",
    "root_tree = data_parse.getroot()\n"
   ]
  },
  {
   "cell_type": "code",
   "execution_count": 189,
   "metadata": {
    "collapsed": false
   },
   "outputs": [],
   "source": [
    "#ib=root_tree.getchildren()[4].getchildren()[5].text\n",
    "ib=root_tree.getchildren()[6].getchildren()[4].getchildren()\n",
    "\n",
    "#ib"
   ]
  },
  {
   "cell_type": "markdown",
   "metadata": {},
   "source": [
    "###XML to Dataframe"
   ]
  },
  {
   "cell_type": "code",
   "execution_count": 200,
   "metadata": {
    "collapsed": true
   },
   "outputs": [],
   "source": [
    "##Get all value;start;duration tuples from all interval blocks\n",
    "def create_dataframe__gb_all(data):\n",
    "    df = pd.DataFrame(columns=('usagepoint','start', 'duration', 'value'))\n",
    "    inc=0\n",
    "    up=data.getchildren()[4].getchildren()[5].text\n",
    "    ib=data.getchildren()[6].getchildren()[4].getchildren()#intervalblock\n",
    "    for n in ib:\n",
    "        interval=n.getchildren()\n",
    "        for m in interval:\n",
    "            try:\n",
    "                val = m.getchildren()[1].text #value #(in watt-hours)\n",
    "                dur=m.getchildren()[0].getchildren()[0].text #duration\n",
    "                st=m.getchildren()[0].getchildren()[1].text #start\n",
    "                stc=time.strftime('%Y-%m-%d %H:%M:%S', time.localtime(int(st)))\n",
    "                #print(val,st,dur)\n",
    "                #row = dict(zip(['start', 'duration', 'value'], [stc,int(dur),int(val)]))\n",
    "                row = dict(zip(['start', 'duration', 'value'], [int(st),int(dur),int(val)]))\n",
    "                row_series = pd.Series(row)\n",
    "                row_series.name = inc\n",
    "                df = df.append(row_series)\n",
    "                inc+=1\n",
    "            except:\n",
    "                pass\n",
    "                \n",
    "    return df"
   ]
  },
  {
   "cell_type": "code",
   "execution_count": 71,
   "metadata": {
    "collapsed": false
   },
   "outputs": [],
   "source": [
    "##Get all value;start;duration tuples from all interval blocks\n",
    "def create_dataframe_gb_notnull(data):\n",
    "    df = pd.DataFrame(columns=('start', 'duration', 'value'))\n",
    "    inc=0\n",
    "    ib=data.getchildren()[6].getchildren()[4].getchildren()#intervalblock\n",
    "    for n in ib:\n",
    "        interval=n.getchildren()\n",
    "        for m in interval:\n",
    "            try:\n",
    "                val = m.getchildren()[1].text #value #(in watt-hours)\n",
    "                if int(val) != 0:\n",
    "                    dur=m.getchildren()[0].getchildren()[0].text #duration\n",
    "                    st=m.getchildren()[0].getchildren()[1].text #start\n",
    "                    #stc=time.strftime('%Y-%m-%d %H:%M:%S', time.localtime(int(st)))\n",
    "                    #print(val,st,dur)\n",
    "                    #row = dict(zip(['start', 'duration', 'value'], [stc,int(dur),int(val)]))\n",
    "                    row = dict(zip(['start', 'duration', 'value'], [int(st),int(dur),int(val)]))\n",
    "                    row_series = pd.Series(row)\n",
    "                    row_series.name = inc\n",
    "                    df = df.append(row_series)\n",
    "                    inc+=1\n",
    "                else:\n",
    "                    pass\n",
    "            except:\n",
    "                pass\n",
    "                \n",
    "    return df"
   ]
  },
  {
   "cell_type": "code",
   "execution_count": 116,
   "metadata": {
    "collapsed": false
   },
   "outputs": [],
   "source": [
    "#df = create_dataframe_gb_all(root_tree)\n",
    "df = create_dataframe_gb_notnull(root_tree)"
   ]
  },
  {
   "cell_type": "code",
   "execution_count": 117,
   "metadata": {
    "collapsed": true
   },
   "outputs": [],
   "source": [
    "df.to_pickle('lindblom4')  "
   ]
  },
  {
   "cell_type": "code",
   "execution_count": 188,
   "metadata": {
    "collapsed": false
   },
   "outputs": [],
   "source": []
  },
  {
   "cell_type": "code",
   "execution_count": 153,
   "metadata": {
    "collapsed": false
   },
   "outputs": [
    {
     "name": "stdout",
     "output_type": "stream",
     "text": [
      "                    start  duration  value\n",
      "84599 2016-01-13 01:00:00      1800  58.68\n",
      "84600 2016-01-13 01:30:00      1800  56.82\n",
      "84601 2016-01-13 02:00:00      1800  56.76\n",
      "84602 2016-01-13 02:30:00      1800  56.34\n",
      "84603 2016-01-13 03:00:00      1800  56.28\n",
      "84604 2016-01-13 03:30:00      1800  54.48\n",
      "84605 2016-01-13 04:00:00      1800  51.84\n",
      "84606 2016-01-13 04:30:00      1800  49.74\n",
      "84607 2016-01-13 05:00:00      1800  47.88\n",
      "                     start  duration  value\n",
      "119436 2012-12-04 01:00:00      1800   4.32\n",
      "119437 2012-12-04 01:30:00      1800   4.32\n",
      "119438 2012-12-04 02:00:00      1800   4.32\n",
      "119439 2012-12-04 02:30:00      1800   4.14\n",
      "119440 2012-12-04 03:00:00      1800   4.32\n",
      "119441 2012-12-04 03:30:00      1800   4.32\n",
      "119442 2012-12-04 04:00:00      1800   4.14\n",
      "119443 2012-12-04 04:30:00      1800   4.32\n",
      "119444 2012-12-04 05:00:00      1800   4.32\n",
      "                  start  duration     value\n",
      "892 2016-02-10 19:00:00      1800  0.000633\n",
      "893 2016-02-10 19:30:00      1800  0.000633\n",
      "894 2016-02-10 20:00:00      1800  0.000633\n",
      "895 2016-02-10 20:30:00      1800  0.000633\n",
      "896 2016-02-10 21:00:00      1800  0.000633\n",
      "897 2016-02-10 21:30:00      1800  0.000633\n",
      "898 2016-02-10 22:00:00      1800  0.000630\n",
      "899 2016-02-10 22:30:00      1800  0.000633\n",
      "900 2016-02-10 23:00:00      1800  0.000633\n"
     ]
    }
   ],
   "source": [
    "#checking the data\n",
    "#print(dfl1[0:10])\n",
    "print(dfl2[-10:-1])\n",
    "print(dfl3[-10:-1])\n",
    "\n",
    "print(dfl4[-10:-1])\n",
    "\n"
   ]
  },
  {
   "cell_type": "code",
   "execution_count": 172,
   "metadata": {
    "collapsed": false
   },
   "outputs": [
    {
     "data": {
      "text/plain": [
       "43169.5"
      ]
     },
     "execution_count": 172,
     "metadata": {},
     "output_type": "execute_result"
    }
   ],
   "source": [
    "##hrs since start of the dataset\n",
    "#df.start=(df['start']-df.start[0])/3600.\n",
    "#df.start/60/60\n",
    "#max(df['start'])\n",
    "\n",
    "\n",
    "##hrs since start of the dataset\n",
    "#df.start=(df['start'])\n",
    "#df.start/60/60\n",
    "#max(df['start'])"
   ]
  }
 ],
 "metadata": {
  "kernelspec": {
   "display_name": "Python 3",
   "language": "python",
   "name": "python3"
  },
  "language_info": {
   "codemirror_mode": {
    "name": "ipython",
    "version": 3
   },
   "file_extension": ".py",
   "mimetype": "text/x-python",
   "name": "python",
   "nbconvert_exporter": "python",
   "pygments_lexer": "ipython3",
   "version": "3.4.3"
  }
 },
 "nbformat": 4,
 "nbformat_minor": 0
}
