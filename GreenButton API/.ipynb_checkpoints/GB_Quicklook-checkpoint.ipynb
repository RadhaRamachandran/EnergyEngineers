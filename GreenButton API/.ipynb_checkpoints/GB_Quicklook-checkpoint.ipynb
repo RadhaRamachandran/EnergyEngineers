{
 "cells": [
  {
   "cell_type": "code",
   "execution_count": 2,
   "metadata": {
    "collapsed": true
   },
   "outputs": [],
   "source": [
    "%matplotlib inline\n",
    "\n",
    "import sys\n",
    "import os\n",
    "import csv\n",
    "import numpy as np\n",
    "import time\n",
    "import xml.etree.ElementTree as ET\n",
    "from xml.dom import minidom\n",
    "from lxml import objectify\n",
    "from lxml import etree\n",
    "import pandas as pd\n",
    "import matplotlib\n",
    "import matplotlib.pyplot as plt\n",
    "import plotly.plotly as py\n",
    "import plotly.tools as tls\n",
    "from plotly.graph_objs import *"
   ]
  },
  {
   "cell_type": "markdown",
   "metadata": {},
   "source": [
    "##Load in files"
   ]
  },
  {
   "cell_type": "code",
   "execution_count": 6,
   "metadata": {
    "collapsed": false
   },
   "outputs": [],
   "source": [
    "dfl1 = pd.read_pickle('lindblom1')\n",
    "dfl2 = pd.read_pickle('lindblom2')\n",
    "dfl3 = pd.read_pickle('lindblom3')\n",
    "dfl4 = pd.read_pickle('lindblom4')"
   ]
  },
  {
   "cell_type": "markdown",
   "metadata": {},
   "source": [
    "##Convert values"
   ]
  },
  {
   "cell_type": "code",
   "execution_count": 17,
   "metadata": {
    "collapsed": false
   },
   "outputs": [],
   "source": [
    "###Convert UNIX time to datetime\n",
    "dfl1['start']=pd.to_datetime(dfl1['start'],unit='s')\n",
    "dfl2['start']=pd.to_datetime(dfl2['start'],unit='s')\n",
    "dfl3['start']=pd.to_datetime(dfl3['start'],unit='s')\n",
    "dfl4['start']=pd.to_datetime(dfl4['start'],unit='s')\n",
    "\n",
    "###Convert Watthours to kwh\n",
    "dfl1['value']=dfl1.value/1000.\n",
    "dfl2['value']=dfl2.value/1000.\n",
    "dfl3['value']=dfl3.value/1000.\n",
    "dfl4['value']=dfl4.value/1000."
   ]
  },
  {
   "cell_type": "markdown",
   "metadata": {},
   "source": [
    "##Plot values"
   ]
  },
  {
   "cell_type": "code",
   "execution_count": 9,
   "metadata": {
    "collapsed": false
   },
   "outputs": [
    {
     "data": {
      "image/png": "[encoded data removed]",
      "text/plain": [
       "<matplotlib.figure.Figure at 0x11348c240>"
      ]
     },
     "metadata": {},
     "output_type": "display_data"
    }
   ],
   "source": [
    "def gbmplot(df1,df2):\n",
    "\n",
    "    ax=df2.plot(x='start', y='value',title=\"Lindblom\",marker='.',color='r',markersize=1)\n",
    "    df1.plot(ax=ax, x='start', y='value',marker='.',color='b',markersize=1)\n",
    "    #plt.gcf().autofmt_xdate()\n",
    "    ax.set_xlabel(\"Date\")\n",
    "    ax.set_ylabel(\"kWh\")\n",
    "\n",
    "    #ax.set_xlim(['2011-01-01 00:00:00','2016-03-07 00:00:00']) #FULL RANGE\n",
    "    #ax.set_xlim(['2014-01-01 00:00:00','2014-12-31 00:00:00']) #Look at 2014\n",
    "    #ax.set_xlim(['2014-09-01 00:00:00','2014-09-30 00:00:00']) #Look at September 2014\n",
    "    #ax.set_xlim(['2014-09-07 00:00:00','2014-09-14 00:00:00']) #Look at One week in September 2014\n",
    "    #ax.set_xlim(['2014-09-09 06:00:00','2014-09-10 06:00:00']) #Look at Weekday in September 2014\n",
    "    return\n",
    "\n",
    "gbmplot(dfl2[0:1000],dfl4[0:100])"
   ]
  },
  {
   "cell_type": "code",
   "execution_count": 1,
   "metadata": {
    "collapsed": false
   },
   "outputs": [
    {
     "ename": "NameError",
     "evalue": "name 'dfl2' is not defined",
     "output_type": "error",
     "traceback": [
      "\u001b[0;31m---------------------------------------------------------------------------\u001b[0m",
      "\u001b[0;31mNameError\u001b[0m                                 Traceback (most recent call last)",
      "\u001b[0;32m<ipython-input-1-e366706c2108>\u001b[0m in \u001b[0;36m<module>\u001b[0;34m()\u001b[0m\n\u001b[1;32m     12\u001b[0m     \u001b[0;31m#ax.set_xlim(['2014-09-09 06:00:00','2014-09-10 06:00:00']) #Look at Weekday in September 2014\u001b[0m\u001b[0;34m\u001b[0m\u001b[0;34m\u001b[0m\u001b[0m\n\u001b[1;32m     13\u001b[0m     \u001b[0;32mreturn\u001b[0m\u001b[0;34m\u001b[0m\u001b[0m\n\u001b[0;32m---> 14\u001b[0;31m \u001b[0mgbplot\u001b[0m\u001b[0;34m(\u001b[0m\u001b[0mdfl2\u001b[0m\u001b[0;34m[\u001b[0m\u001b[0;36m1000\u001b[0m\u001b[0;34m:\u001b[0m\u001b[0;36m3000\u001b[0m\u001b[0;34m]\u001b[0m\u001b[0;34m,\u001b[0m\u001b[0;34m'black'\u001b[0m\u001b[0;34m)\u001b[0m\u001b[0;34m\u001b[0m\u001b[0m\n\u001b[0m\u001b[1;32m     15\u001b[0m \u001b[0;31m#gbplot(dfl2,'b')\u001b[0m\u001b[0;34m\u001b[0m\u001b[0;34m\u001b[0m\u001b[0m\n\u001b[1;32m     16\u001b[0m \u001b[0;31m#gbplot(dfl3,'r')\u001b[0m\u001b[0;34m\u001b[0m\u001b[0;34m\u001b[0m\u001b[0m\n",
      "\u001b[0;31mNameError\u001b[0m: name 'dfl2' is not defined"
     ]
    }
   ],
   "source": [
    "def gbplot(df,clr):\n",
    "    ax=df.plot(x='start', y='value',title=\"Lindblom\",marker='.',color=clr)\n",
    "    plt.gcf().autofmt_xdate()\n",
    "    #plt.xlim([2e3,2.55e3])\n",
    "    ax.set_xlabel(\"Date\")\n",
    "    ax.set_ylabel(\"kWh\")\n",
    "    #scatter(df1['datetime'],df1['value'])\n",
    "    #ax.set_xlim(['2011-01-01 00:00:00','2016-03-07 00:00:00']) #FULL RANGE\n",
    "    #ax.set_xlim(['2014-01-01 00:00:00','2014-12-31 00:00:00']) #Look at 2014\n",
    "    #ax.set_xlim(['2014-09-01 00:00:00','2014-09-30 00:00:00']) #Look at September 2014\n",
    "    #ax.set_xlim(['2014-09-07 00:00:00','2014-09-14 00:00:00']) #Look at One week in September 2014\n",
    "    #ax.set_xlim(['2014-09-09 06:00:00','2014-09-10 06:00:00']) #Look at Weekday in September 2014\n",
    "    return\n",
    "gbplot(dfl2[1000:3000],'black')\n",
    "#gbplot(dfl2,'b')\n",
    "#gbplot(dfl3,'r')\n",
    "#gbplot(dfl4,'g')"
   ]
  },
  {
   "cell_type": "code",
   "execution_count": null,
   "metadata": {
    "collapsed": true
   },
   "outputs": [],
   "source": []
  }
 ],
 "metadata": {
  "kernelspec": {
   "display_name": "Python 2",
   "language": "python",
   "name": "python2"
  },
  "language_info": {
   "codemirror_mode": {
    "name": "ipython",
    "version": 2
   },
   "file_extension": ".py",
   "mimetype": "text/x-python",
   "name": "python",
   "nbconvert_exporter": "python",
   "pygments_lexer": "ipython2",
   "version": "2.7.10"
  }
 },
 "nbformat": 4,
 "nbformat_minor": 0
}
