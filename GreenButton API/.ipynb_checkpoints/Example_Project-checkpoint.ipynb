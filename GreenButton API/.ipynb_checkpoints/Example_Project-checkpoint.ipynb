{
 "cells": [
  {
   "cell_type": "code",
   "execution_count": 2,
   "metadata": {
    "collapsed": false
   },
   "outputs": [],
   "source": [
    "from DataFunctions import *"
   ]
  },
  {
   "cell_type": "markdown",
   "metadata": {},
   "source": [
    "### Example Project\n",
    "##### Top Row: Winter\n",
    "##### Bottom Row: Summer\n",
    "##### Monthly Average\n",
    "##### Color scaled display"
   ]
  },
  {
   "cell_type": "code",
   "execution_count": null,
   "metadata": {
    "collapsed": true
   },
   "outputs": [],
   "source": [
    "# Step 1: OPEN FILE\n",
    "# Pick the data on bottom first, then data on top. \n",
    "\n",
    "[month1, year1, value1] = OpenMonthlyData('Dunne_Summer_Monthly_Average_KW.csv')\n",
    "[month2, year2, value2] = OpenMonthlyData('Dunne_Winter_Monthly_Average_KW.csv')\n",
    "\n",
    "#----------------------------------------#\n",
    "\n",
    "# Step 2: GET MIN & MAX \n",
    "\n",
    "# We want both data to display on the same scale. \n",
    "# We choose the lowest of the lowest and highest of the highest value\n",
    "\n",
    "min_value1 = min(value1)\n",
    "max_value1 = max(value1)\n",
    "\n",
    "min_value2 = min(value2)\n",
    "max_value2 = max(value2)\n",
    "\n",
    "min_value = min(min_value1,min_value2)\n",
    "max_value = max(max_value1,max_value2)\n",
    "\n",
    "#----------------------------------------#\n",
    "\n",
    "# Step 3a: SCALE DATA BY COLOR. TO SCALE DATA BY NUMBER, look at step 3b.\n",
    "\n",
    "color_low = Green\n",
    "color_high = Red\n",
    "\n",
    "clr_summer = ColorScaler(color_low, color_high, value1, min_value, max_value)\n",
    "clr_winter = ColorScaler(color_low, color_high, value2, min_value, max_value)\n",
    "\n",
    "#----------------------------------------#\n",
    "\n",
    "# Step 3b : SCALE DATA BY NUMBER OF LEDs\n",
    "# Using entire 80 LEDs to scale the summer data alone. \n",
    "# If you are only using the bottom panel, do the command twice - once with summer and once with winter. \n",
    "# Numscaler() returns the last LED to be turned on. \n",
    "# So for the bottom panel, turn on from 0 --> NumLEDs. For the top panel turn on 40 --> numLEDs.\n",
    "\n",
    "numLED_all = NumScaler(0, 79, value1, min_value, max_value)\n",
    "# Bottom panel is LEDs 0,39 for the first two numbers. Top panel is LEDs 40, 79. All LEDs are 0, 79. \n",
    "\n",
    "#----------------------------------------#\n",
    "\n",
    "# Step 4a: Display COLOR data on LEDs\n",
    "# This displays data once and stops\n",
    "print ('Displaying COLOR data')\n",
    "\n",
    "Flash(5, 0.5, Purple) ## Flash everytime it starts over\n",
    "size = len(clr_summer)\n",
    "\n",
    "for i in range(size):\n",
    "    # Summer on Bottom --> LEDS 0-39. \n",
    "\n",
    "    led.fill(clr_summer[i], 0, 39)\n",
    "\n",
    "    # Winter on TOP --> LEDS 40-79\n",
    "    led.fill(clr_winter[i], 40, 79)\n",
    "\n",
    "    led.update()\n",
    "    time.delay(0.5)\n",
    "\n",
    "\n",
    "#----------------------------------------#\n",
    "\n",
    "# Step 4b: Display NUMBER data on LEDs\n",
    "# This displays data continuously\n",
    "\n",
    "print ('Displaying NUMBER DATA')\n",
    "\n",
    "color_summer = Yellow\n",
    "\n",
    "# We are letting the user know how to stop this program\n",
    "print ('Press control + C to stop the program')\n",
    "\n",
    "while (True): ## TO CONTINUOUSLY REPEAT DATA\n",
    "    \n",
    "    Flash(5, 0.5, Purple) ## Flash everytime it starts over\n",
    "    size = len(numLED_all)\n",
    "\n",
    "    for i in range(size):\n",
    "        # Summer on all panels --> LEDS 0-79. \n",
    "        led.fill((0,0,0))\n",
    "        led.fill(color_summer, 0, numLED_all[i])\n",
    "        led.update()\n",
    "        time.delay(0.5)\n",
    "\n"
   ]
  }
 ],
 "metadata": {
  "kernelspec": {
   "display_name": "Python 3",
   "language": "python",
   "name": "python3"
  },
  "language_info": {
   "codemirror_mode": {
    "name": "ipython",
    "version": 3
   },
   "file_extension": ".py",
   "mimetype": "text/x-python",
   "name": "python",
   "nbconvert_exporter": "python",
   "pygments_lexer": "ipython3",
   "version": "3.4.3"
  }
 },
 "nbformat": 4,
 "nbformat_minor": 0
}
