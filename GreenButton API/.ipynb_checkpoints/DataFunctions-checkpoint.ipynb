{
 "cells": [
  {
   "cell_type": "code",
   "execution_count": 2,
   "metadata": {
    "collapsed": true
   },
   "outputs": [],
   "source": [
    "import numpy as np\n",
    "import csv\n",
    "import time\n",
    "import matplotlib\n",
    "import matplotlib.pyplot as plt\n",
    "import datetime\n",
    "#import pandas as pd\n",
    "from LEDsetup import *"
   ]
  },
  {
   "cell_type": "markdown",
   "metadata": {},
   "source": [
    "### Open datafiles"
   ]
  },
  {
   "cell_type": "code",
   "execution_count": 33,
   "metadata": {
    "collapsed": false
   },
   "outputs": [],
   "source": [
    "def OpenDailyData(filename):\n",
    "    time_stamp = []\n",
    "    value = []\n",
    "    with open(filename) as f:\n",
    "        cf = csv.DictReader(f, fieldnames=['time_stamp', 'value'])\n",
    "        for row in cf:\n",
    "            try:\n",
    "                time_stamp.append(datetime.datetime.strptime(row['time_stamp'], \"%Y-%m-%d\"))\n",
    "                \n",
    "            except:\n",
    "                time_stamp.append(datetime.datetime.strptime(row['time_stamp'], \"%Y-%m-%d %H:%M:%S\"))\n",
    "            value.append(float(row['value']))\n",
    "                \n",
    "    \n",
    "    return(time_stamp, value)"
   ]
  },
  {
   "cell_type": "code",
   "execution_count": 42,
   "metadata": {
    "collapsed": true
   },
   "outputs": [],
   "source": [
    "def OpenMonthlyData(filename):\n",
    "    month = []\n",
    "    year = []\n",
    "    value = []\n",
    "    with open(filename) as f:\n",
    "        cf = csv.DictReader(f, fieldnames=['month','year', 'value'])\n",
    "        for row in cf:\n",
    "            #print(row)\n",
    "            month.append(row['month'])\n",
    "            year.append(row['year'])\n",
    "            value.append(float(row['value']))\n",
    "                \n",
    "    \n",
    "    return(month, year, value)"
   ]
  },
  {
   "cell_type": "code",
   "execution_count": 52,
   "metadata": {
    "collapsed": false
   },
   "outputs": [],
   "source": [
    "[month1, year1, value1] = OpenMonthlyData('Dunne_Monthly_Average_2015_KW.csv')\n"
   ]
  },
  {
   "cell_type": "markdown",
   "metadata": {},
   "source": [
    "### Generating color scale"
   ]
  },
  {
   "cell_type": "code",
   "execution_count": 55,
   "metadata": {
    "collapsed": false
   },
   "outputs": [
    {
     "name": "stdout",
     "output_type": "stream",
     "text": [
      "0\n",
      "1\n",
      "2\n",
      "3\n",
      "4\n",
      "5\n",
      "6\n",
      "7\n",
      "8\n",
      "9\n",
      "10\n",
      "11\n"
     ]
    }
   ],
   "source": [
    "for i in range(len(value1)):\n",
    "    print(i)"
   ]
  },
  {
   "cell_type": "code",
   "execution_count": 19,
   "metadata": {
    "collapsed": false
   },
   "outputs": [],
   "source": [
    "#def ColorScale(steps, color1, color2):\n",
    "    #clrs = []\n",
    "    #inc = 1/(steps-1)\n",
    "    #print(inc)\n",
    "    \n",
    "    #for i in range(steps):\n",
    "        #new_color = (int(color1[0]*i*inc+color2[0]*(steps-i-1)*inc),\n",
    "                     #int(color1[1]*i*inc+color2[1]*(steps-i-1)*inc), \n",
    "                     #int(color1[2]*i*inc+color2[2]*(steps-i-1)*inc))\n",
    "        #print(new_color)\n",
    "        #clrs.append(new_color)\n",
    "\n",
    "        \n",
    "    #return clrs\n",
    "\n"
   ]
  },
  {
   "cell_type": "code",
   "execution_count": 37,
   "metadata": {
    "collapsed": true
   },
   "outputs": [],
   "source": [
    "def ColorScaler(color_low, color_high, value, min_value = 0, max_value = 0):\n",
    "    if((min_value == 0) & (max_value == 0)):\n",
    "        min_value = min(value)\n",
    "        max_value = max(value)\n",
    "    clr_data = []\n",
    "    \n",
    "    for val in value:\n",
    "        ratio = (val - min_value)/(max_value-min_value)\n",
    "        new_color = (int(color_high[0]*ratio+color_low[0]*(1-ratio)),\n",
    "                     int(color_high[1]*ratio+color_low[1]*(1-ratio)), \n",
    "                     int(color_high[2]*ratio+color_low[2]*(1-ratio)))\n",
    "        #print(new_color)\n",
    "        clr_data.append(new_color)\n",
    "                \n",
    "    return clr_data\n"
   ]
  },
  {
   "cell_type": "code",
   "execution_count": 26,
   "metadata": {
    "collapsed": true
   },
   "outputs": [],
   "source": [
    "def NumScaler(led1, led2, value, min_value = 0, max_value = 0):\n",
    "    if((min_value == 0) & (max_value == 0)):\n",
    "        min_value = min(value)\n",
    "        max_value = max(value)\n",
    "    \n",
    "    num_data = []\n",
    "    \n",
    "    for val in value:\n",
    "        ratio = (val - min_value)/(max_value-min_value)\n",
    "        new_num = led1 + int((led2-led1)*ratio)\n",
    "        num_data.append(new_num)\n",
    "\n",
    "        \n",
    "    return num_data"
   ]
  },
  {
   "cell_type": "code",
   "execution_count": 38,
   "metadata": {
    "collapsed": true
   },
   "outputs": [],
   "source": [
    "clr_dunne = ColorScaler((0,0,255), (0,255,0), value1)\n",
    "numLED_summer = NumScaler(40, 79, value1)\n"
   ]
  },
  {
   "cell_type": "code",
   "execution_count": 28,
   "metadata": {
    "collapsed": false
   },
   "outputs": [],
   "source": [
    "def Flash(num_flashes, delay, color, led1 = 0, led2 = 79):\n",
    "    for i in range(num_flashes):\n",
    "        led.fill(color, led1, led2)\n",
    "        led.update()\n",
    "        time.sleep(delay)"
   ]
  },
  {
   "cell_type": "code",
   "execution_count": null,
   "metadata": {
    "collapsed": true
   },
   "outputs": [],
   "source": []
  },
  {
   "cell_type": "code",
   "execution_count": null,
   "metadata": {
    "collapsed": true
   },
   "outputs": [],
   "source": [
    "def Pulse(num_pulses, color, led1 = 0, led2 = 79):\n",
    "    ## Step-up intensity by 10% increments, then step down by the same every 0.1 seconds. total time = 2 sec\n",
    "    \n",
    "    intensity = np.arange(0,1.1,0.1) \n",
    "\n",
    "    for i in intensity:\n",
    "        color_new = (int(color[0]*i),int(color[1]*i),int(color[2]*i)) \n",
    "        # There is probably a more elegant way to do this.. \n",
    "        #print color_new\n",
    "        led.fill(color_new, led1, led2)\n",
    "        led.update()\n",
    "        time.sleep(0.1)\n",
    "\n",
    "    for i in reversed(intensity):\n",
    "        color_new = (int(color[0]*i),int(color[1]*i),int(color[2]*i)) \n",
    "        #print color_new\n",
    "        led.fill(color_new, led1, led2)\n",
    "        led.update()\n",
    "        time.sleep(0.1)        "
   ]
  }
 ],
 "metadata": {
  "kernelspec": {
   "display_name": "Python 3",
   "language": "python",
   "name": "python3"
  },
  "language_info": {
   "codemirror_mode": {
    "name": "ipython",
    "version": 3
   },
   "file_extension": ".py",
   "mimetype": "text/x-python",
   "name": "python",
   "nbconvert_exporter": "python",
   "pygments_lexer": "ipython3",
   "version": "3.4.3"
  }
 },
 "nbformat": 4,
 "nbformat_minor": 0
}
