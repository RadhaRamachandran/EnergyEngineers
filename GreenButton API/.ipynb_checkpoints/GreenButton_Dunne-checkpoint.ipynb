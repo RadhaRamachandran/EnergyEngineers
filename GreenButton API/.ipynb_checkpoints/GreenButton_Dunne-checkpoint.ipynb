{
 "cells": [
  {
   "cell_type": "markdown",
   "metadata": {},
   "source": [
    "### Import libraries"
   ]
  },
  {
   "cell_type": "code",
   "execution_count": 1,
   "metadata": {
    "collapsed": false
   },
   "outputs": [],
   "source": [
    "import csv\n",
    "import numpy as np\n",
    "import time\n",
    "\n",
    "from datetime import datetime\n",
    "\n",
    "from bibliopixel import *\n",
    "from bibliopixel.drivers.LPD8806 import *\n",
    "from bibliopixel import LEDStrip\n",
    "import bibliopixel.colors as colors"
   ]
  },
  {
   "cell_type": "markdown",
   "metadata": {},
   "source": [
    "### Generating color scale"
   ]
  },
  {
   "cell_type": "code",
   "execution_count": 2,
   "metadata": {
    "collapsed": true
   },
   "outputs": [],
   "source": [
    "red = 0\n",
    "green = 100\n",
    "stepSize = 50\n",
    "color_gn_rd = []\n",
    "color_gn_rd.append((red, green, 0)) ## the lights are GRB format"
   ]
  },
  {
   "cell_type": "code",
   "execution_count": 3,
   "metadata": {
    "collapsed": false
   },
   "outputs": [],
   "source": [
    "while(red < 205): ## start with green and increase red\n",
    "    red += stepSize;\n",
    "    color_gn_rd.append((red, green, 0))\n",
    "\n",
    "while(green > 0): ## start with red + green and decrease green\n",
    "    green -= stepSize;\n",
    "    if(green < 6):\n",
    "        green = 0; \n",
    "    color_gn_rd.append((red, green, 0)); \n",
    "    \n",
    "total_colors = len(color_gn_rd)"
   ]
  },
  {
   "cell_type": "markdown",
   "metadata": {},
   "source": [
    "### Setting up LEDs"
   ]
  },
  {
   "cell_type": "code",
   "execution_count": null,
   "metadata": {
    "collapsed": true
   },
   "outputs": [],
   "source": [
    "LedsPerSide = 10\n",
    "numLeds= LedsPerSide*4*2 ##x/side * 4 sides * 2 levels\n",
    "driver=DriverLPD8806(numLeds, ChannelOrder.BRG)\n",
    "led=LEDStrip(driver)"
   ]
  },
  {
   "cell_type": "markdown",
   "metadata": {},
   "source": [
    "### Defining Flashing modes"
   ]
  },
  {
   "cell_type": "code",
   "execution_count": 4,
   "metadata": {
    "collapsed": true
   },
   "outputs": [],
   "source": [
    "def led_set(start_position, numLEDs, color): ## Fills the colors\n",
    "    led.fill(color, start=start_position,end=start_position+numLEDs)\n",
    "    led.update()\n",
    "    #print color\n",
    "    return\n",
    "\n",
    "def led_pulse(start_position, numLEDs, color):\n",
    "    ## Step-up intensity by 10% increments, then step down by the same every 0.1 seconds. total time = 4 sec\n",
    "    \n",
    "    intensity = np.arange(0,1.1,0.1) \n",
    "\n",
    "    for i in intensity:\n",
    "        color_new = (int(color[0]*i),int(color[1]*i),int(color[2]*i)) \n",
    "        # There is probably a more elegant way to do this.. \n",
    "        #print color_new\n",
    "        led.fill(color_new, start=start_position,end=start_position+numLEDs)\n",
    "        led.update()\n",
    "        time.sleep(0.1)\n",
    "\n",
    "    for i in reversed(intensity):\n",
    "        color_new = (int(color[0]*i),int(color[1]*i),int(color[2]*i)) \n",
    "        #print color_new\n",
    "        led.fill(color_new, start=start_position,end=start_position+numLEDs)\n",
    "        led.update()\n",
    "        time.sleep(0.1)        "
   ]
  },
  {
   "cell_type": "markdown",
   "metadata": {},
   "source": [
    "### Displaying Daily Total Values for the entire year of data"
   ]
  },
  {
   "cell_type": "code",
   "execution_count": 5,
   "metadata": {
    "collapsed": false
   },
   "outputs": [],
   "source": [
    "def yearly_data():\n",
    "    time_stamp = []\n",
    "    value = []\n",
    "    with open('df_DailyAverage_Dunne.csv') as f:\n",
    "        cf = csv.DictReader(f, fieldnames=['time_stamp', 'value'])\n",
    "        for row in cf:\n",
    "            time_stamp.append(row['time_stamp'])\n",
    "            value.append(float(row['value']))\n",
    "            max_value = max(value)\n",
    "            min_value = min(value)\n",
    "            ScalingSteps = (max_value + 0.1 - min_value)/(total_colors)\n",
    "    while (True):\n",
    "        print 'Starting Display'\n",
    "        print 'Press \\'Control + C\\' to stop'\n",
    "        \n",
    "        for ts, val in zip(time_stamp,value):\n",
    "            print 'Date: ', ts\n",
    "            print 'Average use: ', val\n",
    "            color_index = int((val - min_value)/ScalingSteps)\n",
    "            #print color_index\n",
    "            #print color_index\n",
    "            color = color_gn_rd[color_index]\n",
    "            led_set(0, 80, color)\n",
    "            time.sleep(0.5)"
   ]
  },
  {
   "cell_type": "markdown",
   "metadata": {},
   "source": [
    "### Displaying Daily Energy Usage on Bottom with last 30 days' average on Top"
   ]
  },
  {
   "cell_type": "code",
   "execution_count": 6,
   "metadata": {
    "collapsed": false
   },
   "outputs": [],
   "source": [
    "def daily_vs_past30days():\n",
    "    time_stamp = []\n",
    "    value = []\n",
    "    with open('df_DailyAverage_Dunne.csv') as f:\n",
    "        cf = csv.DictReader(f, fieldnames=['time_stamp', 'value'])\n",
    "        for row in cf:\n",
    "            time_stamp.append(row['time_stamp'])\n",
    "            value.append(float(row['value']))\n",
    "            \n",
    "    average = []\n",
    "    with open('df_RollingMean.csv') as f:\n",
    "        cf = csv.DictReader(f, fieldnames=['time_stamp', 'value'])\n",
    "        for row in cf:\n",
    "            try:\n",
    "                average.append(float(row['value']))\n",
    "            except:\n",
    "                average.append(float('nan'))\n",
    "    max_value = max(value)\n",
    "    min_value = min(value)\n",
    "    ScalingSteps = (max_value + 0.1 - min_value)/total_colors\n",
    "            \n",
    "    while (True):\n",
    "        print 'Starting Display'\n",
    "        print 'Press \\'Control + C\\' to stop'\n",
    "\n",
    "        for ts, val, av in zip(time_stamp, value, average):\n",
    "            print 'Date: ', ts\n",
    "            print 'Total use: ', val\n",
    "            color_index = int((val-min_value)/ScalingSteps)\n",
    "\n",
    "            # print color_index\n",
    "            color = color_gn_rd[color_index]\n",
    "            led_set(0, 40, color)\n",
    "\n",
    "            print 'Last 30 days average: ', av\n",
    "            try:\n",
    "                color_index = int(av/ScalingSteps)\n",
    "                color = color_gn_rd[color_index]\n",
    "                led_set(40, 80, color)\n",
    "\n",
    "            except:\n",
    "                color = (0,0,0)\n",
    "                led_set(40, 80, color)\n",
    "\n",
    "            time.sleep(0.4)\n",
    "    "
   ]
  },
  {
   "cell_type": "markdown",
   "metadata": {},
   "source": [
    "### Displaying 1 Week's Energy Use (res: every half-hour )"
   ]
  },
  {
   "cell_type": "code",
   "execution_count": 7,
   "metadata": {
    "collapsed": false
   },
   "outputs": [],
   "source": [
    "def OneWeek_data():\n",
    "    time_stamp = []\n",
    "    value = []\n",
    "    with open('df_1Week_Dunne.csv') as f:\n",
    "        cf = csv.DictReader(f, fieldnames=['time_stamp', 'value'])\n",
    "        for row in cf:\n",
    "            time_stamp.append(row['time_stamp'])\n",
    "            value.append(float(row['value']))\n",
    "\n",
    "    days = ['Saturday', 'Sunday', 'Monday', 'Tuesday', 'Wednesday', 'Thursday', 'Friday']\n",
    "    max_value = max(value)\n",
    "    min_value = 10 # there is a zero value that looks wrong. \n",
    "                   # There is a better way to avoid zero values. I will remove them soon. \n",
    "    ScalingSteps = (max_value + 0.1 - 10)/total_colors\n",
    "    date = []\n",
    "    while (True):\n",
    "        print 'Starting Display'\n",
    "        print 'Press \\'Control + C\\' to stop'\n",
    "        \n",
    "        count = 0\n",
    "        for ts, val in zip(time_stamp, value):\n",
    "            \n",
    "            \n",
    "            if(date != time.strftime(\"%Y-%m-%d\",  time.strptime(ts, \"%Y-%m-%d %H:%M:%S\"))):\n",
    "                print days[count]\n",
    "                led_pulse(0, 80, (0,0,255))\n",
    "                count = count + 1\n",
    "\n",
    "            print 'Time: ', ts\n",
    "            print 'Electricity Usage: ', val\n",
    "            color_index = int((val)/ScalingSteps)\n",
    "\n",
    "            #print color_index\n",
    "            try:\n",
    "                color = color_gn_rd[color_index]\n",
    "                led_set(0, 80, color)\n",
    "                time.sleep(0.4)\n",
    "            except: \n",
    "                color = color_gn_rd[0]\n",
    "                led_set(0, 80, color)\n",
    "                time.sleep(0.4)\n",
    "                \n",
    "\n",
    "            date = time.strftime(\"%Y-%m-%d\",  time.strptime(ts, \"%Y-%m-%d %H:%M:%S\"))"
   ]
  },
  {
   "cell_type": "code",
   "execution_count": 8,
   "metadata": {
    "collapsed": false
   },
   "outputs": [
    {
     "name": "stdout",
     "output_type": "stream",
     "text": [
      "Functions Available:\n",
      "yearly_data()\n",
      "daily_vs_past30days()\n",
      "OneWeek_data()\n"
     ]
    }
   ],
   "source": [
    "print 'Functions Available:'\n",
    "print 'yearly_data()'\n",
    "print 'daily_vs_past30days()'\n",
    "print 'OneWeek_data()'"
   ]
  }
 ],
 "metadata": {
  "kernelspec": {
   "display_name": "Python 2",
   "language": "python",
   "name": "python2"
  },
  "language_info": {
   "codemirror_mode": {
    "name": "ipython",
    "version": 2
   },
   "file_extension": ".py",
   "mimetype": "text/x-python",
   "name": "python",
   "nbconvert_exporter": "python",
   "pygments_lexer": "ipython2",
   "version": "2.7.10"
  }
 },
 "nbformat": 4,
 "nbformat_minor": 0
}
