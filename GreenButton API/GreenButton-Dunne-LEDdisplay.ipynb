{
 "cells": [
  {
   "cell_type": "markdown",
   "metadata": {},
   "source": [
    "### Import libraries"
   ]
  },
  {
   "cell_type": "code",
   "execution_count": 1,
   "metadata": {
    "collapsed": false
   },
   "outputs": [],
   "source": [
    "%matplotlib inline\n",
    "\n",
    "import csv\n",
    "import numpy as np\n",
    "import matplotlib.pyplot as plt\n",
    "import pandas as pd\n",
    "from pandas.io.json import json_normalize\n",
    "\n",
    "import matplotlib\n",
    "import matplotlib.pyplot as plt\n",
    "import plotly.plotly as py\n",
    "import plotly.tools as tls\n",
    "from plotly.graph_objs import *\n",
    "\n",
    "import time\n",
    "\n",
    "from datetime import datetime\n",
    "from dateutil import tz\n",
    "\n",
    "from lxml import objectify\n",
    "\n",
    "from bibliopixel import *\n",
    "from bibliopixel.drivers.LPD8806 import *\n",
    "from bibliopixel import LEDStrip\n",
    "import bibliopixel.colors as colors"
   ]
  },
  {
   "cell_type": "code",
   "execution_count": 2,
   "metadata": {
    "collapsed": false
   },
   "outputs": [],
   "source": [
    "## read data\n",
    "df_total = pd.read_pickle('All_meters_concat')\n",
    "df_new = pd.read_pickle('Dunne_Daily_Average')"
   ]
  },
  {
   "cell_type": "markdown",
   "metadata": {},
   "source": [
    "### Generating color scale"
   ]
  },
  {
   "cell_type": "code",
   "execution_count": 3,
   "metadata": {
    "collapsed": true
   },
   "outputs": [],
   "source": [
    "red = 0\n",
    "green = 255\n",
    "stepSize = 50\n",
    "color_gn_rd = []\n",
    "color_gn_rd.append((red, green, 0)) ## the lights are GRB format"
   ]
  },
  {
   "cell_type": "code",
   "execution_count": 4,
   "metadata": {
    "collapsed": false
   },
   "outputs": [
    {
     "data": {
      "text/plain": [
       "11"
      ]
     },
     "execution_count": 4,
     "metadata": {},
     "output_type": "execute_result"
    }
   ],
   "source": [
    "while(red < 255): ## start with green and increase red\n",
    "    red += stepSize;\n",
    "    if(red > 245):\n",
    "        red = 255; \n",
    "    color_gn_rd.append((red, green, 0))\n",
    "\n",
    "while(green > 0): ## start with red + green and decrease green\n",
    "    green -= stepSize;\n",
    "    if(green < 6):\n",
    "        green = 0; \n",
    "    color_gn_rd.append((red, green, 0)); \n",
    "    \n",
    "total_colors = len(color_gn_rd)"
   ]
  },
  {
   "cell_type": "markdown",
   "metadata": {},
   "source": [
    "### Setting up LEDs"
   ]
  },
  {
   "cell_type": "code",
   "execution_count": 5,
   "metadata": {
    "collapsed": false
   },
   "outputs": [
    {
     "name": "stderr",
     "output_type": "stream",
     "text": [
      "ERROR - spi_driver_base - Unable to import spidev. Please install. pip install spidev\n",
      "ERROR:BiblioPixel:Unable to import spidev. Please install. pip install spidev\n"
     ]
    },
    {
     "ename": "ImportError",
     "evalue": "Unable to import spidev. Please install. pip install spidev",
     "output_type": "error",
     "traceback": [
      "\u001b[0;31m---------------------------------------------------------------------------\u001b[0m",
      "\u001b[0;31mImportError\u001b[0m                               Traceback (most recent call last)",
      "\u001b[0;32m<ipython-input-5-a46884187669>\u001b[0m in \u001b[0;36m<module>\u001b[0;34m()\u001b[0m\n\u001b[1;32m      1\u001b[0m \u001b[0mLedsPerSide\u001b[0m \u001b[0;34m=\u001b[0m \u001b[0;36m10\u001b[0m\u001b[0;34m\u001b[0m\u001b[0m\n\u001b[1;32m      2\u001b[0m \u001b[0mnumLeds\u001b[0m\u001b[0;34m=\u001b[0m \u001b[0mLedsPerSide\u001b[0m\u001b[0;34m*\u001b[0m\u001b[0;36m4\u001b[0m\u001b[0;34m*\u001b[0m\u001b[0;36m2\u001b[0m \u001b[0;31m##x/side * 4 sides * 2 levels\u001b[0m\u001b[0;34m\u001b[0m\u001b[0m\n\u001b[0;32m----> 3\u001b[0;31m \u001b[0mdriver\u001b[0m\u001b[0;34m=\u001b[0m\u001b[0mDriverLPD8806\u001b[0m\u001b[0;34m(\u001b[0m\u001b[0mnumLeds\u001b[0m\u001b[0;34m,\u001b[0m \u001b[0mChannelOrder\u001b[0m\u001b[0;34m.\u001b[0m\u001b[0mBRG\u001b[0m\u001b[0;34m)\u001b[0m\u001b[0;34m\u001b[0m\u001b[0m\n\u001b[0m\u001b[1;32m      4\u001b[0m \u001b[0mled\u001b[0m\u001b[0;34m=\u001b[0m\u001b[0mLEDStrip\u001b[0m\u001b[0;34m(\u001b[0m\u001b[0mdriver\u001b[0m\u001b[0;34m)\u001b[0m\u001b[0;34m\u001b[0m\u001b[0m\n",
      "\u001b[0;32m/usr/local/lib/python2.7/site-packages/bibliopixel/drivers/LPD8806.pyc\u001b[0m in \u001b[0;36m__init__\u001b[0;34m(self, num, c_order, use_py_spi, dev, SPISpeed)\u001b[0m\n\u001b[1;32m      5\u001b[0m \u001b[0;34m\u001b[0m\u001b[0m\n\u001b[1;32m      6\u001b[0m     \u001b[0;32mdef\u001b[0m \u001b[0m__init__\u001b[0m\u001b[0;34m(\u001b[0m\u001b[0mself\u001b[0m\u001b[0;34m,\u001b[0m \u001b[0mnum\u001b[0m\u001b[0;34m,\u001b[0m \u001b[0mc_order\u001b[0m \u001b[0;34m=\u001b[0m \u001b[0mChannelOrder\u001b[0m\u001b[0;34m.\u001b[0m\u001b[0mRGB\u001b[0m\u001b[0;34m,\u001b[0m \u001b[0muse_py_spi\u001b[0m \u001b[0;34m=\u001b[0m \u001b[0mTrue\u001b[0m\u001b[0;34m,\u001b[0m \u001b[0mdev\u001b[0m\u001b[0;34m=\u001b[0m\u001b[0;34m\"/dev/spidev0.0\"\u001b[0m\u001b[0;34m,\u001b[0m \u001b[0mSPISpeed\u001b[0m \u001b[0;34m=\u001b[0m \u001b[0;36m2\u001b[0m\u001b[0;34m)\u001b[0m\u001b[0;34m:\u001b[0m\u001b[0;34m\u001b[0m\u001b[0m\n\u001b[0;32m----> 7\u001b[0;31m         \u001b[0msuper\u001b[0m\u001b[0;34m(\u001b[0m\u001b[0mDriverLPD8806\u001b[0m\u001b[0;34m,\u001b[0m \u001b[0mself\u001b[0m\u001b[0;34m)\u001b[0m\u001b[0;34m.\u001b[0m\u001b[0m__init__\u001b[0m\u001b[0;34m(\u001b[0m\u001b[0mnum\u001b[0m\u001b[0;34m,\u001b[0m \u001b[0mc_order\u001b[0m \u001b[0;34m=\u001b[0m \u001b[0mc_order\u001b[0m\u001b[0;34m,\u001b[0m \u001b[0muse_py_spi\u001b[0m \u001b[0;34m=\u001b[0m \u001b[0muse_py_spi\u001b[0m\u001b[0;34m,\u001b[0m \u001b[0mdev\u001b[0m \u001b[0;34m=\u001b[0m \u001b[0mdev\u001b[0m\u001b[0;34m,\u001b[0m \u001b[0mSPISpeed\u001b[0m \u001b[0;34m=\u001b[0m \u001b[0mSPISpeed\u001b[0m\u001b[0;34m)\u001b[0m\u001b[0;34m\u001b[0m\u001b[0m\n\u001b[0m\u001b[1;32m      8\u001b[0m \u001b[0;34m\u001b[0m\u001b[0m\n\u001b[1;32m      9\u001b[0m         \u001b[0;31m# Color calculations from\u001b[0m\u001b[0;34m\u001b[0m\u001b[0;34m\u001b[0m\u001b[0m\n",
      "\u001b[0;32m/usr/local/lib/python2.7/site-packages/bibliopixel/drivers/spi_driver_base.pyc\u001b[0m in \u001b[0;36m__init__\u001b[0;34m(self, num, c_order, use_py_spi, dev, SPISpeed)\u001b[0m\n\u001b[1;32m     39\u001b[0m                 \u001b[0;32mraise\u001b[0m \u001b[0mValueError\u001b[0m\u001b[0;34m(\u001b[0m\u001b[0merror\u001b[0m\u001b[0;34m)\u001b[0m\u001b[0;34m\u001b[0m\u001b[0m\n\u001b[1;32m     40\u001b[0m \u001b[0;34m\u001b[0m\u001b[0m\n\u001b[0;32m---> 41\u001b[0;31m             \u001b[0mself\u001b[0m\u001b[0;34m.\u001b[0m\u001b[0m_bootstrapSPIDev\u001b[0m\u001b[0;34m(\u001b[0m\u001b[0;34m)\u001b[0m\u001b[0;34m\u001b[0m\u001b[0m\n\u001b[0m\u001b[1;32m     42\u001b[0m             \u001b[0;32mimport\u001b[0m \u001b[0mspidev\u001b[0m\u001b[0;34m\u001b[0m\u001b[0m\n\u001b[1;32m     43\u001b[0m             \u001b[0mself\u001b[0m\u001b[0;34m.\u001b[0m\u001b[0mspi\u001b[0m \u001b[0;34m=\u001b[0m \u001b[0mspidev\u001b[0m\u001b[0;34m.\u001b[0m\u001b[0mSpiDev\u001b[0m\u001b[0;34m(\u001b[0m\u001b[0;34m)\u001b[0m\u001b[0;34m\u001b[0m\u001b[0m\n",
      "\u001b[0;32m/usr/local/lib/python2.7/site-packages/bibliopixel/drivers/spi_driver_base.pyc\u001b[0m in \u001b[0;36m_bootstrapSPIDev\u001b[0;34m(self)\u001b[0m\n\u001b[1;32m     57\u001b[0m                 \u001b[0merror\u001b[0m \u001b[0;34m=\u001b[0m \u001b[0;34m\"Unable to import spidev. Please install. pip install spidev\"\u001b[0m\u001b[0;34m\u001b[0m\u001b[0m\n\u001b[1;32m     58\u001b[0m                 \u001b[0mlog\u001b[0m\u001b[0;34m.\u001b[0m\u001b[0mlogger\u001b[0m\u001b[0;34m.\u001b[0m\u001b[0merror\u001b[0m\u001b[0;34m(\u001b[0m\u001b[0merror\u001b[0m\u001b[0;34m)\u001b[0m\u001b[0;34m\u001b[0m\u001b[0m\n\u001b[0;32m---> 59\u001b[0;31m                 \u001b[0;32mraise\u001b[0m \u001b[0mImportError\u001b[0m\u001b[0;34m(\u001b[0m\u001b[0merror\u001b[0m\u001b[0;34m)\u001b[0m\u001b[0;34m\u001b[0m\u001b[0m\n\u001b[0m\u001b[1;32m     60\u001b[0m \u001b[0;34m\u001b[0m\u001b[0m\n\u001b[1;32m     61\u001b[0m         \u001b[0;32mif\u001b[0m \u001b[0;32mnot\u001b[0m \u001b[0mos\u001b[0m\u001b[0;34m.\u001b[0m\u001b[0mpath\u001b[0m\u001b[0;34m.\u001b[0m\u001b[0mexists\u001b[0m\u001b[0;34m(\u001b[0m\u001b[0mself\u001b[0m\u001b[0;34m.\u001b[0m\u001b[0mdev\u001b[0m\u001b[0;34m)\u001b[0m\u001b[0;34m:\u001b[0m\u001b[0;34m\u001b[0m\u001b[0m\n",
      "\u001b[0;31mImportError\u001b[0m: Unable to import spidev. Please install. pip install spidev"
     ]
    }
   ],
   "source": [
    "LedsPerSide = 10\n",
    "numLeds= LedsPerSide*4*2 ##x/side * 4 sides * 2 levels\n",
    "driver=DriverLPD8806(numLeds, ChannelOrder.BRG)\n",
    "led=LEDStrip(driver)"
   ]
  },
  {
   "cell_type": "markdown",
   "metadata": {},
   "source": [
    "### Defining Flashing modes"
   ]
  },
  {
   "cell_type": "code",
   "execution_count": 6,
   "metadata": {
    "collapsed": true
   },
   "outputs": [],
   "source": [
    "def led_set(start_position, numLEDs, color): ## Fills the colors\n",
    "    #led.fill(color, start=start_position,end=start_position+numLEDs)\n",
    "    #led.update()\n",
    "    print color\n",
    "    return\n",
    "\n",
    "def led_pulse(start_position, numLEDs, color):\n",
    "    ## Step-up intensity by 10% increments, then step down by the same every 0.1 seconds. total time = 4 sec\n",
    "    \n",
    "    intensity = np.arange(0,1.1,0.1) \n",
    "\n",
    "    for i in intensity:\n",
    "        color_new = (int(color[0]*i),int(color[1]*i),int(color[2]*i)) \n",
    "        # There is probably a more elegant way to do this.. \n",
    "        print color_new\n",
    "        #led.fill(color_new, start=start_position,end=start_position+numLEDs)\n",
    "        #led.update()\n",
    "        time.sleep(0.1)\n",
    "\n",
    "    for i in reversed(intensity):\n",
    "        color_new = (int(color[0]*i),int(color[1]*i),int(color[2]*i)) \n",
    "        print color_new\n",
    "        #led.fill(color_new, start=start_position,end=start_position+numLEDs)\n",
    "        #led.update()\n",
    "        time.sleep(0.1)        "
   ]
  },
  {
   "cell_type": "markdown",
   "metadata": {},
   "source": [
    "### Calculate Average Data"
   ]
  },
  {
   "cell_type": "code",
   "execution_count": 7,
   "metadata": {
    "collapsed": false
   },
   "outputs": [],
   "source": [
    "#Added by Month\n",
    "\n",
    "df_total['Month'] = pd.DatetimeIndex(df_total['time_stamp']).month\n",
    "df_Monthlygroup = df_total.groupby('Month')\n",
    "df_MonthlyAverage = df_Monthlygroup['value'].sum()\n",
    "\n",
    "#Added by Day\n",
    "\n",
    "df_total['Date'] = pd.DatetimeIndex(df_total['time_stamp']).date\n",
    "df_Dailygroup = df_total.groupby('Date')\n",
    "df_DailyAverage = df_Dailygroup['value'].sum()\n",
    "df_RollingMean = pd.rolling_mean(df_DailyAverage, 30)\n"
   ]
  },
  {
   "cell_type": "markdown",
   "metadata": {},
   "source": [
    "### Displaying Daily Total Values for the entire year of data"
   ]
  },
  {
   "cell_type": "code",
   "execution_count": 8,
   "metadata": {
    "collapsed": true
   },
   "outputs": [],
   "source": [
    "def yearly_data():\n",
    "    while (True):\n",
    "        print 'Starting Display'\n",
    "        print 'Press \\'Control + C\\' to stop'\n",
    "        max_value = df_DailyAverage.max()\n",
    "        ScalingSteps = (max_value + 0.1)/(total_colors)\n",
    "        for item in df_DailyAverage.iteritems():\n",
    "            print 'Date: ', item[0]\n",
    "            print 'Average use: ', item [1]\n",
    "            color_index = int(item[1]/ScalingSteps)\n",
    "            print color_index\n",
    "            # print color_index\n",
    "            color = color_gn_rd[color_index]\n",
    "            led_set(0, 80, color)"
   ]
  },
  {
   "cell_type": "markdown",
   "metadata": {},
   "source": [
    "### Displaying Daily Energy Usage on Bottom with last 30 days' average on Top"
   ]
  },
  {
   "cell_type": "code",
   "execution_count": 9,
   "metadata": {
    "collapsed": false
   },
   "outputs": [],
   "source": [
    "def daily_vs_past30days():\n",
    "    while (True):\n",
    "        print 'Starting Display'\n",
    "        print 'Press \\'Control + C\\' to stop'\n",
    "        max_value = df_DailyAverage.max()\n",
    "        ScalingSteps = (max_value + 0.1)/total_colors\n",
    "        count = 0\n",
    "        for item in df_DailyAverage.iteritems():\n",
    "            print 'Date: ', item[0]\n",
    "            print 'Total use: ', item [1]\n",
    "            color_index = int(item[1]/ScalingSteps)\n",
    "\n",
    "            # print color_index\n",
    "            color = color_gn_rd[color_index]\n",
    "            led_set(0, 40, color)\n",
    "\n",
    "            print 'Last 30 days average: ', df_RollingMean[count]\n",
    "            try:\n",
    "                color_index = int(df_RollingMean[count]/ScalingSteps)\n",
    "                color = color_gn_rd[color_index]\n",
    "                led_set(40, 80, color)\n",
    "\n",
    "            except:\n",
    "                color = (0,0,0)\n",
    "                led_set(40, 80, color)\n",
    "\n",
    "            count = count + 1\n",
    "\n",
    "    "
   ]
  },
  {
   "cell_type": "markdown",
   "metadata": {},
   "source": [
    "### Displaying 1 Week's Energy Use (res: every half-hour )"
   ]
  },
  {
   "cell_type": "code",
   "execution_count": 10,
   "metadata": {
    "collapsed": false
   },
   "outputs": [],
   "source": [
    "def OneWeek_data():\n",
    "    date = pd.DatetimeIndex(df_1Week.index).date[1]\n",
    "    while (True):\n",
    "        print 'Starting Display'\n",
    "        print 'Press \\'Control + C\\' to stop'\n",
    "\n",
    "        for item in df_1Week.iteritems():\n",
    "            ts = item[0]\n",
    "\n",
    "            type(ts.date)\n",
    "            if(date != time.strftime(\"%Y-%m-%d\",  time.strptime(str(ts), \"%Y-%m-%d %H:%M:%S\"))):\n",
    "                led_pulse(0, 80, (0,0,255))\n",
    "\n",
    "            print 'Time: ', item[0]\n",
    "            print 'Electricity Usage: ', item [1]\n",
    "            color_index = int((item[1])/ScalingSteps)\n",
    "\n",
    "            print color_index\n",
    "            color = color_gn_rd[color_index]\n",
    "            led_set(0, 80, color)\n",
    "\n",
    "            date = time.strftime(\"%Y-%m-%d\",  time.strptime(str(ts), \"%Y-%m-%d %H:%M:%S\"))"
   ]
  },
  {
   "cell_type": "code",
   "execution_count": 11,
   "metadata": {
    "collapsed": false
   },
   "outputs": [
    {
     "name": "stdout",
     "output_type": "stream",
     "text": [
      "Functions Available:\n",
      "yearly_data()\n",
      "daily_vs_past30days()\n",
      "OneWeek_data()\n"
     ]
    }
   ],
   "source": [
    "print 'Functions Available:'\n",
    "print 'yearly_data()'\n",
    "print 'daily_vs_past30days()'\n",
    "print 'OneWeek_data()'"
   ]
  },
  {
   "cell_type": "code",
   "execution_count": null,
   "metadata": {
    "collapsed": true
   },
   "outputs": [],
   "source": []
  }
 ],
 "metadata": {
  "kernelspec": {
   "display_name": "Python 2",
   "language": "python",
   "name": "python2"
  },
  "language_info": {
   "codemirror_mode": {
    "name": "ipython",
    "version": 2
   },
   "file_extension": ".py",
   "mimetype": "text/x-python",
   "name": "python",
   "nbconvert_exporter": "python",
   "pygments_lexer": "ipython2",
   "version": "2.7.10"
  }
 },
 "nbformat": 4,
 "nbformat_minor": 0
}
