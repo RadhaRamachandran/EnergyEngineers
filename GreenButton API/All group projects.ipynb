{
 "cells": [
  {
   "cell_type": "code",
   "execution_count": 47,
   "metadata": {
    "collapsed": false
   },
   "outputs": [],
   "source": [
    "def OpenDailyData(filename):\n",
    "    time_stamp = []\n",
    "    value = []\n",
    "    with open(filename) as f:\n",
    "        cf = csv.DictReader(f, fieldnames=['time_stamp', 'value'])\n",
    "        for row in cf:\n",
    "            try:\n",
    "                time_stamp.append(datetime.datetime.strptime(row['time_stamp'], \"%Y-%m-%d\"))\n",
    "                \n",
    "            except:\n",
    "                time_stamp.append(datetime.datetime.strptime(row['time_stamp'], \"%Y-%m-%d %H:%M:%S\"))\n",
    "            value.append(float(row['value']))\n",
    "                \n",
    "    \n",
    "    return(time_stamp, value)"
   ]
  },
  {
   "cell_type": "code",
   "execution_count": 74,
   "metadata": {
    "collapsed": false
   },
   "outputs": [],
   "source": [
    "def OpenMonthlyData(filename):\n",
    "    month = []\n",
    "    year = []\n",
    "    value = []\n",
    "    with open(filename) as f:\n",
    "        cf = csv.DictReader(f, fieldnames=['month','year', 'value'])\n",
    "        for row in cf:\n",
    "            #print(row)\n",
    "            month.append(row['month'])\n",
    "            year.append(row['year'])\n",
    "            value.append(float(row['value']))\n",
    "                \n",
    "    \n",
    "    return(month, year, value)"
   ]
  },
  {
   "cell_type": "code",
   "execution_count": 62,
   "metadata": {
    "collapsed": true
   },
   "outputs": [],
   "source": [
    "def ColorScaler(color_low, color_high, value, min_value = 0, max_value = 0):\n",
    "    if((min_value == 0) & (max_value == 0)):\n",
    "        min_value = min(value)\n",
    "        max_value = max(value)\n",
    "    clr_data = []\n",
    "    \n",
    "    for val in value:\n",
    "        ratio = (val - min_value)/(max_value-min_value)\n",
    "        new_color = (int(color_high[0]*ratio+color_low[0]*(1-ratio)),\n",
    "                     int(color_high[1]*ratio+color_low[1]*(1-ratio)), \n",
    "                     int(color_high[2]*ratio+color_low[2]*(1-ratio)))\n",
    "        #print(new_color)\n",
    "        clr_data.append(new_color)\n",
    "                \n",
    "    return clr_data\n"
   ]
  },
  {
   "cell_type": "code",
   "execution_count": 100,
   "metadata": {
    "collapsed": false
   },
   "outputs": [],
   "source": [
    "def NumScaler(led1, led2, value, min_value = 0, max_value = 0):\n",
    "    if((min_value == 0) & (max_value == 0)):\n",
    "        min_value = min(value)\n",
    "        max_value = max(value)\n",
    "    \n",
    "    num_data = []\n",
    "    \n",
    "    for val in value:\n",
    "        ratio = (val - min_value)/(max_value-min_value)\n",
    "        print(ratio)\n",
    "        new_num = led1 + int((led2-led1)*ratio)\n",
    "        print(new_num)\n",
    "        num_data.append(new_num)\n",
    "\n",
    "        \n",
    "    return num_data"
   ]
  },
  {
   "cell_type": "code",
   "execution_count": null,
   "metadata": {
    "collapsed": true
   },
   "outputs": [],
   "source": [
    "def Flash(num_flashes, delay, color, led1 = 0, led2 = 79):\n",
    "    for i in range(num_flashes):\n",
    "        led.fill(color, led1, led2)\n",
    "        led.update\n",
    "        time.sleep(delay)"
   ]
  },
  {
   "cell_type": "markdown",
   "metadata": {},
   "source": [
    "### Group 1:\n",
    "###### Wants the top of the lamp to show data from the summer; bottom to show data from the winter.  Display monthly average for each where the number of leds that light up indicated the amount of energy used.  since its monthly average the data will be updated 3x then repeat."
   ]
  },
  {
   "cell_type": "code",
   "execution_count": null,
   "metadata": {
    "collapsed": true
   },
   "outputs": [],
   "source": [
    "\n",
    "def Group1():\n",
    "    # Step 1: OPEN FILE\n",
    "    # Pick the data on bottom first, then data on top. \n",
    "\n",
    "    [month1, year1, value1] = OpenMonthlyData('Dunne_Winter_Monthly_Average_KW.csv')\n",
    "    [month2, year2, value2] = OpenMonthlyData('Dunne_Summer_Monthly_Average_KW.csv')\n",
    "\n",
    "    #----------------------------------------#\n",
    "        \n",
    "    # Step 2: GET MIN & MAX \n",
    "\n",
    "    # We want both data to display on the same scale. \n",
    "    # We choose the lowest of the lowest and highest of the highest value\n",
    "    min_value1 = min(value1)\n",
    "    max_value1 = max(value1)\n",
    "    \n",
    "    min_value2 = min(value2)\n",
    "    max_value2 = max(value2)\n",
    "    \n",
    "    min_value = min(min_value1,min_value2)\n",
    "    max_value = max(max_value1,max_value2)\n",
    "    \n",
    "    #----------------------------------------#\n",
    "    \n",
    "    # Step 3: SCALE DATA\n",
    "    # Winter on Bottom --> LEDS 0-39. Summer on TOP --> LEDS 40-79\n",
    "\n",
    "    numLED_winter = NumScaler(0, 39, value1, min_value, max_value)\n",
    "    numLED_summer = NumScaler(40, 79, value2, min_value, max_value)\n",
    "\n",
    "    #----------------------------------------#\n",
    "\n",
    "    # Step 4: Display data on LEDs\n",
    "    while (True): ## TO CONTINUOUSLY REPEAT DATA\n",
    "        print ('Press control + C to stop the program')\n",
    "\n",
    "        Flash(###, ###, ###) ## Flash everytime it starts over\n",
    "\n",
    "        summer_color = ###\n",
    "        winter_color = ###\n",
    "\n",
    "        for i in range(3):\n",
    "            led.fill(winter_color, 0, numLED_winter[i])\n",
    "            led.fill(summer_color, 40, numLED_summer[i])\n",
    "            led.update()\n",
    "            time.delay(0.5)\n",
    "        \n",
    "        \n",
    "    "
   ]
  },
  {
   "cell_type": "markdown",
   "metadata": {},
   "source": [
    "### Group 2:\n",
    "###### Top of lamp is Lindblom, bottom is Dunne; using color scale show the daily maximum.  flash at the beginning of a new week."
   ]
  },
  {
   "cell_type": "code",
   "execution_count": null,
   "metadata": {
    "collapsed": true
   },
   "outputs": [],
   "source": [
    "def Group2():\n",
    "    # Step 1: OPEN FILE\n",
    "    # Pick the data on bottom first, then data on top. \n",
    "\n",
    "    [time_stamp1, value1] = OpenDailyData('Dunne_Daily_Max_2015_KWH.csv')\n",
    "    [time_stamp2, value2] = OpenDailyData('Lindblom_Daily_Max_2015_KWH.csv')\n",
    "\n",
    "    #----------------------------------------#\n",
    "        \n",
    "    # Step 2: GET MIN & MAX \n",
    "\n",
    "    # We want both data to display on the same scale. \n",
    "    # We choose the lowest of the lowest and highest of the highest value\n",
    "    min_value1 = min(value1)\n",
    "    max_value1 = max(value1)\n",
    "    \n",
    "    min_value2 = min(value2)\n",
    "    max_value2 = max(value2)\n",
    "    \n",
    "    min_value = min(min_value1,min_value2)\n",
    "    max_value = max(max_value1,max_value2)\n",
    "    \n",
    "    #----------------------------------------#\n",
    "    \n",
    "    # Step 3: SCALE DATA\n",
    "    # Dunne on Bottom --> 0 to 39. Lindblom on TOP --> LEDS 40-79\n",
    "    \n",
    "    color_low = ###\n",
    "    color_high = ###\n",
    "\n",
    "    clr_dunne = ColorScaler(color_low, color_high, value1, min_value, max_value)\n",
    "    clr_lindblom = ColorScaler(color_low, color_high, value2, min_value, max_value)\n",
    "    #----------------------------------------#\n",
    "\n",
    "    # Step 4: Display data on LEDs\n",
    "\n",
    "    count = 1\n",
    "    size = len(clr_dunne)\n",
    "\n",
    "    Flash(###number of times, ###delay, ###color) ## Flash at the beginning\n",
    "\n",
    "    for i in range(size):\n",
    "        led.fill(clr_dunne[i], 0, 39)\n",
    "        led.fill(clr_lindblom[i], 40, 79)\n",
    "        led.update()\n",
    "\n",
    "        if (count == 7):\n",
    "            Flash(###number of times, ###delay, ###color) ## at number = 7, counting from 0. End of the week. \n",
    "            count = 1\n",
    "\n",
    "        count = count + 1\n",
    "        \n",
    "        time.sleep(#pick a time delay)\n",
    "\n",
    "            \n",
    "\n",
    "        \n",
    "        "
   ]
  },
  {
   "cell_type": "markdown",
   "metadata": {},
   "source": [
    "\n",
    "### Group 3: \n",
    "###### Like group 1 but with a color scale instead of a number scale, and daily data average instead of monthly"
   ]
  },
  {
   "cell_type": "code",
   "execution_count": null,
   "metadata": {
    "collapsed": true
   },
   "outputs": [],
   "source": [
    "def Group3():\n",
    "    # Step 1: OPEN FILE\n",
    "    # Pick the data on bottom first, then data on top. \n",
    "\n",
    "    [month1, year1, value1] = OpenDailyData('Dunne_Winter_Daily_Average_KW.csv')\n",
    "    [month2, year2, value2] = OpenDailyData('Dunne_Summer_Daily_Average_KW.csv')\n",
    "\n",
    "    #----------------------------------------#\n",
    "        \n",
    "    # Step 2: GET MIN & MAX \n",
    "\n",
    "    # We want both data to display on the same scale. \n",
    "    # We choose the lowest of the lowest and highest of the highest value\n",
    "    min_value1 = min(value1)\n",
    "    max_value1 = max(value1)\n",
    "    \n",
    "    min_value2 = min(value2)\n",
    "    max_value2 = max(value2)\n",
    "    \n",
    "    min_value = min(min_value1,min_value2)\n",
    "    max_value = max(max_value1,max_value2)\n",
    "    \n",
    "    #----------------------------------------#\n",
    "    \n",
    "    # Step 3: SCALE DATA\n",
    "    # Winter on Bottom --> 0 to 39. Summer on TOP --> LEDS 40-79\n",
    "    \n",
    "    color_low = ###\n",
    "    color_high = ###\n",
    "\n",
    "    clr_winter = ColorScaler(color_low, color_high, value1, min_value, max_value)\n",
    "    clr_summer = ColorScaler(color_low, color_high, value2, min_value, max_value)\n",
    "    #----------------------------------------#\n",
    "\n",
    "    # Step 4: Display data on LEDs\n",
    "\n",
    "    while (True): ## TO CONTINUOUSLY REPEAT DATA\n",
    "        print ('Press control + C to stop the program')\n",
    "\n",
    "        Flash(###, ###, ###) ## Flash everytime it starts over\n",
    "\n",
    "        for i in range(3):\n",
    "            led.fill(clr_winter[i], 0, 39)\n",
    "            led.fill(clr_summer[i], 40, 79)\n",
    "            led.update()\n",
    "            time.delay(### pick a time delay)\n",
    "        \n",
    "        "
   ]
  },
  {
   "cell_type": "markdown",
   "metadata": {},
   "source": [
    "### Group 4:\n",
    "###### wants the top of the lamp to show data from Dunne; bottom to show data from Lindblom. Display monthly averages as colors. All top row lights will flash the same color depending on Dunne’s usage. All bottom row lights will flash the same color depending on Lindblom’s usage. Flash between months. Repeat"
   ]
  },
  {
   "cell_type": "code",
   "execution_count": null,
   "metadata": {
    "collapsed": true
   },
   "outputs": [],
   "source": [
    "def Group4():\n",
    "    # Pick the data on bottom first, then data on top. \n",
    "    \n",
    "    [month1, year1, value1] = OpenMonthlyData('Lindblom_Monthly_Average_2015_KW.csv')\n",
    "    [month2, year2, value2] = OpenMonthlyData('Dunne_Monthly_Average_2015_KW.csv')\n",
    "\n",
    "    #----------------------------------------#\n",
    "        \n",
    "    # Step 2: GET MIN & MAX \n",
    "\n",
    "    # We want both data to display on the same scale. \n",
    "    # We choose the lowest of the lowest and highest of the highest value\n",
    "    min_value1 = min(value1)\n",
    "    max_value1 = max(value1)\n",
    "    \n",
    "    min_value2 = min(value2)\n",
    "    max_value2 = max(value2)\n",
    "    \n",
    "    min_value = min(min_value1,min_value2)\n",
    "    max_value = max(max_value1,max_value2)\n",
    "    \n",
    "    #----------------------------------------#\n",
    "    \n",
    "    # Step 3: SCALE DATA\n",
    "    # Winter on Bottom --> 0 to 39. Summer on TOP --> LEDS 40-79\n",
    "    \n",
    "    color_low = ###\n",
    "    color_high = ###\n",
    "\n",
    "    clr_lindblom = ColorScaler(color_low, color_high, value1, min_value, max_value)\n",
    "    clr_dunne = ColorScaler(color_low, color_high, value2, min_value, max_value)\n",
    "    #----------------------------------------#\n",
    "\n",
    "    # Step 4: Display data on LEDs\n",
    "    \n",
    "    size = len(clr_Lindblom)\n",
    "    for i in range(size):\n",
    "        led.fill(clr_lindblom[i], 0, 39)\n",
    "        led.fill(clr_dunne[i], 40, 79)\n",
    "        led.update()\n",
    "        \n",
    "        time.sleep(#pick a time delay)\n",
    "\n",
    "        Flash(###number of times, ###delay, ###color) ## at number = 7, counting from 0. End of the week. \n",
    "        "
   ]
  }
 ],
 "metadata": {
  "kernelspec": {
   "display_name": "Python 3",
   "language": "python",
   "name": "python3"
  },
  "language_info": {
   "codemirror_mode": {
    "name": "ipython",
    "version": 3
   },
   "file_extension": ".py",
   "mimetype": "text/x-python",
   "name": "python",
   "nbconvert_exporter": "python",
   "pygments_lexer": "ipython3",
   "version": "3.4.3"
  }
 },
 "nbformat": 4,
 "nbformat_minor": 0
}
