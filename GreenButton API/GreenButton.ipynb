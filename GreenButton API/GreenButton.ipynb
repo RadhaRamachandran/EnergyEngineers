{
 "cells": [
  {
   "cell_type": "markdown",
   "metadata": {},
   "source": [
    "### Import libraries"
   ]
  },
  {
   "cell_type": "code",
   "execution_count": 1,
   "metadata": {
    "collapsed": true
   },
   "outputs": [],
   "source": [
    "import requests\n",
    "import json\n",
    "import csv\n",
    "import numpy as np\n",
    "import matplotlib.pyplot as plt\n",
    "import pandas as pd\n",
    "from pandas.io.json import json_normalize\n",
    "import time\n",
    "\n",
    "from lxml import objectify\n",
    "\n",
    "from bibliopixel import *\n",
    "from bibliopixel.drivers.LPD8806 import *\n",
    "from bibliopixel import LEDStrip\n",
    "import bibliopixel.colors as colors"
   ]
  },
  {
   "cell_type": "markdown",
   "metadata": {},
   "source": [
    "### Setting up LED"
   ]
  },
  {
   "cell_type": "code",
   "execution_count": 2,
   "metadata": {
    "collapsed": false
   },
   "outputs": [
    {
     "name": "stderr",
     "output_type": "stream",
     "text": [
      "ERROR - spi_driver_base - Unable to import spidev. Please install. pip install spidev\n",
      "ERROR:BiblioPixel:Unable to import spidev. Please install. pip install spidev\n"
     ]
    },
    {
     "ename": "ImportError",
     "evalue": "Unable to import spidev. Please install. pip install spidev",
     "output_type": "error",
     "traceback": [
      "\u001b[0;31m---------------------------------------------------------------------------\u001b[0m",
      "\u001b[0;31mImportError\u001b[0m                               Traceback (most recent call last)",
      "\u001b[0;32m<ipython-input-2-29c37ffd93b2>\u001b[0m in \u001b[0;36m<module>\u001b[0;34m()\u001b[0m\n\u001b[1;32m      1\u001b[0m \u001b[0mLedsPerSide\u001b[0m \u001b[0;34m=\u001b[0m \u001b[0;36m8\u001b[0m\u001b[0;34m\u001b[0m\u001b[0m\n\u001b[1;32m      2\u001b[0m \u001b[0mnumLeds\u001b[0m\u001b[0;34m=\u001b[0m \u001b[0mLedsPerSide\u001b[0m\u001b[0;34m*\u001b[0m\u001b[0;36m4\u001b[0m\u001b[0;34m*\u001b[0m\u001b[0;36m2\u001b[0m \u001b[0;31m##x/side * 4 sides * 2 levels\u001b[0m\u001b[0;34m\u001b[0m\u001b[0m\n\u001b[0;32m----> 3\u001b[0;31m \u001b[0mdriver\u001b[0m\u001b[0;34m=\u001b[0m\u001b[0mDriverLPD8806\u001b[0m\u001b[0;34m(\u001b[0m\u001b[0mnumLeds\u001b[0m\u001b[0;34m)\u001b[0m\u001b[0;34m\u001b[0m\u001b[0m\n\u001b[0m\u001b[1;32m      4\u001b[0m \u001b[0mled\u001b[0m\u001b[0;34m=\u001b[0m\u001b[0mLEDStrip\u001b[0m\u001b[0;34m(\u001b[0m\u001b[0mdriver\u001b[0m\u001b[0;34m)\u001b[0m\u001b[0;34m\u001b[0m\u001b[0m\n",
      "\u001b[0;32m/usr/local/lib/python2.7/site-packages/bibliopixel/drivers/LPD8806.pyc\u001b[0m in \u001b[0;36m__init__\u001b[0;34m(self, num, c_order, use_py_spi, dev, SPISpeed)\u001b[0m\n\u001b[1;32m      5\u001b[0m \u001b[0;34m\u001b[0m\u001b[0m\n\u001b[1;32m      6\u001b[0m     \u001b[0;32mdef\u001b[0m \u001b[0m__init__\u001b[0m\u001b[0;34m(\u001b[0m\u001b[0mself\u001b[0m\u001b[0;34m,\u001b[0m \u001b[0mnum\u001b[0m\u001b[0;34m,\u001b[0m \u001b[0mc_order\u001b[0m \u001b[0;34m=\u001b[0m \u001b[0mChannelOrder\u001b[0m\u001b[0;34m.\u001b[0m\u001b[0mRGB\u001b[0m\u001b[0;34m,\u001b[0m \u001b[0muse_py_spi\u001b[0m \u001b[0;34m=\u001b[0m \u001b[0mTrue\u001b[0m\u001b[0;34m,\u001b[0m \u001b[0mdev\u001b[0m\u001b[0;34m=\u001b[0m\u001b[0;34m\"/dev/spidev0.0\"\u001b[0m\u001b[0;34m,\u001b[0m \u001b[0mSPISpeed\u001b[0m \u001b[0;34m=\u001b[0m \u001b[0;36m2\u001b[0m\u001b[0;34m)\u001b[0m\u001b[0;34m:\u001b[0m\u001b[0;34m\u001b[0m\u001b[0m\n\u001b[0;32m----> 7\u001b[0;31m         \u001b[0msuper\u001b[0m\u001b[0;34m(\u001b[0m\u001b[0mDriverLPD8806\u001b[0m\u001b[0;34m,\u001b[0m \u001b[0mself\u001b[0m\u001b[0;34m)\u001b[0m\u001b[0;34m.\u001b[0m\u001b[0m__init__\u001b[0m\u001b[0;34m(\u001b[0m\u001b[0mnum\u001b[0m\u001b[0;34m,\u001b[0m \u001b[0mc_order\u001b[0m \u001b[0;34m=\u001b[0m \u001b[0mc_order\u001b[0m\u001b[0;34m,\u001b[0m \u001b[0muse_py_spi\u001b[0m \u001b[0;34m=\u001b[0m \u001b[0muse_py_spi\u001b[0m\u001b[0;34m,\u001b[0m \u001b[0mdev\u001b[0m \u001b[0;34m=\u001b[0m \u001b[0mdev\u001b[0m\u001b[0;34m,\u001b[0m \u001b[0mSPISpeed\u001b[0m \u001b[0;34m=\u001b[0m \u001b[0mSPISpeed\u001b[0m\u001b[0;34m)\u001b[0m\u001b[0;34m\u001b[0m\u001b[0m\n\u001b[0m\u001b[1;32m      8\u001b[0m \u001b[0;34m\u001b[0m\u001b[0m\n\u001b[1;32m      9\u001b[0m         \u001b[0;31m# Color calculations from\u001b[0m\u001b[0;34m\u001b[0m\u001b[0;34m\u001b[0m\u001b[0m\n",
      "\u001b[0;32m/usr/local/lib/python2.7/site-packages/bibliopixel/drivers/spi_driver_base.pyc\u001b[0m in \u001b[0;36m__init__\u001b[0;34m(self, num, c_order, use_py_spi, dev, SPISpeed)\u001b[0m\n\u001b[1;32m     39\u001b[0m                 \u001b[0;32mraise\u001b[0m \u001b[0mValueError\u001b[0m\u001b[0;34m(\u001b[0m\u001b[0merror\u001b[0m\u001b[0;34m)\u001b[0m\u001b[0;34m\u001b[0m\u001b[0m\n\u001b[1;32m     40\u001b[0m \u001b[0;34m\u001b[0m\u001b[0m\n\u001b[0;32m---> 41\u001b[0;31m             \u001b[0mself\u001b[0m\u001b[0;34m.\u001b[0m\u001b[0m_bootstrapSPIDev\u001b[0m\u001b[0;34m(\u001b[0m\u001b[0;34m)\u001b[0m\u001b[0;34m\u001b[0m\u001b[0m\n\u001b[0m\u001b[1;32m     42\u001b[0m             \u001b[0;32mimport\u001b[0m \u001b[0mspidev\u001b[0m\u001b[0;34m\u001b[0m\u001b[0m\n\u001b[1;32m     43\u001b[0m             \u001b[0mself\u001b[0m\u001b[0;34m.\u001b[0m\u001b[0mspi\u001b[0m \u001b[0;34m=\u001b[0m \u001b[0mspidev\u001b[0m\u001b[0;34m.\u001b[0m\u001b[0mSpiDev\u001b[0m\u001b[0;34m(\u001b[0m\u001b[0;34m)\u001b[0m\u001b[0;34m\u001b[0m\u001b[0m\n",
      "\u001b[0;32m/usr/local/lib/python2.7/site-packages/bibliopixel/drivers/spi_driver_base.pyc\u001b[0m in \u001b[0;36m_bootstrapSPIDev\u001b[0;34m(self)\u001b[0m\n\u001b[1;32m     57\u001b[0m                 \u001b[0merror\u001b[0m \u001b[0;34m=\u001b[0m \u001b[0;34m\"Unable to import spidev. Please install. pip install spidev\"\u001b[0m\u001b[0;34m\u001b[0m\u001b[0m\n\u001b[1;32m     58\u001b[0m                 \u001b[0mlog\u001b[0m\u001b[0;34m.\u001b[0m\u001b[0mlogger\u001b[0m\u001b[0;34m.\u001b[0m\u001b[0merror\u001b[0m\u001b[0;34m(\u001b[0m\u001b[0merror\u001b[0m\u001b[0;34m)\u001b[0m\u001b[0;34m\u001b[0m\u001b[0m\n\u001b[0;32m---> 59\u001b[0;31m                 \u001b[0;32mraise\u001b[0m \u001b[0mImportError\u001b[0m\u001b[0;34m(\u001b[0m\u001b[0merror\u001b[0m\u001b[0;34m)\u001b[0m\u001b[0;34m\u001b[0m\u001b[0m\n\u001b[0m\u001b[1;32m     60\u001b[0m \u001b[0;34m\u001b[0m\u001b[0m\n\u001b[1;32m     61\u001b[0m         \u001b[0;32mif\u001b[0m \u001b[0;32mnot\u001b[0m \u001b[0mos\u001b[0m\u001b[0;34m.\u001b[0m\u001b[0mpath\u001b[0m\u001b[0;34m.\u001b[0m\u001b[0mexists\u001b[0m\u001b[0;34m(\u001b[0m\u001b[0mself\u001b[0m\u001b[0;34m.\u001b[0m\u001b[0mdev\u001b[0m\u001b[0;34m)\u001b[0m\u001b[0;34m:\u001b[0m\u001b[0;34m\u001b[0m\u001b[0m\n",
      "\u001b[0;31mImportError\u001b[0m: Unable to import spidev. Please install. pip install spidev"
     ]
    }
   ],
   "source": [
    "LedsPerSide = 8\n",
    "numLeds= LedsPerSide*4*2 ##x/side * 4 sides * 2 levels\n",
    "driver=DriverLPD8806(numLeds)\n",
    "led=LEDStrip(driver)"
   ]
  },
  {
   "cell_type": "markdown",
   "metadata": {},
   "source": [
    "###Extracting data from xml files"
   ]
  },
  {
   "cell_type": "code",
   "execution_count": 3,
   "metadata": {
    "collapsed": false
   },
   "outputs": [],
   "source": [
    "path = 'cc_customer_11.xml'\n",
    "xml = objectify.parse(open(path))\n",
    "root = xml.getroot()"
   ]
  },
  {
   "cell_type": "code",
   "execution_count": 4,
   "metadata": {
    "collapsed": false
   },
   "outputs": [
    {
     "data": {
      "text/plain": [
       "105408"
      ]
     },
     "execution_count": 4,
     "metadata": {},
     "output_type": "execute_result"
    }
   ],
   "source": [
    "#Meter readings in root.getchildren[7]\n",
    "obj_top = root.getchildren()[7].getchildren()[4].getchildren()[0].getchildren()\n",
    "length = len(obj_top)\n",
    "length"
   ]
  },
  {
   "cell_type": "code",
   "execution_count": 5,
   "metadata": {
    "collapsed": true
   },
   "outputs": [],
   "source": [
    "df = pd.DataFrame(columns=('duration', 'time_stamp', 'value'))"
   ]
  },
  {
   "cell_type": "code",
   "execution_count": 6,
   "metadata": {
    "collapsed": false
   },
   "outputs": [],
   "source": [
    "for i in range(1,length): #takes a while to run #element 0 is summary\n",
    "    obj = obj_top[i].getchildren()\n",
    "    row = dict(zip(['duration', 'time_stamp', 'value'], [np.int(obj[0].getchildren()[0]), np.int(obj[0].getchildren()[1]), np.int(obj[1])]))\n",
    "    row_s = pd.Series(row)\n",
    "    row_s.name = i\n",
    "    df = df.append(row_s)"
   ]
  },
  {
   "cell_type": "code",
   "execution_count": 7,
   "metadata": {
    "collapsed": false
   },
   "outputs": [
    {
     "data": {
      "text/plain": [
       "(318232.83326534292, 85751.0, 527377.0)"
      ]
     },
     "execution_count": 7,
     "metadata": {},
     "output_type": "execute_result"
    }
   ],
   "source": [
    "(df['value'].mean(), df['value'].min(), df['value'].max()) # 'value' is in watt-hrs"
   ]
  },
  {
   "cell_type": "markdown",
   "metadata": {},
   "source": [
    "### Adding timestamp and grouping"
   ]
  },
  {
   "cell_type": "code",
   "execution_count": 8,
   "metadata": {
    "collapsed": false
   },
   "outputs": [],
   "source": [
    "start_time = pd.to_datetime('2011-12-31 20:10') \n",
    "## Got this from the sheet: \n",
    "## Link: http://services.greenbuttondata.org/sample-data/cc_customer_11.xml"
   ]
  },
  {
   "cell_type": "code",
   "execution_count": 41,
   "metadata": {
    "collapsed": false
   },
   "outputs": [],
   "source": [
    "df['timestamp'] = pd.date_range(start_time, periods=105407, freq='5min') \n",
    "#Creates time stamp to be added to each entry in the right format\n",
    "\n",
    "df['year'] = pd.DatetimeIndex(df['timestamp']).year\n",
    "df['month'] = pd.DatetimeIndex(df['timestamp']).month\n",
    "df['day'] = pd.DatetimeIndex(df['timestamp']).day\n",
    "\n",
    "df_monthly = df.groupby(['month','year'])\n",
    "df_monthly_total = df_monthly['value'].sum() #Monthly total usage\n",
    "df_daily = df.groupby(['year','month','day'])\n",
    "df_daily_total = df_daily['value'].sum()\n"
   ]
  },
  {
   "cell_type": "code",
   "execution_count": 38,
   "metadata": {
    "collapsed": false
   },
   "outputs": [
    {
     "ename": "KeyError",
     "evalue": "<built-in method date of Timestamp object at 0x116795150>",
     "output_type": "error",
     "traceback": [
      "\u001b[0;31m---------------------------------------------------------------------------\u001b[0m",
      "\u001b[0;31mKeyError\u001b[0m                                  Traceback (most recent call last)",
      "\u001b[0;32m<ipython-input-38-ed606d594bc8>\u001b[0m in \u001b[0;36m<module>\u001b[0;34m()\u001b[0m\n\u001b[1;32m      3\u001b[0m \u001b[0mall_days_2012\u001b[0m \u001b[0;34m=\u001b[0m \u001b[0mpd\u001b[0m\u001b[0;34m.\u001b[0m\u001b[0mdate_range\u001b[0m\u001b[0;34m(\u001b[0m\u001b[0mnew_start_time\u001b[0m\u001b[0;34m,\u001b[0m \u001b[0mnew_end_time\u001b[0m\u001b[0;34m,\u001b[0m \u001b[0mfreq\u001b[0m\u001b[0;34m=\u001b[0m\u001b[0;34m'D'\u001b[0m\u001b[0;34m)\u001b[0m\u001b[0;34m\u001b[0m\u001b[0m\n\u001b[1;32m      4\u001b[0m \u001b[0md\u001b[0m \u001b[0;34m=\u001b[0m \u001b[0mstr\u001b[0m\u001b[0;34m(\u001b[0m\u001b[0mall_days_2012\u001b[0m\u001b[0;34m[\u001b[0m\u001b[0;36m0\u001b[0m\u001b[0;34m]\u001b[0m\u001b[0;34m.\u001b[0m\u001b[0myear\u001b[0m\u001b[0;34m)\u001b[0m\u001b[0;34m+\u001b[0m\u001b[0;34m'-'\u001b[0m\u001b[0;34m+\u001b[0m\u001b[0mstr\u001b[0m\u001b[0;34m(\u001b[0m\u001b[0mall_days_2012\u001b[0m\u001b[0;34m[\u001b[0m\u001b[0;36m0\u001b[0m\u001b[0;34m]\u001b[0m\u001b[0;34m.\u001b[0m\u001b[0mmonth\u001b[0m\u001b[0;34m)\u001b[0m\u001b[0;34m+\u001b[0m\u001b[0;34m'-'\u001b[0m\u001b[0;34m+\u001b[0m\u001b[0mstr\u001b[0m\u001b[0;34m(\u001b[0m\u001b[0mall_days_2012\u001b[0m\u001b[0;34m[\u001b[0m\u001b[0;36m0\u001b[0m\u001b[0;34m]\u001b[0m\u001b[0;34m.\u001b[0m\u001b[0mday\u001b[0m\u001b[0;34m)\u001b[0m\u001b[0;34m\u001b[0m\u001b[0m\n\u001b[0;32m----> 5\u001b[0;31m \u001b[0mdf_daily_value\u001b[0m \u001b[0;34m=\u001b[0m \u001b[0mdf_daily\u001b[0m\u001b[0;34m[\u001b[0m\u001b[0;34m'value'\u001b[0m\u001b[0;34m]\u001b[0m\u001b[0;34m.\u001b[0m\u001b[0mget_group\u001b[0m\u001b[0;34m(\u001b[0m\u001b[0mall_days_2012\u001b[0m\u001b[0;34m[\u001b[0m\u001b[0;36m0\u001b[0m\u001b[0;34m]\u001b[0m\u001b[0;34m.\u001b[0m\u001b[0mdate\u001b[0m\u001b[0;34m)\u001b[0m\u001b[0;34m.\u001b[0m\u001b[0mmean\u001b[0m\u001b[0;34m(\u001b[0m\u001b[0;34m)\u001b[0m\u001b[0;34m\u001b[0m\u001b[0m\n\u001b[0m\u001b[1;32m      6\u001b[0m \u001b[0;34m\u001b[0m\u001b[0m\n",
      "\u001b[0;32m/usr/local/lib/python2.7/site-packages/pandas/core/groupby.pyc\u001b[0m in \u001b[0;36mget_group\u001b[0;34m(self, name, obj)\u001b[0m\n\u001b[1;32m    644\u001b[0m         \u001b[0minds\u001b[0m \u001b[0;34m=\u001b[0m \u001b[0mself\u001b[0m\u001b[0;34m.\u001b[0m\u001b[0m_get_index\u001b[0m\u001b[0;34m(\u001b[0m\u001b[0mname\u001b[0m\u001b[0;34m)\u001b[0m\u001b[0;34m\u001b[0m\u001b[0m\n\u001b[1;32m    645\u001b[0m         \u001b[0;32mif\u001b[0m \u001b[0;32mnot\u001b[0m \u001b[0mlen\u001b[0m\u001b[0;34m(\u001b[0m\u001b[0minds\u001b[0m\u001b[0;34m)\u001b[0m\u001b[0;34m:\u001b[0m\u001b[0;34m\u001b[0m\u001b[0m\n\u001b[0;32m--> 646\u001b[0;31m             \u001b[0;32mraise\u001b[0m \u001b[0mKeyError\u001b[0m\u001b[0;34m(\u001b[0m\u001b[0mname\u001b[0m\u001b[0;34m)\u001b[0m\u001b[0;34m\u001b[0m\u001b[0m\n\u001b[0m\u001b[1;32m    647\u001b[0m \u001b[0;34m\u001b[0m\u001b[0m\n\u001b[1;32m    648\u001b[0m         \u001b[0;32mreturn\u001b[0m \u001b[0mobj\u001b[0m\u001b[0;34m.\u001b[0m\u001b[0mtake\u001b[0m\u001b[0;34m(\u001b[0m\u001b[0minds\u001b[0m\u001b[0;34m,\u001b[0m \u001b[0maxis\u001b[0m\u001b[0;34m=\u001b[0m\u001b[0mself\u001b[0m\u001b[0;34m.\u001b[0m\u001b[0maxis\u001b[0m\u001b[0;34m,\u001b[0m \u001b[0mconvert\u001b[0m\u001b[0;34m=\u001b[0m\u001b[0mFalse\u001b[0m\u001b[0;34m)\u001b[0m\u001b[0;34m\u001b[0m\u001b[0m\n",
      "\u001b[0;31mKeyError\u001b[0m: <built-in method date of Timestamp object at 0x116795150>"
     ]
    }
   ],
   "source": [
    "new_start_time = pd.to_datetime('2012-1-1')\n",
    "new_end_time = pd.to_datetime('2012-12-31')\n",
    "all_days_2012 = pd.date_range(new_start_time, new_end_time, freq='D')\n",
    "d = str(all_days_2012[0].year)+'-'+str(all_days_2012[0].month)+'-'+str(all_days_2012[0].day)\n",
    "df_daily_value = df_daily['value'].get_group(all_days_2012[0].date).mean()\n",
    "    "
   ]
  },
  {
   "cell_type": "code",
   "execution_count": 42,
   "metadata": {
    "collapsed": false
   },
   "outputs": [
    {
     "data": {
      "text/plain": [
       "year  month  day\n",
       "2011  12     31      4528002\n",
       "2012  1      1      26401996\n",
       "             2      59138126\n",
       "             3      83857793\n",
       "             4      89380782\n",
       "             5      91529382\n",
       "             6      87702373\n",
       "             7      76825226\n",
       "             8      65986796\n",
       "             9      84503772\n",
       "             10     86354413\n",
       "             11     89445878\n",
       "             12     92382816\n",
       "             13     89715917\n",
       "             14     73735570\n",
       "             15     64330596\n",
       "             16     82438528\n",
       "             17     89637550\n",
       "             18     93241970\n",
       "             19     90947095\n",
       "             20     91122673\n",
       "             21     78034516\n",
       "             22     66194447\n",
       "             23     87008085\n",
       "             24     89558297\n",
       "             25     92634710\n",
       "             26     93196149\n",
       "             27     91119559\n",
       "             28     77480512\n",
       "             29     71423815\n",
       "                      ...   \n",
       "      12     2      72957918\n",
       "             3      91677508\n",
       "             4      96239295\n",
       "             5      97055278\n",
       "             6      94918536\n",
       "             7      93660978\n",
       "             8      78086971\n",
       "             9      70042867\n",
       "             10     86934706\n",
       "             11     94272550\n",
       "             12     94694831\n",
       "             13     90895142\n",
       "             14     95489779\n",
       "             15     80184409\n",
       "             16     73042640\n",
       "             17     90458498\n",
       "             18     94840604\n",
       "             19     95276936\n",
       "             20     92068407\n",
       "             21     91047279\n",
       "             22     76306154\n",
       "             23     44776907\n",
       "             24     32681290\n",
       "             25     36478394\n",
       "             26     79774182\n",
       "             27     89179577\n",
       "             28     90847770\n",
       "             29     76728506\n",
       "             30     67161422\n",
       "             31     59362726\n",
       "Name: value, dtype: float64"
      ]
     },
     "execution_count": 42,
     "metadata": {},
     "output_type": "execute_result"
    }
   ],
   "source": [
    "df_daily_total"
   ]
  },
  {
   "cell_type": "code",
   "execution_count": 23,
   "metadata": {
    "collapsed": false
   },
   "outputs": [],
   "source": [
    "year = 2012\n",
    "df_by_month = pd.DataFrame(columns=('Energy_mean_monthly', 'Year', 'Month'))\n",
    "df_by_day = pd.DataFrame(columns=('Energy_mean_daily', 'Year' , 'Month', 'Day'))\n",
    "\n",
    "for i in range (1,13): \n",
    "    row = dict(zip(['Energy_mean_monthly', 'Year', 'Month'],[df_monthly['value'].get_group((year, i)).mean(),year,i]))\n",
    "    row_s = pd.Series(row)\n",
    "    row_s.name = i\n",
    "    df_new = df_new.append(row_s)\n",
    "    \n",
    "    \n"
   ]
  },
  {
   "cell_type": "code",
   "execution_count": 24,
   "metadata": {
    "collapsed": false
   },
   "outputs": [
    {
     "data": {
      "text/html": [
       "<div>\n",
       "<table border=\"1\" class=\"dataframe\">\n",
       "  <thead>\n",
       "    <tr style=\"text-align: right;\">\n",
       "      <th></th>\n",
       "      <th>Energy_mean</th>\n",
       "      <th>Month</th>\n",
       "      <th>Year</th>\n",
       "    </tr>\n",
       "  </thead>\n",
       "  <tbody>\n",
       "    <tr>\n",
       "      <th>1</th>\n",
       "      <td>283286.791331</td>\n",
       "      <td>1</td>\n",
       "      <td>2012</td>\n",
       "    </tr>\n",
       "    <tr>\n",
       "      <th>2</th>\n",
       "      <td>307228.791547</td>\n",
       "      <td>2</td>\n",
       "      <td>2012</td>\n",
       "    </tr>\n",
       "    <tr>\n",
       "      <th>3</th>\n",
       "      <td>308425.411850</td>\n",
       "      <td>3</td>\n",
       "      <td>2012</td>\n",
       "    </tr>\n",
       "    <tr>\n",
       "      <th>4</th>\n",
       "      <td>294379.706481</td>\n",
       "      <td>4</td>\n",
       "      <td>2012</td>\n",
       "    </tr>\n",
       "    <tr>\n",
       "      <th>5</th>\n",
       "      <td>323817.569220</td>\n",
       "      <td>5</td>\n",
       "      <td>2012</td>\n",
       "    </tr>\n",
       "    <tr>\n",
       "      <th>6</th>\n",
       "      <td>359240.309954</td>\n",
       "      <td>6</td>\n",
       "      <td>2012</td>\n",
       "    </tr>\n",
       "    <tr>\n",
       "      <th>7</th>\n",
       "      <td>375794.022961</td>\n",
       "      <td>7</td>\n",
       "      <td>2012</td>\n",
       "    </tr>\n",
       "    <tr>\n",
       "      <th>8</th>\n",
       "      <td>370624.506384</td>\n",
       "      <td>8</td>\n",
       "      <td>2012</td>\n",
       "    </tr>\n",
       "    <tr>\n",
       "      <th>9</th>\n",
       "      <td>325972.901852</td>\n",
       "      <td>9</td>\n",
       "      <td>2012</td>\n",
       "    </tr>\n",
       "    <tr>\n",
       "      <th>10</th>\n",
       "      <td>298914.979839</td>\n",
       "      <td>10</td>\n",
       "      <td>2012</td>\n",
       "    </tr>\n",
       "    <tr>\n",
       "      <th>11</th>\n",
       "      <td>288898.376042</td>\n",
       "      <td>11</td>\n",
       "      <td>2012</td>\n",
       "    </tr>\n",
       "    <tr>\n",
       "      <th>12</th>\n",
       "      <td>282300.779867</td>\n",
       "      <td>12</td>\n",
       "      <td>2012</td>\n",
       "    </tr>\n",
       "  </tbody>\n",
       "</table>\n",
       "</div>"
      ],
      "text/plain": [
       "      Energy_mean  Month  Year\n",
       "1   283286.791331      1  2012\n",
       "2   307228.791547      2  2012\n",
       "3   308425.411850      3  2012\n",
       "4   294379.706481      4  2012\n",
       "5   323817.569220      5  2012\n",
       "6   359240.309954      6  2012\n",
       "7   375794.022961      7  2012\n",
       "8   370624.506384      8  2012\n",
       "9   325972.901852      9  2012\n",
       "10  298914.979839     10  2012\n",
       "11  288898.376042     11  2012\n",
       "12  282300.779867     12  2012"
      ]
     },
     "execution_count": 24,
     "metadata": {},
     "output_type": "execute_result"
    }
   ],
   "source": [
    "df_new"
   ]
  },
  {
   "cell_type": "markdown",
   "metadata": {},
   "source": [
    "### Generating color scale"
   ]
  },
  {
   "cell_type": "code",
   "execution_count": 28,
   "metadata": {
    "collapsed": true
   },
   "outputs": [],
   "source": [
    "red = 0\n",
    "green = 255\n",
    "stepSize = 25\n",
    "color_gn_rd = []\n",
    "color_gn_rd.append((green, red, 0)) ## the lights are GRB format"
   ]
  },
  {
   "cell_type": "code",
   "execution_count": 69,
   "metadata": {
    "collapsed": false
   },
   "outputs": [
    {
     "data": {
      "text/plain": [
       "21"
      ]
     },
     "execution_count": 69,
     "metadata": {},
     "output_type": "execute_result"
    }
   ],
   "source": [
    "while(red < 255): ## start with green and increase red\n",
    "    red += stepSize;\n",
    "    if(red > 245):\n",
    "        red = 255; \n",
    "    color_gn_rd.append((green,red,0))\n",
    "\n",
    "while(green > 0): ## start with red + green and decrease green\n",
    "    green -= stepSize;\n",
    "    if(green < 6):\n",
    "        green = 0; \n",
    "    color_gn_rd.append((green,red,0)); \n",
    "    \n",
    "len(color_gn_rd)"
   ]
  },
  {
   "cell_type": "markdown",
   "metadata": {},
   "source": [
    "### Defining Flashing modes"
   ]
  },
  {
   "cell_type": "code",
   "execution_count": 67,
   "metadata": {
    "collapsed": false
   },
   "outputs": [
    {
     "data": {
      "text/plain": [
       "(45.0, 90.0, 99.0)"
      ]
     },
     "execution_count": 67,
     "metadata": {},
     "output_type": "execute_result"
    }
   ],
   "source": [
    "intensity = np.arange(0,1.1,0.1)\n",
    "reversed(intensity)\n",
    "color = (50,100,110)\n",
    "color_new = (color[0]*.9, color[1]*0.9,color[2]*0.9)\n",
    "color_new"
   ]
  },
  {
   "cell_type": "code",
   "execution_count": 68,
   "metadata": {
    "collapsed": true
   },
   "outputs": [],
   "source": [
    "def led_set(start_position, numLEDs, color): ## Fills the colors\n",
    "    led.fill(color, start=start_position,end=start_position+numLEDs)\n",
    "    led.update()\n",
    "    return\n",
    "\n",
    "def pulse(start_position, numLEDs, color):\n",
    "    ## Step-up intensity by 10% increments, then step down by the same every 0.1 seconds. total time = 4 sec\n",
    "    \n",
    "    intensity = np.arange(0,1.1,0.1) \n",
    "\n",
    "    for i in intensity:\n",
    "        color_new = (color[0]*i,color[1]*i,color[3]*i) \n",
    "        # There is probably a more elegant way to do this.. \n",
    "        led.fill(color_new, start=start_position,end=start_position+numLEDs)\n",
    "        led.update()\n",
    "        time.sleep(0.2)\n",
    "\n",
    "    for i in reversed(intensity):\n",
    "        color_new = (color[0]*i,color[1]*i,color[3]*i) \n",
    "        led.fill(color_new, start=start_position,end=start_position+numLEDs)\n",
    "        led.update()\n",
    "        time.sleep(0.2)        "
   ]
  },
  {
   "cell_type": "code",
   "execution_count": 70,
   "metadata": {
    "collapsed": false
   },
   "outputs": [
    {
     "name": "stdout",
     "output_type": "stream",
     "text": [
      "Starting Display\n",
      "Press 'control + c' to stop\n"
     ]
    }
   ],
   "source": [
    "print ('Starting Display')\n",
    "print ('Press \\'control + c\\' to stop' )\n"
   ]
  },
  {
   "cell_type": "markdown",
   "metadata": {},
   "source": [
    "### Display 1: Last 10 day average on top, current usage on bottom"
   ]
  },
  {
   "cell_type": "code",
   "execution_count": null,
   "metadata": {
    "collapsed": true
   },
   "outputs": [],
   "source": [
    "i = 11 \n",
    "last_index = len(df_daily_total)\n",
    "last_10day_average = []\n",
    "color_top = []\n",
    "color_bottom = []\n",
    "while (i < last_index):\n",
    "    last_10day_average.append(df_daily_total[i-11:i-1].mean())\n",
    "    "
   ]
  }
 ],
 "metadata": {
  "kernelspec": {
   "display_name": "Python 2",
   "language": "python",
   "name": "python2"
  },
  "language_info": {
   "codemirror_mode": {
    "name": "ipython",
    "version": 2
   },
   "file_extension": ".py",
   "mimetype": "text/x-python",
   "name": "python",
   "nbconvert_exporter": "python",
   "pygments_lexer": "ipython2",
   "version": "2.7.10"
  }
 },
 "nbformat": 4,
 "nbformat_minor": 0
}
