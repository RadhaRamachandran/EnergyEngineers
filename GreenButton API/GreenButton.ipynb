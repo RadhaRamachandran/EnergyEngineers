{
 "cells": [
  {
   "cell_type": "markdown",
   "metadata": {},
   "source": [
    "### Import libraries"
   ]
  },
  {
   "cell_type": "code",
   "execution_count": 1,
   "metadata": {
    "collapsed": true
   },
   "outputs": [],
   "source": [
    "import requests\n",
    "import json\n",
    "import csv\n",
    "import numpy as np\n",
    "import matplotlib.pyplot as plt\n",
    "import pandas as pd\n",
    "from pandas.io.json import json_normalize\n",
    "import time\n",
    "\n",
    "from lxml import objectify\n",
    "\n",
    "from bibliopixel import *\n",
    "from bibliopixel.drivers.LPD8806 import *\n",
    "from bibliopixel import LEDStrip\n",
    "import bibliopixel.colors as colors"
   ]
  },
  {
   "cell_type": "markdown",
   "metadata": {},
   "source": [
    "### Setting up LED"
   ]
  },
  {
   "cell_type": "code",
   "execution_count": 2,
   "metadata": {
    "collapsed": true
   },
   "outputs": [],
   "source": [
    "LedsPerSide = 8\n",
    "numLeds= LedsPerSide*4*2 ##x/side * 4 sides * 2 levels\n",
    "driver=DriverLPD8806(numLeds)\n",
    "led=LEDStrip(driver)"
   ]
  },
  {
   "cell_type": "markdown",
   "metadata": {},
   "source": [
    "###Extracting data from xml files"
   ]
  },
  {
   "cell_type": "code",
   "execution_count": 20,
   "metadata": {
    "collapsed": false
   },
   "outputs": [],
   "source": [
    "path = 'cc_customer_11.xml'\n",
    "xml = objectify.parse(open(path))\n",
    "root = xml.getroot()"
   ]
  },
  {
   "cell_type": "code",
   "execution_count": 21,
   "metadata": {
    "collapsed": false
   },
   "outputs": [
    {
     "data": {
      "text/plain": [
       "['urn:uuid:e3f79426-1069-409e-a8eb-475528ed81e1',\n",
       " 'Test GreenButton',\n",
       " '2013-04-04T03:35:38Z',\n",
       " u'',\n",
       " <Element {http://www.w3.org/2005/Atom}entry at 0x10acee488>,\n",
       " <Element {http://www.w3.org/2005/Atom}entry at 0x10acee4d0>,\n",
       " <Element {http://www.w3.org/2005/Atom}entry at 0x10acee518>,\n",
       " <Element {http://www.w3.org/2005/Atom}entry at 0x10acee560>,\n",
       " <Element {http://www.w3.org/2005/Atom}entry at 0x10acee5a8>,\n",
       " <Element {http://www.w3.org/2005/Atom}entry at 0x10acee5f0>]"
      ]
     },
     "execution_count": 21,
     "metadata": {},
     "output_type": "execute_result"
    }
   ],
   "source": [
    "root.getchildren() #Meter readings in root.getchildren[7]"
   ]
  },
  {
   "cell_type": "code",
   "execution_count": 22,
   "metadata": {
    "collapsed": false
   },
   "outputs": [
    {
     "data": {
      "text/plain": [
       "105408"
      ]
     },
     "execution_count": 22,
     "metadata": {},
     "output_type": "execute_result"
    }
   ],
   "source": [
    "obj_top = root.getchildren()[7].getchildren()[4].getchildren()[0].getchildren()\n",
    "length = len(obj_top)\n",
    "length"
   ]
  },
  {
   "cell_type": "code",
   "execution_count": 23,
   "metadata": {
    "collapsed": true
   },
   "outputs": [],
   "source": [
    "df = pd.DataFrame(columns=('duration', 'time_stamp', 'value'))"
   ]
  },
  {
   "cell_type": "code",
   "execution_count": 24,
   "metadata": {
    "collapsed": false
   },
   "outputs": [],
   "source": [
    "for i in range(1,length): #takes a while to run #element 0 is summary\n",
    "    obj = obj_top[i].getchildren()\n",
    "    row = dict(zip(['duration', 'time_stamp', 'value'], [np.int(obj[0].getchildren()[0]), np.int(obj[0].getchildren()[1]), np.int(obj[1])]))\n",
    "    row_s = pd.Series(row)\n",
    "    row_s.name = i\n",
    "    df = df.append(row_s)"
   ]
  },
  {
   "cell_type": "code",
   "execution_count": 26,
   "metadata": {
    "collapsed": false
   },
   "outputs": [
    {
     "data": {
      "text/plain": [
       "(318232.83326534292, 85751.0, 527377.0)"
      ]
     },
     "execution_count": 26,
     "metadata": {},
     "output_type": "execute_result"
    }
   ],
   "source": [
    "(df['value'].mean(), df['value'].min(), df['value'].max()) # value is in watt-hrs"
   ]
  },
  {
   "cell_type": "code",
   "execution_count": 27,
   "metadata": {
    "collapsed": false
   },
   "outputs": [
    {
     "data": {
      "text/html": [
       "<div>\n",
       "<table border=\"1\" class=\"dataframe\">\n",
       "  <thead>\n",
       "    <tr style=\"text-align: right;\">\n",
       "      <th></th>\n",
       "      <th>duration</th>\n",
       "      <th>time_stamp</th>\n",
       "      <th>value</th>\n",
       "    </tr>\n",
       "  </thead>\n",
       "  <tbody>\n",
       "    <tr>\n",
       "      <th>1</th>\n",
       "      <td>300</td>\n",
       "      <td>1325376600</td>\n",
       "      <td>105789</td>\n",
       "    </tr>\n",
       "    <tr>\n",
       "      <th>2</th>\n",
       "      <td>300</td>\n",
       "      <td>1325376900</td>\n",
       "      <td>104731</td>\n",
       "    </tr>\n",
       "    <tr>\n",
       "      <th>3</th>\n",
       "      <td>300</td>\n",
       "      <td>1325377200</td>\n",
       "      <td>102292</td>\n",
       "    </tr>\n",
       "    <tr>\n",
       "      <th>4</th>\n",
       "      <td>300</td>\n",
       "      <td>1325377500</td>\n",
       "      <td>102785</td>\n",
       "    </tr>\n",
       "    <tr>\n",
       "      <th>5</th>\n",
       "      <td>300</td>\n",
       "      <td>1325377800</td>\n",
       "      <td>101610</td>\n",
       "    </tr>\n",
       "    <tr>\n",
       "      <th>6</th>\n",
       "      <td>300</td>\n",
       "      <td>1325378100</td>\n",
       "      <td>100643</td>\n",
       "    </tr>\n",
       "    <tr>\n",
       "      <th>7</th>\n",
       "      <td>300</td>\n",
       "      <td>1325378400</td>\n",
       "      <td>101130</td>\n",
       "    </tr>\n",
       "    <tr>\n",
       "      <th>8</th>\n",
       "      <td>300</td>\n",
       "      <td>1325378700</td>\n",
       "      <td>101967</td>\n",
       "    </tr>\n",
       "    <tr>\n",
       "      <th>9</th>\n",
       "      <td>300</td>\n",
       "      <td>1325379000</td>\n",
       "      <td>101454</td>\n",
       "    </tr>\n",
       "    <tr>\n",
       "      <th>10</th>\n",
       "      <td>300</td>\n",
       "      <td>1325379300</td>\n",
       "      <td>99754</td>\n",
       "    </tr>\n",
       "    <tr>\n",
       "      <th>11</th>\n",
       "      <td>300</td>\n",
       "      <td>1325379600</td>\n",
       "      <td>99858</td>\n",
       "    </tr>\n",
       "    <tr>\n",
       "      <th>12</th>\n",
       "      <td>300</td>\n",
       "      <td>1325379900</td>\n",
       "      <td>100332</td>\n",
       "    </tr>\n",
       "    <tr>\n",
       "      <th>13</th>\n",
       "      <td>300</td>\n",
       "      <td>1325380200</td>\n",
       "      <td>102635</td>\n",
       "    </tr>\n",
       "    <tr>\n",
       "      <th>14</th>\n",
       "      <td>300</td>\n",
       "      <td>1325380500</td>\n",
       "      <td>101870</td>\n",
       "    </tr>\n",
       "    <tr>\n",
       "      <th>15</th>\n",
       "      <td>300</td>\n",
       "      <td>1325380800</td>\n",
       "      <td>101305</td>\n",
       "    </tr>\n",
       "    <tr>\n",
       "      <th>16</th>\n",
       "      <td>300</td>\n",
       "      <td>1325381100</td>\n",
       "      <td>101578</td>\n",
       "    </tr>\n",
       "    <tr>\n",
       "      <th>17</th>\n",
       "      <td>300</td>\n",
       "      <td>1325381400</td>\n",
       "      <td>100676</td>\n",
       "    </tr>\n",
       "    <tr>\n",
       "      <th>18</th>\n",
       "      <td>300</td>\n",
       "      <td>1325381700</td>\n",
       "      <td>102356</td>\n",
       "    </tr>\n",
       "    <tr>\n",
       "      <th>19</th>\n",
       "      <td>300</td>\n",
       "      <td>1325382000</td>\n",
       "      <td>100689</td>\n",
       "    </tr>\n",
       "    <tr>\n",
       "      <th>20</th>\n",
       "      <td>300</td>\n",
       "      <td>1325382300</td>\n",
       "      <td>100228</td>\n",
       "    </tr>\n",
       "    <tr>\n",
       "      <th>21</th>\n",
       "      <td>300</td>\n",
       "      <td>1325382600</td>\n",
       "      <td>99904</td>\n",
       "    </tr>\n",
       "    <tr>\n",
       "      <th>22</th>\n",
       "      <td>300</td>\n",
       "      <td>1325382900</td>\n",
       "      <td>97821</td>\n",
       "    </tr>\n",
       "    <tr>\n",
       "      <th>23</th>\n",
       "      <td>300</td>\n",
       "      <td>1325383200</td>\n",
       "      <td>95446</td>\n",
       "    </tr>\n",
       "    <tr>\n",
       "      <th>24</th>\n",
       "      <td>300</td>\n",
       "      <td>1325383500</td>\n",
       "      <td>96205</td>\n",
       "    </tr>\n",
       "    <tr>\n",
       "      <th>25</th>\n",
       "      <td>300</td>\n",
       "      <td>1325383800</td>\n",
       "      <td>95199</td>\n",
       "    </tr>\n",
       "    <tr>\n",
       "      <th>26</th>\n",
       "      <td>300</td>\n",
       "      <td>1325384100</td>\n",
       "      <td>96309</td>\n",
       "    </tr>\n",
       "    <tr>\n",
       "      <th>27</th>\n",
       "      <td>300</td>\n",
       "      <td>1325384400</td>\n",
       "      <td>97490</td>\n",
       "    </tr>\n",
       "    <tr>\n",
       "      <th>28</th>\n",
       "      <td>300</td>\n",
       "      <td>1325384700</td>\n",
       "      <td>95180</td>\n",
       "    </tr>\n",
       "    <tr>\n",
       "      <th>29</th>\n",
       "      <td>300</td>\n",
       "      <td>1325385000</td>\n",
       "      <td>95926</td>\n",
       "    </tr>\n",
       "    <tr>\n",
       "      <th>30</th>\n",
       "      <td>300</td>\n",
       "      <td>1325385300</td>\n",
       "      <td>95971</td>\n",
       "    </tr>\n",
       "    <tr>\n",
       "      <th>...</th>\n",
       "      <td>...</td>\n",
       "      <td>...</td>\n",
       "      <td>...</td>\n",
       "    </tr>\n",
       "    <tr>\n",
       "      <th>105378</th>\n",
       "      <td>300</td>\n",
       "      <td>1356989700</td>\n",
       "      <td>213207</td>\n",
       "    </tr>\n",
       "    <tr>\n",
       "      <th>105379</th>\n",
       "      <td>300</td>\n",
       "      <td>1356990000</td>\n",
       "      <td>204460</td>\n",
       "    </tr>\n",
       "    <tr>\n",
       "      <th>105380</th>\n",
       "      <td>300</td>\n",
       "      <td>1356990300</td>\n",
       "      <td>205349</td>\n",
       "    </tr>\n",
       "    <tr>\n",
       "      <th>105381</th>\n",
       "      <td>300</td>\n",
       "      <td>1356990600</td>\n",
       "      <td>210651</td>\n",
       "    </tr>\n",
       "    <tr>\n",
       "      <th>105382</th>\n",
       "      <td>300</td>\n",
       "      <td>1356990900</td>\n",
       "      <td>201170</td>\n",
       "    </tr>\n",
       "    <tr>\n",
       "      <th>105383</th>\n",
       "      <td>300</td>\n",
       "      <td>1356991200</td>\n",
       "      <td>190217</td>\n",
       "    </tr>\n",
       "    <tr>\n",
       "      <th>105384</th>\n",
       "      <td>300</td>\n",
       "      <td>1356991500</td>\n",
       "      <td>187706</td>\n",
       "    </tr>\n",
       "    <tr>\n",
       "      <th>105385</th>\n",
       "      <td>300</td>\n",
       "      <td>1356991800</td>\n",
       "      <td>190035</td>\n",
       "    </tr>\n",
       "    <tr>\n",
       "      <th>105386</th>\n",
       "      <td>300</td>\n",
       "      <td>1356992100</td>\n",
       "      <td>184818</td>\n",
       "    </tr>\n",
       "    <tr>\n",
       "      <th>105387</th>\n",
       "      <td>300</td>\n",
       "      <td>1356992400</td>\n",
       "      <td>181061</td>\n",
       "    </tr>\n",
       "    <tr>\n",
       "      <th>105388</th>\n",
       "      <td>300</td>\n",
       "      <td>1356992700</td>\n",
       "      <td>181132</td>\n",
       "    </tr>\n",
       "    <tr>\n",
       "      <th>105389</th>\n",
       "      <td>300</td>\n",
       "      <td>1356993000</td>\n",
       "      <td>193461</td>\n",
       "    </tr>\n",
       "    <tr>\n",
       "      <th>105390</th>\n",
       "      <td>300</td>\n",
       "      <td>1356993300</td>\n",
       "      <td>190055</td>\n",
       "    </tr>\n",
       "    <tr>\n",
       "      <th>105391</th>\n",
       "      <td>300</td>\n",
       "      <td>1356993600</td>\n",
       "      <td>176331</td>\n",
       "    </tr>\n",
       "    <tr>\n",
       "      <th>105392</th>\n",
       "      <td>300</td>\n",
       "      <td>1356993900</td>\n",
       "      <td>182450</td>\n",
       "    </tr>\n",
       "    <tr>\n",
       "      <th>105393</th>\n",
       "      <td>300</td>\n",
       "      <td>1356994200</td>\n",
       "      <td>178199</td>\n",
       "    </tr>\n",
       "    <tr>\n",
       "      <th>105394</th>\n",
       "      <td>300</td>\n",
       "      <td>1356994500</td>\n",
       "      <td>174585</td>\n",
       "    </tr>\n",
       "    <tr>\n",
       "      <th>105395</th>\n",
       "      <td>300</td>\n",
       "      <td>1356994800</td>\n",
       "      <td>172619</td>\n",
       "    </tr>\n",
       "    <tr>\n",
       "      <th>105396</th>\n",
       "      <td>300</td>\n",
       "      <td>1356995100</td>\n",
       "      <td>176662</td>\n",
       "    </tr>\n",
       "    <tr>\n",
       "      <th>105397</th>\n",
       "      <td>300</td>\n",
       "      <td>1356995400</td>\n",
       "      <td>170374</td>\n",
       "    </tr>\n",
       "    <tr>\n",
       "      <th>105398</th>\n",
       "      <td>300</td>\n",
       "      <td>1356995700</td>\n",
       "      <td>170562</td>\n",
       "    </tr>\n",
       "    <tr>\n",
       "      <th>105399</th>\n",
       "      <td>300</td>\n",
       "      <td>1356996000</td>\n",
       "      <td>172249</td>\n",
       "    </tr>\n",
       "    <tr>\n",
       "      <th>105400</th>\n",
       "      <td>300</td>\n",
       "      <td>1356996300</td>\n",
       "      <td>166007</td>\n",
       "    </tr>\n",
       "    <tr>\n",
       "      <th>105401</th>\n",
       "      <td>300</td>\n",
       "      <td>1356996600</td>\n",
       "      <td>166831</td>\n",
       "    </tr>\n",
       "    <tr>\n",
       "      <th>105402</th>\n",
       "      <td>300</td>\n",
       "      <td>1356996900</td>\n",
       "      <td>170192</td>\n",
       "    </tr>\n",
       "    <tr>\n",
       "      <th>105403</th>\n",
       "      <td>300</td>\n",
       "      <td>1356997200</td>\n",
       "      <td>165124</td>\n",
       "    </tr>\n",
       "    <tr>\n",
       "      <th>105404</th>\n",
       "      <td>300</td>\n",
       "      <td>1356997500</td>\n",
       "      <td>161127</td>\n",
       "    </tr>\n",
       "    <tr>\n",
       "      <th>105405</th>\n",
       "      <td>300</td>\n",
       "      <td>1356997800</td>\n",
       "      <td>163761</td>\n",
       "    </tr>\n",
       "    <tr>\n",
       "      <th>105406</th>\n",
       "      <td>300</td>\n",
       "      <td>1356998100</td>\n",
       "      <td>161075</td>\n",
       "    </tr>\n",
       "    <tr>\n",
       "      <th>105407</th>\n",
       "      <td>300</td>\n",
       "      <td>1356998400</td>\n",
       "      <td>151634</td>\n",
       "    </tr>\n",
       "  </tbody>\n",
       "</table>\n",
       "<p>105407 rows × 3 columns</p>\n",
       "</div>"
      ],
      "text/plain": [
       "        duration  time_stamp   value\n",
       "1            300  1325376600  105789\n",
       "2            300  1325376900  104731\n",
       "3            300  1325377200  102292\n",
       "4            300  1325377500  102785\n",
       "5            300  1325377800  101610\n",
       "6            300  1325378100  100643\n",
       "7            300  1325378400  101130\n",
       "8            300  1325378700  101967\n",
       "9            300  1325379000  101454\n",
       "10           300  1325379300   99754\n",
       "11           300  1325379600   99858\n",
       "12           300  1325379900  100332\n",
       "13           300  1325380200  102635\n",
       "14           300  1325380500  101870\n",
       "15           300  1325380800  101305\n",
       "16           300  1325381100  101578\n",
       "17           300  1325381400  100676\n",
       "18           300  1325381700  102356\n",
       "19           300  1325382000  100689\n",
       "20           300  1325382300  100228\n",
       "21           300  1325382600   99904\n",
       "22           300  1325382900   97821\n",
       "23           300  1325383200   95446\n",
       "24           300  1325383500   96205\n",
       "25           300  1325383800   95199\n",
       "26           300  1325384100   96309\n",
       "27           300  1325384400   97490\n",
       "28           300  1325384700   95180\n",
       "29           300  1325385000   95926\n",
       "30           300  1325385300   95971\n",
       "...          ...         ...     ...\n",
       "105378       300  1356989700  213207\n",
       "105379       300  1356990000  204460\n",
       "105380       300  1356990300  205349\n",
       "105381       300  1356990600  210651\n",
       "105382       300  1356990900  201170\n",
       "105383       300  1356991200  190217\n",
       "105384       300  1356991500  187706\n",
       "105385       300  1356991800  190035\n",
       "105386       300  1356992100  184818\n",
       "105387       300  1356992400  181061\n",
       "105388       300  1356992700  181132\n",
       "105389       300  1356993000  193461\n",
       "105390       300  1356993300  190055\n",
       "105391       300  1356993600  176331\n",
       "105392       300  1356993900  182450\n",
       "105393       300  1356994200  178199\n",
       "105394       300  1356994500  174585\n",
       "105395       300  1356994800  172619\n",
       "105396       300  1356995100  176662\n",
       "105397       300  1356995400  170374\n",
       "105398       300  1356995700  170562\n",
       "105399       300  1356996000  172249\n",
       "105400       300  1356996300  166007\n",
       "105401       300  1356996600  166831\n",
       "105402       300  1356996900  170192\n",
       "105403       300  1356997200  165124\n",
       "105404       300  1356997500  161127\n",
       "105405       300  1356997800  163761\n",
       "105406       300  1356998100  161075\n",
       "105407       300  1356998400  151634\n",
       "\n",
       "[105407 rows x 3 columns]"
      ]
     },
     "execution_count": 27,
     "metadata": {},
     "output_type": "execute_result"
    }
   ],
   "source": [
    "df"
   ]
  },
  {
   "cell_type": "markdown",
   "metadata": {},
   "source": [
    "### Adding timestamp and grouping"
   ]
  },
  {
   "cell_type": "code",
   "execution_count": 30,
   "metadata": {
    "collapsed": false
   },
   "outputs": [
    {
     "data": {
      "text/plain": [
       "Timestamp('2011-12-31 20:10:00')"
      ]
     },
     "execution_count": 30,
     "metadata": {},
     "output_type": "execute_result"
    }
   ],
   "source": [
    "start_time = pd.to_datetime('2011-12-31 20:10') \n",
    "## Got this from the sheet: \n",
    "## Link: http://services.greenbuttondata.org/sample-data/cc_customer_11.xml"
   ]
  },
  {
   "cell_type": "code",
   "execution_count": 73,
   "metadata": {
    "collapsed": false
   },
   "outputs": [
    {
     "ename": "KeyError",
     "evalue": "'Column not found: 0'",
     "output_type": "error",
     "traceback": [
      "\u001b[0;31m---------------------------------------------------------------------------\u001b[0m",
      "\u001b[0;31mKeyError\u001b[0m                                  Traceback (most recent call last)",
      "\u001b[0;32m<ipython-input-73-781d19453af9>\u001b[0m in \u001b[0;36m<module>\u001b[0;34m()\u001b[0m\n\u001b[1;32m      9\u001b[0m \u001b[0mdf_daily_total\u001b[0m \u001b[0;34m=\u001b[0m \u001b[0mdf_daily\u001b[0m\u001b[0;34m[\u001b[0m\u001b[0;34m'value'\u001b[0m\u001b[0;34m]\u001b[0m\u001b[0;34m.\u001b[0m\u001b[0msum\u001b[0m\u001b[0;34m(\u001b[0m\u001b[0;34m)\u001b[0m\u001b[0;34m\u001b[0m\u001b[0m\n\u001b[1;32m     10\u001b[0m \u001b[0mdf_daily_total\u001b[0m\u001b[0;34m\u001b[0m\u001b[0m\n\u001b[0;32m---> 11\u001b[0;31m \u001b[0mdf_monthly\u001b[0m\u001b[0;34m[\u001b[0m\u001b[0;36m0\u001b[0m\u001b[0;34m]\u001b[0m\u001b[0;34m\u001b[0m\u001b[0m\n\u001b[0m",
      "\u001b[0;32m/usr/local/lib/python2.7/site-packages/pandas/core/groupby.pyc\u001b[0m in \u001b[0;36m__getitem__\u001b[0;34m(self, key)\u001b[0m\n\u001b[1;32m   3379\u001b[0m         \u001b[0;32melse\u001b[0m\u001b[0;34m:\u001b[0m\u001b[0;34m\u001b[0m\u001b[0m\n\u001b[1;32m   3380\u001b[0m             \u001b[0;32mif\u001b[0m \u001b[0mkey\u001b[0m \u001b[0;32mnot\u001b[0m \u001b[0;32min\u001b[0m \u001b[0mself\u001b[0m\u001b[0;34m.\u001b[0m\u001b[0mobj\u001b[0m\u001b[0;34m:\u001b[0m\u001b[0;34m\u001b[0m\u001b[0m\n\u001b[0;32m-> 3381\u001b[0;31m                 \u001b[0;32mraise\u001b[0m \u001b[0mKeyError\u001b[0m\u001b[0;34m(\u001b[0m\u001b[0;34m\"Column not found: %s\"\u001b[0m \u001b[0;34m%\u001b[0m \u001b[0mkey\u001b[0m\u001b[0;34m)\u001b[0m\u001b[0;34m\u001b[0m\u001b[0m\n\u001b[0m\u001b[1;32m   3382\u001b[0m             \u001b[0;31m# kind of a kludge\u001b[0m\u001b[0;34m\u001b[0m\u001b[0;34m\u001b[0m\u001b[0m\n\u001b[1;32m   3383\u001b[0m             return SeriesGroupBy(self.obj[key], selection=key,\n",
      "\u001b[0;31mKeyError\u001b[0m: 'Column not found: 0'"
     ]
    }
   ],
   "source": [
    "df['timestamp'] = pd.date_range(start_time, periods=105407, freq='5min')\n",
    "df['year'] = pd.DatetimeIndex(df['timestamp']).year\n",
    "df['month'] = pd.DatetimeIndex(df['timestamp']).month\n",
    "df['date'] = pd.DatetimeIndex(df['timestamp']).date\n",
    "\n",
    "df_monthly = df.groupby(['month','year'])\n",
    "df_monthly_total = df_monthly['value'].sum() #Monthly total usage\n",
    "df_daily = df.groupby(['date'])\n",
    "df_daily_total = df_daily['value'].sum()\n",
    "df_daily_total\n"
   ]
  },
  {
   "cell_type": "code",
   "execution_count": 101,
   "metadata": {
    "collapsed": false
   },
   "outputs": [
    {
     "ename": "NameError",
     "evalue": "name 'datetime' is not defined",
     "output_type": "error",
     "traceback": [
      "\u001b[0;31m---------------------------------------------------------------------------\u001b[0m",
      "\u001b[0;31mNameError\u001b[0m                                 Traceback (most recent call last)",
      "\u001b[0;32m<ipython-input-101-89149e41636a>\u001b[0m in \u001b[0;36m<module>\u001b[0;34m()\u001b[0m\n\u001b[1;32m      1\u001b[0m \u001b[0mgroups\u001b[0m \u001b[0;34m=\u001b[0m \u001b[0mdict\u001b[0m\u001b[0;34m(\u001b[0m\u001b[0mlist\u001b[0m\u001b[0;34m(\u001b[0m\u001b[0mdf_daily\u001b[0m\u001b[0;34m)\u001b[0m\u001b[0;34m)\u001b[0m\u001b[0;34m\u001b[0m\u001b[0m\n\u001b[0;32m----> 2\u001b[0;31m \u001b[0mgroups\u001b[0m\u001b[0;34m[\u001b[0m\u001b[0mdatetime\u001b[0m\u001b[0;34m.\u001b[0m\u001b[0mdate\u001b[0m\u001b[0;34m(\u001b[0m\u001b[0;36m2011\u001b[0m\u001b[0;34m,\u001b[0m \u001b[0;36m12\u001b[0m\u001b[0;34m,\u001b[0m \u001b[0;36m31\u001b[0m\u001b[0;34m)\u001b[0m\u001b[0;34m]\u001b[0m\u001b[0;34m\u001b[0m\u001b[0m\n\u001b[0m",
      "\u001b[0;31mNameError\u001b[0m: name 'datetime' is not defined"
     ]
    }
   ],
   "source": [
    "groups = dict(list(df_daily))\n"
   ]
  },
  {
   "cell_type": "markdown",
   "metadata": {},
   "source": [
    "### Generating color scale"
   ]
  },
  {
   "cell_type": "code",
   "execution_count": 28,
   "metadata": {
    "collapsed": true
   },
   "outputs": [],
   "source": [
    "red = 0\n",
    "green = 255\n",
    "stepSize = 25\n",
    "color_gn_rd = []\n",
    "color_gn_rd.append((green, red, 0)) ## the lights are GRB format"
   ]
  },
  {
   "cell_type": "code",
   "execution_count": 69,
   "metadata": {
    "collapsed": false
   },
   "outputs": [
    {
     "data": {
      "text/plain": [
       "21"
      ]
     },
     "execution_count": 69,
     "metadata": {},
     "output_type": "execute_result"
    }
   ],
   "source": [
    "while(red < 255): ## start with green and increase red\n",
    "    red += stepSize;\n",
    "    if(red > 245):\n",
    "        red = 255; \n",
    "    color_gn_rd.append((green,red,0))\n",
    "\n",
    "while(green > 0): ## start with red + green and decrease green\n",
    "    green -= stepSize;\n",
    "    if(green < 6):\n",
    "        green = 0; \n",
    "    color_gn_rd.append((green,red,0)); \n",
    "    \n",
    "len(color_gn_rd)"
   ]
  },
  {
   "cell_type": "markdown",
   "metadata": {},
   "source": [
    "### Defining Flashing modes"
   ]
  },
  {
   "cell_type": "code",
   "execution_count": 67,
   "metadata": {
    "collapsed": false
   },
   "outputs": [
    {
     "data": {
      "text/plain": [
       "(45.0, 90.0, 99.0)"
      ]
     },
     "execution_count": 67,
     "metadata": {},
     "output_type": "execute_result"
    }
   ],
   "source": [
    "intensity = np.arange(0,1.1,0.1)\n",
    "reversed(intensity)\n",
    "color = (50,100,110)\n",
    "color_new = (color[0]*.9, color[1]*0.9,color[2]*0.9)\n",
    "color_new"
   ]
  },
  {
   "cell_type": "code",
   "execution_count": 68,
   "metadata": {
    "collapsed": true
   },
   "outputs": [],
   "source": [
    "def led_set(start_position, numLEDs, color): ## Fills the colors\n",
    "    led.fill(color, start=start_position,end=start_position+numLEDs)\n",
    "    led.update()\n",
    "    return\n",
    "\n",
    "def pulse(start_position, numLEDs, color):\n",
    "    ## Step-up intensity by 10% increments, then step down by the same every 0.1 seconds. total time = 4 sec\n",
    "    \n",
    "    intensity = np.arange(0,1.1,0.1) \n",
    "\n",
    "    for i in intensity:\n",
    "        color_new = (color[0]*i,color[1]*i,color[3]*i) \n",
    "        # There is probably a more elegant way to do this.. \n",
    "        led.fill(color_new, start=start_position,end=start_position+numLEDs)\n",
    "        led.update()\n",
    "        time.sleep(0.2)\n",
    "\n",
    "    for i in reversed(intensity):\n",
    "        color_new = (color[0]*i,color[1]*i,color[3]*i) \n",
    "        led.fill(color_new, start=start_position,end=start_position+numLEDs)\n",
    "        led.update()\n",
    "        time.sleep(0.2)        "
   ]
  },
  {
   "cell_type": "code",
   "execution_count": 70,
   "metadata": {
    "collapsed": false
   },
   "outputs": [
    {
     "name": "stdout",
     "output_type": "stream",
     "text": [
      "Starting Display\n",
      "Press 'control + c' to stop\n"
     ]
    }
   ],
   "source": [
    "print ('Starting Display')\n",
    "print ('Press \\'control + c\\' to stop' )\n"
   ]
  },
  {
   "cell_type": "markdown",
   "metadata": {},
   "source": [
    "### Display 1: Last 10 day average on top, current usage on bottom"
   ]
  },
  {
   "cell_type": "code",
   "execution_count": null,
   "metadata": {
    "collapsed": true
   },
   "outputs": [],
   "source": [
    "i = 11 \n",
    "last_index = len(df_daily_total)\n",
    "last_10day_average = []\n",
    "color_top = []\n",
    "color_bottom = []\n",
    "while (i < last_index):\n",
    "    last_10day_average.append(df_daily_total[i-11:i-1].mean())\n",
    "    "
   ]
  }
 ],
 "metadata": {
  "kernelspec": {
   "display_name": "Python 2",
   "language": "python",
   "name": "python2"
  },
  "language_info": {
   "codemirror_mode": {
    "name": "ipython",
    "version": 2
   },
   "file_extension": ".py",
   "mimetype": "text/x-python",
   "name": "python",
   "nbconvert_exporter": "python",
   "pygments_lexer": "ipython2",
   "version": "2.7.10"
  }
 },
 "nbformat": 4,
 "nbformat_minor": 0
}
