{
 "cells": [
  {
   "cell_type": "markdown",
   "metadata": {},
   "source": [
    "### Generating data files"
   ]
  },
  {
   "cell_type": "code",
   "execution_count": 1,
   "metadata": {
    "collapsed": true
   },
   "outputs": [],
   "source": [
    "import pandas as pd\n",
    "import numpy as np\n",
    "\n",
    "df_dunne = pd.read_pickle('All_meters_concat')\n",
    "df_lindblom = pd.read_pickle('Lindblom_All_meters_concat')\n",
    "\n",
    "df_dunne['Month'] = pd.DatetimeIndex(df_dunne['time_stamp']).month\n",
    "df_dunne['Year'] = pd.DatetimeIndex(df_dunne['time_stamp']).year\n",
    "df_dunne['Date'] = pd.DatetimeIndex(df_dunne['time_stamp']).date\n",
    "\n",
    "df_lindblom['Month'] = pd.DatetimeIndex(df_lindblom['time_stamp']).month\n",
    "df_lindblom['Year'] = pd.DatetimeIndex(df_lindblom['time_stamp']).year\n",
    "df_lindblom['Date'] = pd.DatetimeIndex(df_lindblom['time_stamp']).date"
   ]
  },
  {
   "cell_type": "code",
   "execution_count": 2,
   "metadata": {
    "collapsed": false
   },
   "outputs": [],
   "source": [
    "# Group 1 - Summer winter monthly average\n",
    "\n",
    "\n",
    "df_Monthlygroup = df_dunne.groupby(['Month', 'Year'])\n",
    "\n",
    "df_MonthlyAverage = df_Monthlygroup['value'].mean()*2\n",
    "df_MonthlyAverage.to_csv('Dunne_Monthly_Average_KW.csv', sep=',')\n",
    "\n",
    "df_Winter_Monthly_Average = []\n",
    "df_Winter_Monthly_Average.append([12, 2015, df_MonthlyAverage[12, 2015]])\n",
    "df_Winter_Monthly_Average.append([1, 2015, df_MonthlyAverage[1, 2015]])\n",
    "df_Winter_Monthly_Average.append([2, 2015, df_MonthlyAverage[2, 2015]])\n",
    "\n",
    "df_Summer_Monthly_Average = []\n",
    "df_Summer_Monthly_Average.append([6, 2015, df_MonthlyAverage[6, 2015]])\n",
    "df_Summer_Monthly_Average.append([7, 2015, df_MonthlyAverage[7, 2015]])\n",
    "df_Summer_Monthly_Average.append([8, 2015, df_MonthlyAverage[8, 2015]])"
   ]
  },
  {
   "cell_type": "code",
   "execution_count": 3,
   "metadata": {
    "collapsed": false
   },
   "outputs": [],
   "source": [
    "np.savetxt(\"Dunne_Winter_Monthly_Average_KW.csv\", df_Winter_Monthly_Average , delimiter=\",\", fmt='%s')\n",
    "np.savetxt(\"Dunne_Summer_Monthly_Average_KW.csv\", df_Summer_Monthly_Average , delimiter=\",\", fmt='%s')"
   ]
  },
  {
   "cell_type": "code",
   "execution_count": 4,
   "metadata": {
    "collapsed": false
   },
   "outputs": [],
   "source": [
    "# Group 2 - Daily max for a year\n",
    "\n",
    "# Dunne\n",
    "df_dunne_2015 = df_dunne[(df_dunne['time_stamp'] > '2015-01-18 00:00:00') & (df_dunne['time_stamp'] < '2016-01-17 00:00:00')]\n",
    "df_dunne_dailygroup = df_dunne_2015.groupby('Date')\n",
    "df_Daily_Max_1yr = df_dunne_dailygroup['value'].max()\n",
    "df_Daily_Max_1yr.to_csv('Dunne_Daily_Max_2015_KWH.csv', sep=',')\n",
    "\n",
    "# Lindblom\n",
    "df_lindblom_2015 = df_lindblom[(df_lindblom['time_stamp'] > '2015-01-18 00:00:00') & (df_lindblom['time_stamp'] < '2016-01-17 00:00:00')]\n",
    "df_lindblom_dailygroup = df_lindblom_2015.groupby('Date')\n",
    "df_Daily_Max_1yr2 = df_lindblom_dailygroup['value'].max()\n",
    "df_Daily_Max_1yr2.to_csv('Lindblom_Daily_Max_2015_KWH.csv', sep=',')"
   ]
  },
  {
   "cell_type": "code",
   "execution_count": 5,
   "metadata": {
    "collapsed": true
   },
   "outputs": [],
   "source": [
    "# Group 3 - Summer on top, winter on bottom. Daily Average\n",
    "\n",
    "# Dunne - Winter\n",
    "df_dunne_winter = df_dunne[((df_dunne['time_stamp'] > '2015-01-16 00:00:00') & (df_dunne['time_stamp'] < '2015-02-28 00:00:00')\n",
    "                          | (df_dunne['time_stamp'] > '2015-12-01 00:00:00') & (df_dunne['time_stamp'] < '2016-01-01 00:00:00'))]\n",
    "df_dunne_dailygroup = df_dunne_winter.groupby('Date')\n",
    "df_Daily_Average = df_dunne_dailygroup['value'].mean()*2\n",
    "df_Daily_Average.to_csv('Dunne_Winter_Daily_Average_KW.csv', sep=',')\n",
    "\n",
    "# Dunne - Summer\n",
    "df_dunne_summer = df_dunne[(df_dunne['time_stamp'] > '2015-06-01 00:00:00') & (df_dunne['time_stamp'] < '2015-09-01 00:00:00')]\n",
    "df_dunne_dailygroup = df_dunne_summer.groupby('Date')\n",
    "df_Daily_Average = df_dunne_dailygroup['value'].mean()*2\n",
    "df_Daily_Average.to_csv('Dunne_Summer_Daily_Average_KW.csv', sep=',')"
   ]
  },
  {
   "cell_type": "code",
   "execution_count": 6,
   "metadata": {
    "collapsed": false
   },
   "outputs": [],
   "source": [
    "# Group 4 - Dunne on Top, Lindblom on bottom: Monthly average\n",
    "\n",
    "df_Monthlygroup = df_dunne.groupby(['Month', 'Year'])\n",
    "df_MonthlyAverage_Dunne = df_Monthlygroup['value'].mean()*2\n",
    "\n",
    "df_Monthlygroup = df_lindblom.groupby(['Month', 'Year'])\n",
    "df_MonthlyAverage_Lindblom = df_Monthlygroup['value'].mean()*2\n",
    "\n",
    "df_Dunne_Monthly_Average = []\n",
    "df_Lindblom_Monthly_Average = []\n",
    "for i in range(1,13):\n",
    "    df_Dunne_Monthly_Average.append([i, 2015, df_MonthlyAverage_Dunne[i, 2015]] )\n",
    "    \n",
    "    df_Lindblom_Monthly_Average.append([i, 2015, df_MonthlyAverage_Lindblom[i, 2015] ])\n",
    "    \n",
    "np.savetxt(\"Dunne_Monthly_Average_2015_KW.csv\", df_Dunne_Monthly_Average , delimiter=\",\", fmt='%s')\n",
    "np.savetxt(\"Lindblom_Monthly_Average_2015_KW.csv\", df_Lindblom_Monthly_Average , delimiter=\",\", fmt='%s')"
   ]
  },
  {
   "cell_type": "markdown",
   "metadata": {},
   "source": [
    "### Group 1:\n",
    "###### Wants the top of the lamp to show data from the summer; bottom to show data from the winter.  Display monthly average for each where the number of leds that light up indicated the amount of energy used.  since its monthly average the data will be updated 3x then repeat."
   ]
  },
  {
   "cell_type": "code",
   "execution_count": 9,
   "metadata": {
    "collapsed": false
   },
   "outputs": [
    {
     "data": {
      "text/plain": [
       "[1, 2, 3, 10]"
      ]
     },
     "execution_count": 9,
     "metadata": {},
     "output_type": "execute_result"
    }
   ],
   "source": [
    "value1 = [1,2,3,10]\n",
    "value2 = [5,6,7]\n"
   ]
  },
  {
   "cell_type": "code",
   "execution_count": null,
   "metadata": {
    "collapsed": true
   },
   "outputs": [],
   "source": [
    "\n",
    "def Group1():\n",
    "    # Step 1: OPEN FILE\n",
    "    [month, year, value] = OpenMonthlyData('Dunne_Monthly_Average_KW.csv')\n",
    "    \n",
    "    #----------------------------------------#\n",
    "    \n",
    "    # Step 2: GET SUMMER & WINTER DATA\n",
    "\n",
    "    # Winter = (12,2015), (1,2015), (2,2015) ## because (2,2016) is all zeros. Not sure why.\n",
    "    # Summer = (5,2015), (6,2015), (7,2015)\n",
    "    # months = ['1', '1', '2', '2', '3', '4', '5', '6', '7', '8', '9', '10', '11', '12']\n",
    "\n",
    "    winter_index = [0,2,13]\n",
    "    summer_index = [6,7,8]\n",
    "    winter_value = []\n",
    "    summer_value = []\n",
    "    \n",
    "    for index in winter_index:\n",
    "        winter_value.append(value[index])\n",
    "\n",
    "    for index in summer_index:\n",
    "        summer_value.append(value[index])\n",
    "        \n",
    "    #----------------------------------------#\n",
    "        \n",
    "    # Step 3: GET MIN & MAX \n",
    "\n",
    "    min_value = min(value)\n",
    "    max_value = max(value)\n",
    "    \n",
    "    #----------------------------------------#\n",
    "    \n",
    "    # Step 4: SCALE DATA\n",
    "    # Winter on Bottom --> LEDS 0-39. Summer on TOP --> LEDS 40-79\n",
    "\n",
    "    numLED_winter = NumScaler(0, 39, winter_value, min_value, max_value)\n",
    "    numLED_summer = NumScaler(40, 79, summer_value, min_value, max_value)\n",
    "\n",
    "    #----------------------------------------#\n",
    "\n",
    "    # Step 5: Display data on LEDs\n",
    "    while (True): ## TO CONTINUOUSLY REPEAT DATA\n",
    "        print ('Press control + C to stop the program')\n",
    "\n",
    "        Flash(3, 0.2, Green) ## Flash everytime it starts over\n",
    "\n",
    "        summer_color = Red\n",
    "        winter_color = Blue\n",
    "\n",
    "        for i in range(3):\n",
    "            led.fill(winter_color, 0, numLED_winter[i])\n",
    "            led.fill(summer_color, 40, numLED_summer[i])\n",
    "            led.update()\n",
    "            time.delay(0.5)\n",
    "        \n",
    "        \n",
    "    "
   ]
  },
  {
   "cell_type": "markdown",
   "metadata": {},
   "source": [
    "### Group 2:\n",
    "###### Top of lamp is Lindblom, bottom is Dunne; using color scale show the daily maximum.  flash at the beginning of a new week."
   ]
  },
  {
   "cell_type": "code",
   "execution_count": null,
   "metadata": {
    "collapsed": true
   },
   "outputs": [],
   "source": []
  },
  {
   "cell_type": "markdown",
   "metadata": {},
   "source": [
    "\n",
    "### Group 3: \n",
    "###### Like group 1 but with a color scale instead of a number scale, and daily data average instead of monthly"
   ]
  },
  {
   "cell_type": "code",
   "execution_count": null,
   "metadata": {
    "collapsed": true
   },
   "outputs": [],
   "source": []
  },
  {
   "cell_type": "markdown",
   "metadata": {},
   "source": [
    "### Group 4:\n",
    "###### wants the top of the lamp to show data from Dunne; bottom to show data from Lindblom. Display monthly averages as colors. All top row lights will flash the same color depending on Dunne’s usage. All bottom row lights will flash the same color depending on Lindblom’s usage. Flash between months. Repeat"
   ]
  },
  {
   "cell_type": "code",
   "execution_count": null,
   "metadata": {
    "collapsed": true
   },
   "outputs": [],
   "source": []
  }
 ],
 "metadata": {
  "kernelspec": {
   "display_name": "Python 3",
   "language": "python",
   "name": "python3"
  },
  "language_info": {
   "codemirror_mode": {
    "name": "ipython",
    "version": 3
   },
   "file_extension": ".py",
   "mimetype": "text/x-python",
   "name": "python",
   "nbconvert_exporter": "python",
   "pygments_lexer": "ipython3",
   "version": "3.4.3"
  }
 },
 "nbformat": 4,
 "nbformat_minor": 0
}
