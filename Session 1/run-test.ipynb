{
 "cells": [
  {
   "cell_type": "markdown",
   "metadata": {},
   "source": [
    "### Importing Libraries"
   ]
  },
  {
   "cell_type": "code",
   "execution_count": null,
   "metadata": {
    "collapsed": true
   },
   "outputs": [],
   "source": [
    "from bibliopixel import *\n",
    "from bibliopixel.drivers.LPD8806 import *\n",
    "from bibliopixel import LEDStrip\n",
    "\n",
    "import time"
   ]
  },
  {
   "cell_type": "markdown",
   "metadata": {},
   "source": [
    "### Initial setup"
   ]
  },
  {
   "cell_type": "code",
   "execution_count": null,
   "metadata": {
    "collapsed": true
   },
   "outputs": [],
   "source": [
    "numLeds=26\n",
    "driver=DriverLPD8806(numLeds)\n",
    "led=LEDStrip(driver)\n",
    "\n",
    "r = (0, 180, 0) # LEDs are GRB; 255 is too bright\n",
    "g = (180, 0, 0)\n",
    "b = (0, 0, 180)\n"
   ]
  },
  {
   "cell_type": "markdown",
   "metadata": {},
   "source": [
    "### Each LED turns on serially\n",
    "####Once done they all flash ON & OFF till user ends the program with CTRL + C"
   ]
  },
  {
   "cell_type": "code",
   "execution_count": null,
   "metadata": {
    "collapsed": true
   },
   "outputs": [],
   "source": [
    "led.fillRGB(0,0,0) # turns everything off\n",
    "led.update()\n",
    "\n",
    "for i in range (numLeds):\n",
    "    print ('LED '+str(i+1))\n",
    "    led.set(i, b)\n",
    "    led.update()\n",
    "    time.sleep(4)\n",
    "\n",
    "print ('All LEDs!')\n",
    "print ('Press \\'Ctrl + C\\' to stop')\n",
    "while(true):\n",
    "    led.fillrgb(b)\n",
    "    led.update()\n",
    "    time.sleep(4)\n"
   ]
  }
 ],
 "metadata": {
  "kernelspec": {
   "display_name": "Python 3",
   "language": "python",
   "name": "python3"
  },
  "language_info": {
   "codemirror_mode": {
    "name": "ipython",
    "version": 3
   },
   "file_extension": ".py",
   "mimetype": "text/x-python",
   "name": "python",
   "nbconvert_exporter": "python",
   "pygments_lexer": "ipython3",
   "version": "3.4.3"
  }
 },
 "nbformat": 4,
 "nbformat_minor": 0
}
