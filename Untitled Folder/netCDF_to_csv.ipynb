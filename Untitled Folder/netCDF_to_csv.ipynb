{
 "cells": [
  {
   "cell_type": "markdown",
   "metadata": {},
   "source": [
    "### Import libraries"
   ]
  },
  {
   "cell_type": "code",
   "execution_count": 9,
   "metadata": {
    "collapsed": true
   },
   "outputs": [],
   "source": [
    "from netCDF4 import Dataset\n",
    "import pandas as pd\n",
    "import matplotlib.pyplot as plt\n",
    "import csv\n",
    "import numpy as np\n",
    "import numpy.ma as ma"
   ]
  },
  {
   "cell_type": "markdown",
   "metadata": {},
   "source": [
    "### Import datafile"
   ]
  },
  {
   "cell_type": "code",
   "execution_count": 10,
   "metadata": {
    "collapsed": false
   },
   "outputs": [],
   "source": [
    "my_example_nc_file = '/Users/radharamachandran/Downloads/Guatemala100year.nc'\n",
    "fh = Dataset(my_example_nc_file, mode='r')"
   ]
  },
  {
   "cell_type": "markdown",
   "metadata": {},
   "source": [
    "### Pick out the necessary variables"
   ]
  },
  {
   "cell_type": "code",
   "execution_count": 11,
   "metadata": {
    "collapsed": true
   },
   "outputs": [],
   "source": [
    "time = fh.variables['time'][:]\n",
    "y = fh.variables['yield'][:]\n",
    "lon = fh.variables['lon'][:]\n",
    "lat = fh.variables['lat'][:]"
   ]
  },
  {
   "cell_type": "markdown",
   "metadata": {},
   "source": [
    "### Function that writes a variable to a csv file"
   ]
  },
  {
   "cell_type": "code",
   "execution_count": 12,
   "metadata": {
    "collapsed": false
   },
   "outputs": [],
   "source": [
    "def write_to_csv(var_name, output_filename):\n",
    "    with open(output_filename, \"w\", newline=\"\") as csvFile:\n",
    "        outputwriter = csv.writer(csvFile, delimiter=',')\n",
    "        # yield has 5 levels of nesting, not for other variables\n",
    "        \n",
    "        if (np.size(var_name)>1000): ## Quick and dirty way to separate out 'yield' from other variables\n",
    "            for var0 in var_name: \n",
    "                for var1 in var0:\n",
    "                    for var2 in var1:\n",
    "                        for var3 in var2:\n",
    "                            new_var = [0 if (x is np.ma.masked) else x for x in var3]\n",
    "                            outputwriter.writerow(new_var)\n",
    "                            \n",
    "        else:\n",
    "            outputwriter.writerow(var_name)"
   ]
  },
  {
   "cell_type": "markdown",
   "metadata": {},
   "source": [
    "### Run function write_to_csv\n",
    "#### First argument is the variable name, second argument is the file name"
   ]
  },
  {
   "cell_type": "code",
   "execution_count": 13,
   "metadata": {
    "collapsed": false
   },
   "outputs": [],
   "source": [
    "write_to_csv(y, 'Guatemala100-yield.csv')\n",
    "write_to_csv(lat, 'Guatemala100-lat.csv')\n",
    "write_to_csv(lon, 'Guatemala100-lon.csv')\n",
    "write_to_csv(time, 'Guatemala100-time.csv')"
   ]
  },
  {
   "cell_type": "markdown",
   "metadata": {},
   "source": [
    "### Function to read CSV file and compute average"
   ]
  },
  {
   "cell_type": "code",
   "execution_count": 14,
   "metadata": {
    "collapsed": true
   },
   "outputs": [],
   "source": [
    "def calc_avg(yieldfile, timefile):\n",
    "    t = [];\n",
    "    yld = [];\n",
    "    \n",
    "    ## Reads timefile\n",
    "    with open(timefile, 'rt') as csvfile:\n",
    "        timereader = csv.reader(csvfile, delimiter=',', quotechar='|')\n",
    "        for row in timereader:\n",
    "            arr = np.asarray(row)\n",
    "            t.append(arr)\n",
    "    \n",
    "    ## Reads yieldfile. yld will have yld for each year, written one after another. \n",
    "    with open(yieldfile, 'rt') as csvfile:\n",
    "        yieldreader = csv.reader(csvfile, delimiter=',', quotechar='|')\n",
    "        for row in yieldreader:\n",
    "            arr = np.asarray(row)\n",
    "            yld.append(arr) \n",
    "            \n",
    "            \n",
    "    ## Each time point has an associated yield -- a 720X360 array.\n",
    "    len_time = np.size(t,1)\n",
    "    \n",
    "    with open('avg-'+yieldfile, 'w+') as csvfile:\n",
    "        avgwriter = csv.writer(csvfile, delimiter=' ', quoting=csv.QUOTE_MINIMAL)\n",
    "        for i in range(len_time):\n",
    "            ## Select the appropriate yield value\n",
    "            yld_t = yld[i*720:(i+1)*720][:]\n",
    "\n",
    "            ## Convert into float\n",
    "            fyld = [[float(column) for column in row] for row in yld_t]\n",
    "\n",
    "            ## Find nonzero values\n",
    "            nzy = np.nonzero(fyld)\n",
    "            len1 = np.size(nzy,1) ##size(len1,0) == 2 for row & column\n",
    "\n",
    "            total = 0\n",
    "            for j in range(len1):\n",
    "                total = total + fyld[(nzy[0][j])][(nzy[1][j])]\n",
    "\n",
    "            avg = total/len1\n",
    "            avgwriter.writerow([int(t[0][i]), total, avg])    \n",
    "        \n",
    "\n",
    "    return(yld, t)"
   ]
  },
  {
   "cell_type": "code",
   "execution_count": 15,
   "metadata": {
    "collapsed": false
   },
   "outputs": [],
   "source": [
    "[yld, t] = calc_avg('Guatemala100-yield.csv', 'Guatemala100-time.csv')"
   ]
  }
 ],
 "metadata": {
  "kernelspec": {
   "display_name": "Python 3",
   "language": "python",
   "name": "python3"
  },
  "language_info": {
   "codemirror_mode": {
    "name": "ipython",
    "version": 3
   },
   "file_extension": ".py",
   "mimetype": "text/x-python",
   "name": "python",
   "nbconvert_exporter": "python",
   "pygments_lexer": "ipython3",
   "version": "3.4.3"
  }
 },
 "nbformat": 4,
 "nbformat_minor": 0
}
