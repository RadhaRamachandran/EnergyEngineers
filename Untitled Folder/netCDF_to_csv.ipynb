{
 "cells": [
  {
   "cell_type": "markdown",
   "metadata": {},
   "source": [
    "### Import libraries"
   ]
  },
  {
   "cell_type": "code",
   "execution_count": 1,
   "metadata": {
    "collapsed": true
   },
   "outputs": [],
   "source": [
    "from netCDF4 import Dataset\n",
    "import pandas as pd\n",
    "import matplotlib.pyplot as plt\n",
    "import csv\n",
    "import numpy as np\n",
    "import numpy.ma as ma"
   ]
  },
  {
   "cell_type": "markdown",
   "metadata": {},
   "source": [
    "### Import datafile"
   ]
  },
  {
   "cell_type": "code",
   "execution_count": 2,
   "metadata": {
    "collapsed": false
   },
   "outputs": [],
   "source": [
    "my_example_nc_file = '/Users/radharamachandran/Downloads/Data-Guatemala.nc'\n",
    "fh = Dataset(my_example_nc_file, mode='r')"
   ]
  },
  {
   "cell_type": "markdown",
   "metadata": {},
   "source": [
    "### Pick out the necessary variables"
   ]
  },
  {
   "cell_type": "code",
   "execution_count": 3,
   "metadata": {
    "collapsed": true
   },
   "outputs": [],
   "source": [
    "time = fh.variables['time'][:]\n",
    "y = fh.variables['yield'][:]\n",
    "lon = fh.variables['lon'][:]\n",
    "lat = fh.variables['lat'][:]"
   ]
  },
  {
   "cell_type": "markdown",
   "metadata": {},
   "source": [
    "### Function that writes a variable to a csv file"
   ]
  },
  {
   "cell_type": "code",
   "execution_count": 4,
   "metadata": {
    "collapsed": false
   },
   "outputs": [],
   "source": [
    "def write_to_csv(var_name, output_filename):\n",
    "    with open(output_filename, \"w\", newline=\"\") as csvFile:\n",
    "        outputwriter = csv.writer(csvFile, delimiter=',')\n",
    "        # yield has 5 levels of nesting, not for other variables\n",
    "        \n",
    "        if (np.size(var_name)>1000): ## Quick and dirty way to separate out 'yield' from other variables\n",
    "            for var0 in var_name:\n",
    "                for var1 in var0:\n",
    "                    for var2 in var1:\n",
    "                        for var3 in var2:\n",
    "                            new_var = [0 if (x is np.ma.masked) else x for x in var3]\n",
    "                            outputwriter.writerow(new_var)\n",
    "                            \n",
    "        else:\n",
    "            outputwriter.writerow(var_name)"
   ]
  },
  {
   "cell_type": "markdown",
   "metadata": {},
   "source": [
    "### Run function write_to_csv\n",
    "#### First argument is the variable name, second argument is the file name"
   ]
  },
  {
   "cell_type": "code",
   "execution_count": 6,
   "metadata": {
    "collapsed": false
   },
   "outputs": [],
   "source": [
    "write_to_csv(y, 'guetamala-yield.csv')\n",
    "write_to_csv(lat, 'guetemala-lat.csv')\n",
    "write_to_csv(lon, 'guetemala-lon.csv')\n",
    "write_to_csv(time, 'guetemala-time.csv')"
   ]
  },
  {
   "cell_type": "code",
   "execution_count": null,
   "metadata": {
    "collapsed": true
   },
   "outputs": [],
   "source": []
  }
 ],
 "metadata": {
  "kernelspec": {
   "display_name": "Python 3",
   "language": "python",
   "name": "python3"
  },
  "language_info": {
   "codemirror_mode": {
    "name": "ipython",
    "version": 3
   },
   "file_extension": ".py",
   "mimetype": "text/x-python",
   "name": "python",
   "nbconvert_exporter": "python",
   "pygments_lexer": "ipython3",
   "version": "3.4.3"
  }
 },
 "nbformat": 4,
 "nbformat_minor": 0
}
