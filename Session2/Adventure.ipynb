{
 "cells": [
  {
   "cell_type": "code",
   "execution_count": 1,
   "metadata": {
    "collapsed": false
   },
   "outputs": [
    {
     "name": "stdout",
     "output_type": "stream",
     "text": [
      "You find yourself inside a small house.\n",
      "In front of you is a small box. What do you do?\n",
      "1: Open the box \n",
      "2: Leave the house\n",
      "-->1\n",
      "Inside the box you find a magic cookie.\n",
      "You win the game!\n"
     ]
    }
   ],
   "source": [
    "while True:\n",
    "    print 'You find yourself inside a small house.'\n",
    "    print 'In front of you is a small box. What do you do?'\n",
    "    print '1: Open the box ' \n",
    "    print '2: Leave the house'\n",
    "    s = int(raw_input('-->'))\n",
    "    if s == 1:\n",
    "        print 'Inside the box you find a magic cookie.'\n",
    "        print 'You win the game!'\n",
    "        break\n",
    "    elif s == 2:\n",
    "        print 'You walk away and never come back.'\n",
    "        break\n",
    "    else:\n",
    "        print 'You cannot do that.'"
   ]
  },
  {
   "cell_type": "code",
   "execution_count": null,
   "metadata": {
    "collapsed": true
   },
   "outputs": [],
   "source": []
  }
 ],
 "metadata": {
  "kernelspec": {
   "display_name": "Python 2",
   "language": "python",
   "name": "python2"
  },
  "language_info": {
   "codemirror_mode": {
    "name": "ipython",
    "version": 2
   },
   "file_extension": ".py",
   "mimetype": "text/x-python",
   "name": "python",
   "nbconvert_exporter": "python",
   "pygments_lexer": "ipython2",
   "version": "2.7.10"
  }
 },
 "nbformat": 4,
 "nbformat_minor": 0
}
