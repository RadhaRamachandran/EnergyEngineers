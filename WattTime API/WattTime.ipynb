{
 "cells": [
  {
   "cell_type": "code",
   "execution_count": 38,
   "metadata": {
    "collapsed": false
   },
   "outputs": [],
   "source": [
    "import requests\n",
    "import json\n",
    "import csv\n",
    "import numpy as np\n",
    "import matplotlib.pyplot as plt\n",
    "from pandas.io.json import json_normalize\n",
    "import time"
   ]
  },
  {
   "cell_type": "code",
   "execution_count": null,
   "metadata": {
    "collapsed": true
   },
   "outputs": [],
   "source": [
    "from bibliopixel import *\n",
    "from bibliopixel.drivers.LPD8806 import *\n",
    "from bibliopixel import LEDStrip\n",
    "from bibliopixel.colors import colors"
   ]
  },
  {
   "cell_type": "markdown",
   "metadata": {},
   "source": [
    "## Set up LED Strip"
   ]
  },
  {
   "cell_type": "code",
   "execution_count": null,
   "metadata": {
    "collapsed": false
   },
   "outputs": [],
   "source": [
    "numLeds=26\n",
    "driver=DriverLPD8806(numLeds)\n",
    "led=LEDStrip(driver)"
   ]
  },
  {
   "cell_type": "markdown",
   "metadata": {},
   "source": [
    "#### There are 6 LEDs per side of the cube"
   ]
  },
  {
   "cell_type": "code",
   "execution_count": null,
   "metadata": {
    "collapsed": true
   },
   "outputs": [],
   "source": [
    "numLED=6"
   ]
  },
  {
   "cell_type": "markdown",
   "metadata": {},
   "source": [
    "###LED SET"
   ]
  },
  {
   "cell_type": "code",
   "execution_count": null,
   "metadata": {
    "collapsed": true
   },
   "outputs": [],
   "source": [
    "## numLED=number of LED's per side of the cube\n",
    "## ledStart=index of first LED on that side of the cube\n",
    "## color=GRB color\n",
    "## ledon=number of LEDs to turn on \n",
    "def led_set(ledon, numLED, ledStart, color):\n",
    "    led.fill(color,start=ledStart,end=ledon)\n",
    "    led.fill(0,0,0),start=ledon,end=ledStart+numLED)\n",
    "    led.update()\n",
    "    return"
   ]
  },
  {
   "cell_type": "markdown",
   "metadata": {},
   "source": [
    "###Define Query"
   ]
  },
  {
   "cell_type": "code",
   "execution_count": 3,
   "metadata": {
    "collapsed": false
   },
   "outputs": [],
   "source": [
    "ba = 'PJM' # Balancing Authority\n",
    "start_at='2015-11-20T11%3A30%3A00'\n",
    "end_at='2015-11-20T12%3A30%3A00'\n",
    "url = 'https://api.watttime.org:443/api/v1/datapoints/?ba=PJM&start_at='+start_at+'&end_at='+end_at\n",
    "#url = 'https://api.watttime.org:443/api/v1/datapoints/?ba=PJM&start_at=2015-11-19T11%3A30%3A00&end_at=2015-11-19T12%3A00%3A00'"
   ]
  },
  {
   "cell_type": "markdown",
   "metadata": {},
   "source": [
    "###Query WattTime"
   ]
  },
  {
   "cell_type": "code",
   "execution_count": 4,
   "metadata": {
    "collapsed": true
   },
   "outputs": [],
   "source": [
    "r = requests.get(url)\n",
    "data = r.json()"
   ]
  },
  {
   "cell_type": "markdown",
   "metadata": {},
   "source": [
    "###JSON-->Pandas"
   ]
  },
  {
   "cell_type": "code",
   "execution_count": 4,
   "metadata": {
    "collapsed": false
   },
   "outputs": [],
   "source": [
    "##quick look at the data format\n",
    "\n",
    "#print (data[u'results'][0]['genmix'])\n",
    "#print (data)"
   ]
  },
  {
   "cell_type": "code",
   "execution_count": 5,
   "metadata": {
    "collapsed": false
   },
   "outputs": [],
   "source": [
    "##basic json -->pandas (using reformatted one below)\n",
    "\n",
    "#df=json_normalize(data[u'results'])\n",
    "#df2=json_normalize(data[u'results'][0]['genmix'])\n",
    "#df"
   ]
  },
  {
   "cell_type": "markdown",
   "metadata": {},
   "source": [
    "### Cleaning up and merging the dataframe"
   ]
  },
  {
   "cell_type": "code",
   "execution_count": 5,
   "metadata": {
    "collapsed": false
   },
   "outputs": [
    {
     "data": {
      "text/html": [
       "<div>\n",
       "<table border=\"1\" class=\"dataframe\">\n",
       "  <thead>\n",
       "    <tr style=\"text-align: right;\">\n",
       "      <th></th>\n",
       "      <th>fuel</th>\n",
       "      <th>gen_MW</th>\n",
       "      <th>carbon</th>\n",
       "      <th>timestamp</th>\n",
       "      <th>ba</th>\n",
       "      <th>created_at</th>\n",
       "      <th>market</th>\n",
       "      <th>freq</th>\n",
       "    </tr>\n",
       "  </thead>\n",
       "  <tbody>\n",
       "    <tr>\n",
       "      <th>0</th>\n",
       "      <td>nonwind</td>\n",
       "      <td>83397</td>\n",
       "      <td>1438.044603</td>\n",
       "      <td>2015-11-20T12:30:00Z</td>\n",
       "      <td>PJM</td>\n",
       "      <td>2015-11-20T12:38:00.683721Z</td>\n",
       "      <td>RT5M</td>\n",
       "      <td>5m</td>\n",
       "    </tr>\n",
       "    <tr>\n",
       "      <th>1</th>\n",
       "      <td>wind</td>\n",
       "      <td>3593</td>\n",
       "      <td>1438.044603</td>\n",
       "      <td>2015-11-20T12:30:00Z</td>\n",
       "      <td>PJM</td>\n",
       "      <td>2015-11-20T12:38:00.683721Z</td>\n",
       "      <td>RT5M</td>\n",
       "      <td>5m</td>\n",
       "    </tr>\n",
       "    <tr>\n",
       "      <th>2</th>\n",
       "      <td>nonwind</td>\n",
       "      <td>83284</td>\n",
       "      <td>1436.310749</td>\n",
       "      <td>2015-11-20T12:25:00Z</td>\n",
       "      <td>PJM</td>\n",
       "      <td>2015-11-20T12:33:00.761622Z</td>\n",
       "      <td>RT5M</td>\n",
       "      <td>5m</td>\n",
       "    </tr>\n",
       "    <tr>\n",
       "      <th>3</th>\n",
       "      <td>wind</td>\n",
       "      <td>3693</td>\n",
       "      <td>1436.310749</td>\n",
       "      <td>2015-11-20T12:25:00Z</td>\n",
       "      <td>PJM</td>\n",
       "      <td>2015-11-20T12:33:00.761622Z</td>\n",
       "      <td>RT5M</td>\n",
       "      <td>5m</td>\n",
       "    </tr>\n",
       "    <tr>\n",
       "      <th>4</th>\n",
       "      <td>nonwind</td>\n",
       "      <td>82922</td>\n",
       "      <td>1433.892443</td>\n",
       "      <td>2015-11-20T12:20:00Z</td>\n",
       "      <td>PJM</td>\n",
       "      <td>2015-11-20T12:28:00.353635Z</td>\n",
       "      <td>RT5M</td>\n",
       "      <td>5m</td>\n",
       "    </tr>\n",
       "    <tr>\n",
       "      <th>5</th>\n",
       "      <td>wind</td>\n",
       "      <td>3823</td>\n",
       "      <td>1433.892443</td>\n",
       "      <td>2015-11-20T12:20:00Z</td>\n",
       "      <td>PJM</td>\n",
       "      <td>2015-11-20T12:28:00.353635Z</td>\n",
       "      <td>RT5M</td>\n",
       "      <td>5m</td>\n",
       "    </tr>\n",
       "    <tr>\n",
       "      <th>6</th>\n",
       "      <td>nonwind</td>\n",
       "      <td>82909</td>\n",
       "      <td>1432.511663</td>\n",
       "      <td>2015-11-20T12:15:00Z</td>\n",
       "      <td>PJM</td>\n",
       "      <td>2015-11-20T12:23:00.776095Z</td>\n",
       "      <td>RT5M</td>\n",
       "      <td>5m</td>\n",
       "    </tr>\n",
       "    <tr>\n",
       "      <th>7</th>\n",
       "      <td>wind</td>\n",
       "      <td>3906</td>\n",
       "      <td>1432.511663</td>\n",
       "      <td>2015-11-20T12:15:00Z</td>\n",
       "      <td>PJM</td>\n",
       "      <td>2015-11-20T12:23:00.776095Z</td>\n",
       "      <td>RT5M</td>\n",
       "      <td>5m</td>\n",
       "    </tr>\n",
       "    <tr>\n",
       "      <th>8</th>\n",
       "      <td>nonwind</td>\n",
       "      <td>82717</td>\n",
       "      <td>1432.279402</td>\n",
       "      <td>2015-11-20T12:10:00Z</td>\n",
       "      <td>PJM</td>\n",
       "      <td>2015-11-20T12:18:00.345973Z</td>\n",
       "      <td>RT5M</td>\n",
       "      <td>5m</td>\n",
       "    </tr>\n",
       "    <tr>\n",
       "      <th>9</th>\n",
       "      <td>wind</td>\n",
       "      <td>3911</td>\n",
       "      <td>1432.279402</td>\n",
       "      <td>2015-11-20T12:10:00Z</td>\n",
       "      <td>PJM</td>\n",
       "      <td>2015-11-20T12:18:00.345973Z</td>\n",
       "      <td>RT5M</td>\n",
       "      <td>5m</td>\n",
       "    </tr>\n",
       "    <tr>\n",
       "      <th>10</th>\n",
       "      <td>nonwind</td>\n",
       "      <td>82322</td>\n",
       "      <td>1431.454604</td>\n",
       "      <td>2015-11-20T12:05:00Z</td>\n",
       "      <td>PJM</td>\n",
       "      <td>2015-11-20T12:13:00.288371Z</td>\n",
       "      <td>RT5M</td>\n",
       "      <td>5m</td>\n",
       "    </tr>\n",
       "    <tr>\n",
       "      <th>11</th>\n",
       "      <td>wind</td>\n",
       "      <td>3942</td>\n",
       "      <td>1431.454604</td>\n",
       "      <td>2015-11-20T12:05:00Z</td>\n",
       "      <td>PJM</td>\n",
       "      <td>2015-11-20T12:13:00.288371Z</td>\n",
       "      <td>RT5M</td>\n",
       "      <td>5m</td>\n",
       "    </tr>\n",
       "    <tr>\n",
       "      <th>12</th>\n",
       "      <td>nonwind</td>\n",
       "      <td>81169</td>\n",
       "      <td>1429.602189</td>\n",
       "      <td>2015-11-20T12:00:00Z</td>\n",
       "      <td>PJM</td>\n",
       "      <td>2015-11-20T12:08:00.413708Z</td>\n",
       "      <td>RT5M</td>\n",
       "      <td>5m</td>\n",
       "    </tr>\n",
       "    <tr>\n",
       "      <th>13</th>\n",
       "      <td>wind</td>\n",
       "      <td>3997</td>\n",
       "      <td>1429.602189</td>\n",
       "      <td>2015-11-20T12:00:00Z</td>\n",
       "      <td>PJM</td>\n",
       "      <td>2015-11-20T12:08:00.413708Z</td>\n",
       "      <td>RT5M</td>\n",
       "      <td>5m</td>\n",
       "    </tr>\n",
       "    <tr>\n",
       "      <th>14</th>\n",
       "      <td>nonwind</td>\n",
       "      <td>80663</td>\n",
       "      <td>1427.967002</td>\n",
       "      <td>2015-11-20T11:55:00Z</td>\n",
       "      <td>PJM</td>\n",
       "      <td>2015-11-20T12:03:00.582278Z</td>\n",
       "      <td>RT5M</td>\n",
       "      <td>5m</td>\n",
       "    </tr>\n",
       "    <tr>\n",
       "      <th>15</th>\n",
       "      <td>wind</td>\n",
       "      <td>4069</td>\n",
       "      <td>1427.967002</td>\n",
       "      <td>2015-11-20T11:55:00Z</td>\n",
       "      <td>PJM</td>\n",
       "      <td>2015-11-20T12:03:00.582278Z</td>\n",
       "      <td>RT5M</td>\n",
       "      <td>5m</td>\n",
       "    </tr>\n",
       "    <tr>\n",
       "      <th>16</th>\n",
       "      <td>nonwind</td>\n",
       "      <td>80699</td>\n",
       "      <td>1428.503151</td>\n",
       "      <td>2015-11-20T11:50:00Z</td>\n",
       "      <td>PJM</td>\n",
       "      <td>2015-11-20T11:58:01.325882Z</td>\n",
       "      <td>RT5M</td>\n",
       "      <td>5m</td>\n",
       "    </tr>\n",
       "    <tr>\n",
       "      <th>17</th>\n",
       "      <td>wind</td>\n",
       "      <td>4039</td>\n",
       "      <td>1428.503151</td>\n",
       "      <td>2015-11-20T11:50:00Z</td>\n",
       "      <td>PJM</td>\n",
       "      <td>2015-11-20T11:58:01.325882Z</td>\n",
       "      <td>RT5M</td>\n",
       "      <td>5m</td>\n",
       "    </tr>\n",
       "    <tr>\n",
       "      <th>18</th>\n",
       "      <td>nonwind</td>\n",
       "      <td>80207</td>\n",
       "      <td>1426.121951</td>\n",
       "      <td>2015-11-20T11:45:00Z</td>\n",
       "      <td>PJM</td>\n",
       "      <td>2015-11-20T11:53:00.479310Z</td>\n",
       "      <td>RT5M</td>\n",
       "      <td>5m</td>\n",
       "    </tr>\n",
       "    <tr>\n",
       "      <th>19</th>\n",
       "      <td>wind</td>\n",
       "      <td>4155</td>\n",
       "      <td>1426.121951</td>\n",
       "      <td>2015-11-20T11:45:00Z</td>\n",
       "      <td>PJM</td>\n",
       "      <td>2015-11-20T11:53:00.479310Z</td>\n",
       "      <td>RT5M</td>\n",
       "      <td>5m</td>\n",
       "    </tr>\n",
       "    <tr>\n",
       "      <th>20</th>\n",
       "      <td>nonwind</td>\n",
       "      <td>80011</td>\n",
       "      <td>1424.849521</td>\n",
       "      <td>2015-11-20T11:40:00Z</td>\n",
       "      <td>PJM</td>\n",
       "      <td>2015-11-20T11:48:02.418937Z</td>\n",
       "      <td>RT5M</td>\n",
       "      <td>5m</td>\n",
       "    </tr>\n",
       "    <tr>\n",
       "      <th>21</th>\n",
       "      <td>wind</td>\n",
       "      <td>4220</td>\n",
       "      <td>1424.849521</td>\n",
       "      <td>2015-11-20T11:40:00Z</td>\n",
       "      <td>PJM</td>\n",
       "      <td>2015-11-20T11:48:02.418937Z</td>\n",
       "      <td>RT5M</td>\n",
       "      <td>5m</td>\n",
       "    </tr>\n",
       "    <tr>\n",
       "      <th>22</th>\n",
       "      <td>nonwind</td>\n",
       "      <td>79467</td>\n",
       "      <td>1424.054716</td>\n",
       "      <td>2015-11-20T11:35:00Z</td>\n",
       "      <td>PJM</td>\n",
       "      <td>2015-11-20T11:43:01.893564Z</td>\n",
       "      <td>RT5M</td>\n",
       "      <td>5m</td>\n",
       "    </tr>\n",
       "    <tr>\n",
       "      <th>23</th>\n",
       "      <td>wind</td>\n",
       "      <td>4238</td>\n",
       "      <td>1424.054716</td>\n",
       "      <td>2015-11-20T11:35:00Z</td>\n",
       "      <td>PJM</td>\n",
       "      <td>2015-11-20T11:43:01.893564Z</td>\n",
       "      <td>RT5M</td>\n",
       "      <td>5m</td>\n",
       "    </tr>\n",
       "    <tr>\n",
       "      <th>24</th>\n",
       "      <td>nonwind</td>\n",
       "      <td>78287</td>\n",
       "      <td>1423.710628</td>\n",
       "      <td>2015-11-20T11:30:00Z</td>\n",
       "      <td>PJM</td>\n",
       "      <td>2015-11-20T11:38:00.888714Z</td>\n",
       "      <td>RT5M</td>\n",
       "      <td>5m</td>\n",
       "    </tr>\n",
       "    <tr>\n",
       "      <th>25</th>\n",
       "      <td>wind</td>\n",
       "      <td>4195</td>\n",
       "      <td>1423.710628</td>\n",
       "      <td>2015-11-20T11:30:00Z</td>\n",
       "      <td>PJM</td>\n",
       "      <td>2015-11-20T11:38:00.888714Z</td>\n",
       "      <td>RT5M</td>\n",
       "      <td>5m</td>\n",
       "    </tr>\n",
       "  </tbody>\n",
       "</table>\n",
       "</div>"
      ],
      "text/plain": [
       "       fuel  gen_MW       carbon             timestamp   ba  \\\n",
       "0   nonwind   83397  1438.044603  2015-11-20T12:30:00Z  PJM   \n",
       "1      wind    3593  1438.044603  2015-11-20T12:30:00Z  PJM   \n",
       "2   nonwind   83284  1436.310749  2015-11-20T12:25:00Z  PJM   \n",
       "3      wind    3693  1436.310749  2015-11-20T12:25:00Z  PJM   \n",
       "4   nonwind   82922  1433.892443  2015-11-20T12:20:00Z  PJM   \n",
       "5      wind    3823  1433.892443  2015-11-20T12:20:00Z  PJM   \n",
       "6   nonwind   82909  1432.511663  2015-11-20T12:15:00Z  PJM   \n",
       "7      wind    3906  1432.511663  2015-11-20T12:15:00Z  PJM   \n",
       "8   nonwind   82717  1432.279402  2015-11-20T12:10:00Z  PJM   \n",
       "9      wind    3911  1432.279402  2015-11-20T12:10:00Z  PJM   \n",
       "10  nonwind   82322  1431.454604  2015-11-20T12:05:00Z  PJM   \n",
       "11     wind    3942  1431.454604  2015-11-20T12:05:00Z  PJM   \n",
       "12  nonwind   81169  1429.602189  2015-11-20T12:00:00Z  PJM   \n",
       "13     wind    3997  1429.602189  2015-11-20T12:00:00Z  PJM   \n",
       "14  nonwind   80663  1427.967002  2015-11-20T11:55:00Z  PJM   \n",
       "15     wind    4069  1427.967002  2015-11-20T11:55:00Z  PJM   \n",
       "16  nonwind   80699  1428.503151  2015-11-20T11:50:00Z  PJM   \n",
       "17     wind    4039  1428.503151  2015-11-20T11:50:00Z  PJM   \n",
       "18  nonwind   80207  1426.121951  2015-11-20T11:45:00Z  PJM   \n",
       "19     wind    4155  1426.121951  2015-11-20T11:45:00Z  PJM   \n",
       "20  nonwind   80011  1424.849521  2015-11-20T11:40:00Z  PJM   \n",
       "21     wind    4220  1424.849521  2015-11-20T11:40:00Z  PJM   \n",
       "22  nonwind   79467  1424.054716  2015-11-20T11:35:00Z  PJM   \n",
       "23     wind    4238  1424.054716  2015-11-20T11:35:00Z  PJM   \n",
       "24  nonwind   78287  1423.710628  2015-11-20T11:30:00Z  PJM   \n",
       "25     wind    4195  1423.710628  2015-11-20T11:30:00Z  PJM   \n",
       "\n",
       "                     created_at market freq  \n",
       "0   2015-11-20T12:38:00.683721Z   RT5M   5m  \n",
       "1   2015-11-20T12:38:00.683721Z   RT5M   5m  \n",
       "2   2015-11-20T12:33:00.761622Z   RT5M   5m  \n",
       "3   2015-11-20T12:33:00.761622Z   RT5M   5m  \n",
       "4   2015-11-20T12:28:00.353635Z   RT5M   5m  \n",
       "5   2015-11-20T12:28:00.353635Z   RT5M   5m  \n",
       "6   2015-11-20T12:23:00.776095Z   RT5M   5m  \n",
       "7   2015-11-20T12:23:00.776095Z   RT5M   5m  \n",
       "8   2015-11-20T12:18:00.345973Z   RT5M   5m  \n",
       "9   2015-11-20T12:18:00.345973Z   RT5M   5m  \n",
       "10  2015-11-20T12:13:00.288371Z   RT5M   5m  \n",
       "11  2015-11-20T12:13:00.288371Z   RT5M   5m  \n",
       "12  2015-11-20T12:08:00.413708Z   RT5M   5m  \n",
       "13  2015-11-20T12:08:00.413708Z   RT5M   5m  \n",
       "14  2015-11-20T12:03:00.582278Z   RT5M   5m  \n",
       "15  2015-11-20T12:03:00.582278Z   RT5M   5m  \n",
       "16  2015-11-20T11:58:01.325882Z   RT5M   5m  \n",
       "17  2015-11-20T11:58:01.325882Z   RT5M   5m  \n",
       "18  2015-11-20T11:53:00.479310Z   RT5M   5m  \n",
       "19  2015-11-20T11:53:00.479310Z   RT5M   5m  \n",
       "20  2015-11-20T11:48:02.418937Z   RT5M   5m  \n",
       "21  2015-11-20T11:48:02.418937Z   RT5M   5m  \n",
       "22  2015-11-20T11:43:01.893564Z   RT5M   5m  \n",
       "23  2015-11-20T11:43:01.893564Z   RT5M   5m  \n",
       "24  2015-11-20T11:38:00.888714Z   RT5M   5m  \n",
       "25  2015-11-20T11:38:00.888714Z   RT5M   5m  "
      ]
     },
     "execution_count": 5,
     "metadata": {},
     "output_type": "execute_result"
    }
   ],
   "source": [
    "df=json_normalize(data[u'results'],'genmix',['timestamp','carbon','ba','created_at','market','freq'])\n",
    "df"
   ]
  },
  {
   "cell_type": "markdown",
   "metadata": {},
   "source": [
    "###Calculate Generation Totals"
   ]
  },
  {
   "cell_type": "code",
   "execution_count": 6,
   "metadata": {
    "collapsed": false
   },
   "outputs": [
    {
     "data": {
      "text/html": [
       "<div>\n",
       "<table border=\"1\" class=\"dataframe\">\n",
       "  <thead>\n",
       "    <tr style=\"text-align: right;\">\n",
       "      <th></th>\n",
       "      <th>gen_MW</th>\n",
       "      <th>carbon</th>\n",
       "    </tr>\n",
       "    <tr>\n",
       "      <th>timestamp</th>\n",
       "      <th></th>\n",
       "      <th></th>\n",
       "    </tr>\n",
       "  </thead>\n",
       "  <tbody>\n",
       "    <tr>\n",
       "      <th>2015-11-20T11:30:00Z</th>\n",
       "      <td>82482</td>\n",
       "      <td>2847.421256</td>\n",
       "    </tr>\n",
       "    <tr>\n",
       "      <th>2015-11-20T11:35:00Z</th>\n",
       "      <td>83705</td>\n",
       "      <td>2848.109432</td>\n",
       "    </tr>\n",
       "    <tr>\n",
       "      <th>2015-11-20T11:40:00Z</th>\n",
       "      <td>84231</td>\n",
       "      <td>2849.699042</td>\n",
       "    </tr>\n",
       "    <tr>\n",
       "      <th>2015-11-20T11:45:00Z</th>\n",
       "      <td>84362</td>\n",
       "      <td>2852.243901</td>\n",
       "    </tr>\n",
       "    <tr>\n",
       "      <th>2015-11-20T11:50:00Z</th>\n",
       "      <td>84738</td>\n",
       "      <td>2857.006302</td>\n",
       "    </tr>\n",
       "    <tr>\n",
       "      <th>2015-11-20T11:55:00Z</th>\n",
       "      <td>84732</td>\n",
       "      <td>2855.934004</td>\n",
       "    </tr>\n",
       "    <tr>\n",
       "      <th>2015-11-20T12:00:00Z</th>\n",
       "      <td>85166</td>\n",
       "      <td>2859.204377</td>\n",
       "    </tr>\n",
       "    <tr>\n",
       "      <th>2015-11-20T12:05:00Z</th>\n",
       "      <td>86264</td>\n",
       "      <td>2862.909209</td>\n",
       "    </tr>\n",
       "    <tr>\n",
       "      <th>2015-11-20T12:10:00Z</th>\n",
       "      <td>86628</td>\n",
       "      <td>2864.558803</td>\n",
       "    </tr>\n",
       "    <tr>\n",
       "      <th>2015-11-20T12:15:00Z</th>\n",
       "      <td>86815</td>\n",
       "      <td>2865.023325</td>\n",
       "    </tr>\n",
       "    <tr>\n",
       "      <th>2015-11-20T12:20:00Z</th>\n",
       "      <td>86745</td>\n",
       "      <td>2867.784887</td>\n",
       "    </tr>\n",
       "    <tr>\n",
       "      <th>2015-11-20T12:25:00Z</th>\n",
       "      <td>86977</td>\n",
       "      <td>2872.621498</td>\n",
       "    </tr>\n",
       "    <tr>\n",
       "      <th>2015-11-20T12:30:00Z</th>\n",
       "      <td>86990</td>\n",
       "      <td>2876.089206</td>\n",
       "    </tr>\n",
       "  </tbody>\n",
       "</table>\n",
       "</div>"
      ],
      "text/plain": [
       "                      gen_MW       carbon\n",
       "timestamp                                \n",
       "2015-11-20T11:30:00Z   82482  2847.421256\n",
       "2015-11-20T11:35:00Z   83705  2848.109432\n",
       "2015-11-20T11:40:00Z   84231  2849.699042\n",
       "2015-11-20T11:45:00Z   84362  2852.243901\n",
       "2015-11-20T11:50:00Z   84738  2857.006302\n",
       "2015-11-20T11:55:00Z   84732  2855.934004\n",
       "2015-11-20T12:00:00Z   85166  2859.204377\n",
       "2015-11-20T12:05:00Z   86264  2862.909209\n",
       "2015-11-20T12:10:00Z   86628  2864.558803\n",
       "2015-11-20T12:15:00Z   86815  2865.023325\n",
       "2015-11-20T12:20:00Z   86745  2867.784887\n",
       "2015-11-20T12:25:00Z   86977  2872.621498\n",
       "2015-11-20T12:30:00Z   86990  2876.089206"
      ]
     },
     "execution_count": 6,
     "metadata": {},
     "output_type": "execute_result"
    }
   ],
   "source": [
    "fuel=df.groupby(['timestamp'])\n",
    "fuel_total=fuel.sum()\n",
    "fuel_total"
   ]
  },
  {
   "cell_type": "markdown",
   "metadata": {},
   "source": [
    "####some summary statistics"
   ]
  },
  {
   "cell_type": "code",
   "execution_count": 40,
   "metadata": {
    "collapsed": false
   },
   "outputs": [
    {
     "data": {
      "text/plain": [
       "(1109835.0, 86990.0, 82482.0, 85371.923076923078, 751.33333333333337)"
      ]
     },
     "execution_count": 40,
     "metadata": {},
     "output_type": "execute_result"
    }
   ],
   "source": [
    "tot=fuel_total['gen_MW'].sum()\n",
    "fmax=fuel_total['gen_MW'].max()\n",
    "fmin=fuel_total['gen_MW'].min()\n",
    "fmean=fuel_total['gen_MW'].mean()\n",
    "finc=(fmax-fmin)/numLED\n",
    "\n",
    "tot,fmax,fmin,fmean,finc"
   ]
  },
  {
   "cell_type": "code",
   "execution_count": 47,
   "metadata": {
    "collapsed": false
   },
   "outputs": [],
   "source": [
    "color=(0,0,155) #blue\n",
    "##bscale=[(255,255,204),(255,237,160),(254,217,118),(254,178,76),(253,141,60),\n",
    "## (252,78,42),(227,26,28),(189,0,38),(128,0,38)] #9 colors in white to red"
   ]
  },
  {
   "cell_type": "markdown",
   "metadata": {},
   "source": [
    "###Simple Flash"
   ]
  },
  {
   "cell_type": "code",
   "execution_count": 43,
   "metadata": {
    "collapsed": true
   },
   "outputs": [],
   "source": [
    "### Very simple flash function.  \n",
    "## - takes range of values from query\n",
    "## - divides into 6 bins (for 6 leds)\n",
    "## - turns on the first N leds depending on the generation total for this entry"
   ]
  },
  {
   "cell_type": "code",
   "execution_count": 44,
   "metadata": {
    "collapsed": false
   },
   "outputs": [],
   "source": [
    "for index,row in fuel_total.iterrows():\n",
    "    #print((row['gen_MW']-fmin)/finc)\n",
    "    val=row['gen_MW']-fmin\n",
    "    if val < finc :\n",
    "        ledon=0\n",
    "    if finc <= val < 2*finc :\n",
    "        ledon=1\n",
    "    if finc*2 <= val < 3*finc :\n",
    "        ledon=2 \n",
    "    if finc*3 <= val < 4*finc :\n",
    "        ledon=3 \n",
    "    if finc*4 <= val < 5*finc :\n",
    "        ledon=4 \n",
    "    if finc*5 <= val < 6*finc :\n",
    "        ledon=5 \n",
    "    #print('LED',ledon)\n",
    "    #led_set(ledon, numLED, 0, color) \n",
    "    time.sleep(1.)\n",
    "        \n",
    "    "
   ]
  },
  {
   "cell_type": "markdown",
   "metadata": {},
   "source": [
    "###Save as CSV"
   ]
  },
  {
   "cell_type": "code",
   "execution_count": 46,
   "metadata": {
    "collapsed": true
   },
   "outputs": [],
   "source": [
    "df.to_csv('WattTimeTest.csv', sep=',')"
   ]
  }
 ],
 "metadata": {
  "kernelspec": {
   "display_name": "Python 3",
   "language": "python",
   "name": "python3"
  },
  "language_info": {
   "codemirror_mode": {
    "name": "ipython",
    "version": 3
   },
   "file_extension": ".py",
   "mimetype": "text/x-python",
   "name": "python",
   "nbconvert_exporter": "python",
   "pygments_lexer": "ipython3",
   "version": "3.4.3"
  }
 },
 "nbformat": 4,
 "nbformat_minor": 0
}
