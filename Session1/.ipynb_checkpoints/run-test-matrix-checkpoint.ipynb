{
 "cells": [
  {
   "cell_type": "markdown",
   "metadata": {},
   "source": [
    "### Importing Libraries"
   ]
  },
  {
   "cell_type": "code",
   "execution_count": 1,
   "metadata": {
    "collapsed": true
   },
   "outputs": [],
   "source": [
    "from bibliopixel import *\n",
    "from bibliopixel.drivers.LPD8806 import *\n",
    "from bibliopixel import LEDMatrix\n",
    "\n",
    "import time"
   ]
  },
  {
   "cell_type": "markdown",
   "metadata": {},
   "source": [
    "### Shell commands to reset spidev"
   ]
  },
  {
   "cell_type": "code",
   "execution_count": null,
   "metadata": {
    "collapsed": true
   },
   "outputs": [],
   "source": [
    "from subprocess import call\n",
    "call([\"sudo\", \"chmod\", \"a+rw\", \"/dev/spidev0.0\"])"
   ]
  },
  {
   "cell_type": "markdown",
   "metadata": {},
   "source": [
    "### Initial setup"
   ]
  },
  {
   "cell_type": "code",
   "execution_count": null,
   "metadata": {
    "collapsed": true
   },
   "outputs": [],
   "source": [
    "\n",
    "H = 10\n",
    "W = 10\n",
    "numLeds = H * W\n",
    "driver=DriverLPD8806(numLeds, ChannelOrder.BRG)\n",
    "led=LEDMatrix(driver, width = W, height = H)\n",
    "\n"
   ]
  },
  {
   "cell_type": "markdown",
   "metadata": {},
   "source": [
    "### LED testing - ON/OFF\n"
   ]
  },
  {
   "cell_type": "code",
   "execution_count": null,
   "metadata": {
    "collapsed": true
   },
   "outputs": [],
   "source": [
    "led.fillRGB(0,0,0) # turns everything off\n",
    "led.update()\n",
    "\n",
    "for i in range (H):\n",
    "    print ('Diagonal testing')\n",
    "    led.set(i,i,(0,0,180))\n",
    "    led.update()\n",
    "    time.sleep(0.25)\n",
    "\n"
   ]
  },
  {
   "cell_type": "markdown",
   "metadata": {},
   "source": [
    "### LED Character testing"
   ]
  },
  {
   "cell_type": "code",
   "execution_count": null,
   "metadata": {
    "collapsed": true
   },
   "outputs": [],
   "source": [
    "led.fillRGB(0,0,0) # turns everything off\n",
    "led.update()\n",
    "\n",
    "##led.drawChar(x, y, c, color, bg, size) \n",
    "## x,y top left corner coordinates\n",
    "## c - character in ASCII: ord('A') - gives ascii value of A\n",
    "## color - rgb tuple\n",
    "## bg - also rgb tuple\n",
    "## size - factor to scale character. 8 x 5 is the base\n",
    "\n",
    "text = 'Hello world '\n",
    "\n",
    "for i in text: \n",
    "    led.drawChar(x = 1,y = 2, c = ord(i), color = (0,250,0), bg = (50,50,50), size = 1)\n",
    "    print(i)\n",
    "    time.sleep(0.25)\n",
    "\n"
   ]
  }
 ],
 "metadata": {
  "kernelspec": {
   "display_name": "Python 3",
   "language": "python",
   "name": "python3"
  },
  "language_info": {
   "codemirror_mode": {
    "name": "ipython",
    "version": 3
   },
   "file_extension": ".py",
   "mimetype": "text/x-python",
   "name": "python",
   "nbconvert_exporter": "python",
   "pygments_lexer": "ipython3",
   "version": "3.4.3"
  }
 },
 "nbformat": 4,
 "nbformat_minor": 0
}
