{
 "cells": [
  {
   "cell_type": "markdown",
   "metadata": {},
   "source": [
    "### Import libraries"
   ]
  },
  {
   "cell_type": "code",
   "execution_count": 1,
   "metadata": {
    "collapsed": false,
    "scrolled": true
   },
   "outputs": [],
   "source": [
    "from bibliopixel import *\n",
    "from bibliopixel.drivers.LPD8806 import *\n",
    "from bibliopixel import LEDStrip\n",
    "import numpy as np\n",
    "\n",
    "import time\n",
    "import json\n",
    "from datetime import datetime\n",
    "\n",
    "import tweepy\n",
    "from tweepy import Stream\n",
    "from tweepy.streaming import StreamListener\n",
    "from tweepy import OAuthHandler"
   ]
  },
  {
   "cell_type": "markdown",
   "metadata": {},
   "source": [
    "### Define LED parameters"
   ]
  },
  {
   "cell_type": "code",
   "execution_count": 13,
   "metadata": {
    "collapsed": false
   },
   "outputs": [
    {
     "name": "stderr",
     "output_type": "stream",
     "text": [
      "ERROR - spi_driver_base - Unable to import spidev. Please install. pip install spidev\n",
      "ERROR:BiblioPixel:Unable to import spidev. Please install. pip install spidev\n"
     ]
    },
    {
     "ename": "ImportError",
     "evalue": "Unable to import spidev. Please install. pip install spidev",
     "output_type": "error",
     "traceback": [
      "\u001b[0;31m---------------------------------------------------------------------------\u001b[0m",
      "\u001b[0;31mImportError\u001b[0m                               Traceback (most recent call last)",
      "\u001b[0;32m<ipython-input-13-80121e332752>\u001b[0m in \u001b[0;36m<module>\u001b[0;34m()\u001b[0m\n\u001b[1;32m      1\u001b[0m \u001b[0mLedsPerSide\u001b[0m \u001b[0;34m=\u001b[0m \u001b[0;36m10\u001b[0m\u001b[0;34m\u001b[0m\u001b[0m\n\u001b[1;32m      2\u001b[0m \u001b[0mNumLeds\u001b[0m\u001b[0;34m=\u001b[0m \u001b[0mLedsPerSide\u001b[0m\u001b[0;34m*\u001b[0m\u001b[0;36m4\u001b[0m\u001b[0;34m*\u001b[0m\u001b[0;36m2\u001b[0m \u001b[0;31m##* 4 sides * 2 levels\u001b[0m\u001b[0;34m\u001b[0m\u001b[0m\n\u001b[0;32m----> 3\u001b[0;31m \u001b[0mdriver\u001b[0m\u001b[0;34m=\u001b[0m\u001b[0mDriverLPD8806\u001b[0m\u001b[0;34m(\u001b[0m\u001b[0mNumLeds\u001b[0m\u001b[0;34m,\u001b[0m \u001b[0mChannelOrder\u001b[0m\u001b[0;34m.\u001b[0m\u001b[0mBRG\u001b[0m\u001b[0;34m)\u001b[0m\u001b[0;34m\u001b[0m\u001b[0m\n\u001b[0m\u001b[1;32m      4\u001b[0m \u001b[0mled\u001b[0m\u001b[0;34m=\u001b[0m\u001b[0mLEDStrip\u001b[0m\u001b[0;34m(\u001b[0m\u001b[0mdriver\u001b[0m\u001b[0;34m)\u001b[0m\u001b[0;34m\u001b[0m\u001b[0m\n",
      "\u001b[0;32m/usr/local/lib/python2.7/site-packages/bibliopixel/drivers/LPD8806.pyc\u001b[0m in \u001b[0;36m__init__\u001b[0;34m(self, num, c_order, use_py_spi, dev, SPISpeed)\u001b[0m\n\u001b[1;32m      5\u001b[0m \u001b[0;34m\u001b[0m\u001b[0m\n\u001b[1;32m      6\u001b[0m     \u001b[0;32mdef\u001b[0m \u001b[0m__init__\u001b[0m\u001b[0;34m(\u001b[0m\u001b[0mself\u001b[0m\u001b[0;34m,\u001b[0m \u001b[0mnum\u001b[0m\u001b[0;34m,\u001b[0m \u001b[0mc_order\u001b[0m \u001b[0;34m=\u001b[0m \u001b[0mChannelOrder\u001b[0m\u001b[0;34m.\u001b[0m\u001b[0mRGB\u001b[0m\u001b[0;34m,\u001b[0m \u001b[0muse_py_spi\u001b[0m \u001b[0;34m=\u001b[0m \u001b[0mTrue\u001b[0m\u001b[0;34m,\u001b[0m \u001b[0mdev\u001b[0m\u001b[0;34m=\u001b[0m\u001b[0;34m\"/dev/spidev0.0\"\u001b[0m\u001b[0;34m,\u001b[0m \u001b[0mSPISpeed\u001b[0m \u001b[0;34m=\u001b[0m \u001b[0;36m2\u001b[0m\u001b[0;34m)\u001b[0m\u001b[0;34m:\u001b[0m\u001b[0;34m\u001b[0m\u001b[0m\n\u001b[0;32m----> 7\u001b[0;31m         \u001b[0msuper\u001b[0m\u001b[0;34m(\u001b[0m\u001b[0mDriverLPD8806\u001b[0m\u001b[0;34m,\u001b[0m \u001b[0mself\u001b[0m\u001b[0;34m)\u001b[0m\u001b[0;34m.\u001b[0m\u001b[0m__init__\u001b[0m\u001b[0;34m(\u001b[0m\u001b[0mnum\u001b[0m\u001b[0;34m,\u001b[0m \u001b[0mc_order\u001b[0m \u001b[0;34m=\u001b[0m \u001b[0mc_order\u001b[0m\u001b[0;34m,\u001b[0m \u001b[0muse_py_spi\u001b[0m \u001b[0;34m=\u001b[0m \u001b[0muse_py_spi\u001b[0m\u001b[0;34m,\u001b[0m \u001b[0mdev\u001b[0m \u001b[0;34m=\u001b[0m \u001b[0mdev\u001b[0m\u001b[0;34m,\u001b[0m \u001b[0mSPISpeed\u001b[0m \u001b[0;34m=\u001b[0m \u001b[0mSPISpeed\u001b[0m\u001b[0;34m)\u001b[0m\u001b[0;34m\u001b[0m\u001b[0m\n\u001b[0m\u001b[1;32m      8\u001b[0m \u001b[0;34m\u001b[0m\u001b[0m\n\u001b[1;32m      9\u001b[0m         \u001b[0;31m# Color calculations from\u001b[0m\u001b[0;34m\u001b[0m\u001b[0;34m\u001b[0m\u001b[0m\n",
      "\u001b[0;32m/usr/local/lib/python2.7/site-packages/bibliopixel/drivers/spi_driver_base.pyc\u001b[0m in \u001b[0;36m__init__\u001b[0;34m(self, num, c_order, use_py_spi, dev, SPISpeed)\u001b[0m\n\u001b[1;32m     39\u001b[0m                 \u001b[0;32mraise\u001b[0m \u001b[0mValueError\u001b[0m\u001b[0;34m(\u001b[0m\u001b[0merror\u001b[0m\u001b[0;34m)\u001b[0m\u001b[0;34m\u001b[0m\u001b[0m\n\u001b[1;32m     40\u001b[0m \u001b[0;34m\u001b[0m\u001b[0m\n\u001b[0;32m---> 41\u001b[0;31m             \u001b[0mself\u001b[0m\u001b[0;34m.\u001b[0m\u001b[0m_bootstrapSPIDev\u001b[0m\u001b[0;34m(\u001b[0m\u001b[0;34m)\u001b[0m\u001b[0;34m\u001b[0m\u001b[0m\n\u001b[0m\u001b[1;32m     42\u001b[0m             \u001b[0;32mimport\u001b[0m \u001b[0mspidev\u001b[0m\u001b[0;34m\u001b[0m\u001b[0m\n\u001b[1;32m     43\u001b[0m             \u001b[0mself\u001b[0m\u001b[0;34m.\u001b[0m\u001b[0mspi\u001b[0m \u001b[0;34m=\u001b[0m \u001b[0mspidev\u001b[0m\u001b[0;34m.\u001b[0m\u001b[0mSpiDev\u001b[0m\u001b[0;34m(\u001b[0m\u001b[0;34m)\u001b[0m\u001b[0;34m\u001b[0m\u001b[0m\n",
      "\u001b[0;32m/usr/local/lib/python2.7/site-packages/bibliopixel/drivers/spi_driver_base.pyc\u001b[0m in \u001b[0;36m_bootstrapSPIDev\u001b[0;34m(self)\u001b[0m\n\u001b[1;32m     57\u001b[0m                 \u001b[0merror\u001b[0m \u001b[0;34m=\u001b[0m \u001b[0;34m\"Unable to import spidev. Please install. pip install spidev\"\u001b[0m\u001b[0;34m\u001b[0m\u001b[0m\n\u001b[1;32m     58\u001b[0m                 \u001b[0mlog\u001b[0m\u001b[0;34m.\u001b[0m\u001b[0mlogger\u001b[0m\u001b[0;34m.\u001b[0m\u001b[0merror\u001b[0m\u001b[0;34m(\u001b[0m\u001b[0merror\u001b[0m\u001b[0;34m)\u001b[0m\u001b[0;34m\u001b[0m\u001b[0m\n\u001b[0;32m---> 59\u001b[0;31m                 \u001b[0;32mraise\u001b[0m \u001b[0mImportError\u001b[0m\u001b[0;34m(\u001b[0m\u001b[0merror\u001b[0m\u001b[0;34m)\u001b[0m\u001b[0;34m\u001b[0m\u001b[0m\n\u001b[0m\u001b[1;32m     60\u001b[0m \u001b[0;34m\u001b[0m\u001b[0m\n\u001b[1;32m     61\u001b[0m         \u001b[0;32mif\u001b[0m \u001b[0;32mnot\u001b[0m \u001b[0mos\u001b[0m\u001b[0;34m.\u001b[0m\u001b[0mpath\u001b[0m\u001b[0;34m.\u001b[0m\u001b[0mexists\u001b[0m\u001b[0;34m(\u001b[0m\u001b[0mself\u001b[0m\u001b[0;34m.\u001b[0m\u001b[0mdev\u001b[0m\u001b[0;34m)\u001b[0m\u001b[0;34m:\u001b[0m\u001b[0;34m\u001b[0m\u001b[0m\n",
      "\u001b[0;31mImportError\u001b[0m: Unable to import spidev. Please install. pip install spidev"
     ]
    }
   ],
   "source": [
    "LedsPerSide = 10\n",
    "NumLeds= LedsPerSide*4*2 ##* 4 sides * 2 levels\n",
    "driver=DriverLPD8806(NumLeds, ChannelOrder.BRG)\n",
    "led=LEDStrip(driver)"
   ]
  },
  {
   "cell_type": "markdown",
   "metadata": {},
   "source": [
    "### Authentication 1\n",
    "#### (From BrannonDorsey LoopLamp Project)"
   ]
  },
  {
   "cell_type": "code",
   "execution_count": 2,
   "metadata": {
    "collapsed": true
   },
   "outputs": [],
   "source": [
    "consumer_key = \"TroyIuC1l3i3laNlwl5mg\"\n",
    "consumer_secret = \"qYRSTEHzHhTsL0CBcMnXxjqeY5UQ6U4C0kNvmPSG4K4\"\n",
    "access_token = \"1230084602-UtUB4QdlhNkv1aLqrjS3eYoZ96APon5IhjOqBFt\"\n",
    "access_secret = \"wscl1nV8gFO4kMhtJy7DjhQKkpJHB1fW5Jzb4RXZq8\""
   ]
  },
  {
   "cell_type": "markdown",
   "metadata": {},
   "source": [
    "### Authentication 2\n",
    "#### (SmartLamp App)"
   ]
  },
  {
   "cell_type": "code",
   "execution_count": 15,
   "metadata": {
    "collapsed": true
   },
   "outputs": [],
   "source": [
    "#consumer_key = \"4KxmuenXbg3BEQkw8dr0OQukG\"\n",
    "#consumer_secret = \"6oKhNjtiadaCrPEdC6iyo4o8WoWNxghn7mI3VHNDqaSWNdnpPy\"\n",
    "#access_token = \"28338904-JhFu09cI0hCcjQ9X6gDOAvrnvuTiuvsFxPCxL0B1x\"\n",
    "#access_secret = \"yemTMjMXoZT120Nw4Z4947zB1ADoGVHZLHb3tdLppJNxe\""
   ]
  },
  {
   "cell_type": "markdown",
   "metadata": {},
   "source": [
    "### Authentication 3\n",
    "#### (SmartLamp2 App)"
   ]
  },
  {
   "cell_type": "code",
   "execution_count": 16,
   "metadata": {
    "collapsed": true
   },
   "outputs": [],
   "source": [
    "#consumer_key = \"dMKVYd1EVI5ac5WcpMwemYcFM\"\n",
    "#consumer_secret = \"TY1cahDWwBPN2fg4GeLZ5wvnfBlTLTDPFiWPH9YUxlWeYMEtsZ\"\n",
    "#access_token = \"28338904-u7aHX0RrCR8VoM6ONYhjUToCsGJTmtgGq6hKthiVP\"\n",
    "#access_secret = \"OOA8YkFnkKCY9xGK0P0gFMimRtzEhKG6sW0ZBBWnnlUYC\""
   ]
  },
  {
   "cell_type": "markdown",
   "metadata": {},
   "source": [
    "### Authentication 4\n",
    "#### (SmartLamp3 App)"
   ]
  },
  {
   "cell_type": "code",
   "execution_count": 17,
   "metadata": {
    "collapsed": true
   },
   "outputs": [],
   "source": [
    "#consumer_key = \"RUmOeWto992y4HqJWKP5XEUlx\"\n",
    "#consumer_secret = \"i3t2oaaZcatTlMlRlsqaC5dUVNTdFOdnkelJJ2FA71PSAOvUfl\"\n",
    "#access_token = \"28338904-BCDVUBUIRZCSHJG88phypCMkVPwfnqGV0kHmgpCXH\"\n",
    "#access_secret = \"Ca9TzkD7jbpleEqcYMFMWXMLXJH7XD9H8QVq3joD7hvQe\""
   ]
  },
  {
   "cell_type": "markdown",
   "metadata": {},
   "source": [
    "### Authentication 5\n",
    "#### (SmartLamp4 App)"
   ]
  },
  {
   "cell_type": "code",
   "execution_count": 18,
   "metadata": {
    "collapsed": true
   },
   "outputs": [],
   "source": [
    "#consumer_key = \"TXYjr7ogYQKAR23qFoT7jyiQI\"\n",
    "#consumer_secret = \"H3MypqdYnu7A3wIjDiRaxKJXuQj4xuEJtqZtXQEF0ULPKYMDDA\"\n",
    "#access_token = \"28338904-bHWBbUtKMftWYX68vvPwbAcULVZtLjrwdL4lk1M5k\"\n",
    "#access_secret = \"AP6vzdlBAa5F8mSqa0C6bYkO2qNtqNYwhKXdrQyZjkRkN\""
   ]
  },
  {
   "cell_type": "code",
   "execution_count": 3,
   "metadata": {
    "collapsed": true
   },
   "outputs": [],
   "source": [
    "auth = tweepy.OAuthHandler(consumer_key, consumer_secret)\n",
    "auth.set_access_token(access_token, access_secret)\n",
    " \n",
    "api = tweepy.API(auth)\n"
   ]
  },
  {
   "cell_type": "markdown",
   "metadata": {},
   "source": [
    "### Define flashmode"
   ]
  },
  {
   "cell_type": "code",
   "execution_count": 4,
   "metadata": {
    "collapsed": false
   },
   "outputs": [
    {
     "name": "stdout",
     "output_type": "stream",
     "text": [
      "What hashtag would you like to track?\n",
      "Enter here: #trump\n"
     ]
    }
   ],
   "source": [
    "#Streaming API Listner\n",
    "class MyListener(StreamListener):\n",
    "\n",
    "    def flash(self, delay, color):\n",
    "        led.fill(color)\n",
    "        #print color\n",
    "        led.update()\n",
    "        time.sleep(delay)\n",
    "        \n",
    "        led.all_off()\n",
    "        led.update()\n",
    "        #print delay\n",
    "        return True\n",
    "\n",
    " \n",
    "    def on_data(self, data):\n",
    "        try:\n",
    "            \n",
    "            self.flash(0.5, (np.random.randint(1,255),np.random.randint(1,255),np.random.randint(1,255)))\n",
    "            #with open('twitter_out.json', 'a') as f:  #set output filename here\n",
    "               # f.write(data) return True\n",
    "            print datetime.now().strftime('%Y-%m-%d %H:%M:%S'), ': someone tweeted #' + hashtag +'!'\n",
    "            \n",
    "\n",
    "        except BaseException as e:\n",
    "            print(\"Error on_data: %s\" % str(e))\n",
    "        return True\n",
    " \n",
    "    def on_error(self, status):\n",
    "        print(status)\n",
    "        return True\n",
    "\n",
    "\n",
    "print 'What hashtag would you like to track?'\n",
    "hashtag = raw_input('Enter here: #')\n",
    "\n",
    "#twitter_stream = Stream(auth, MyListener())\n",
    "#twitter_stream.filter(track=['#trump']) #set hashtag here; "
   ]
  },
  {
   "cell_type": "code",
   "execution_count": null,
   "metadata": {
    "collapsed": false
   },
   "outputs": [
    {
     "name": "stdout",
     "output_type": "stream",
     "text": [
      "(234, 43, 162)\n",
      "0.5\n",
      "2016-02-17 12:08:42 : someone tweeted #trump!\n",
      "(112, 4, 180)\n",
      "0.5\n",
      "2016-02-17 12:08:45 : someone tweeted #trump!\n",
      "(10, 132, 62)\n",
      "0.5\n",
      "2016-02-17 12:08:46 : someone tweeted #trump!\n",
      "(93, 70, 6)\n",
      "0.5\n",
      "2016-02-17 12:08:48 : someone tweeted #trump!\n",
      "(90, 231, 44)\n",
      "0.5\n",
      "2016-02-17 12:08:49 : someone tweeted #trump!\n",
      "(216, 43, 107)\n",
      "0.5\n",
      "2016-02-17 12:08:49 : someone tweeted #trump!\n",
      "(164, 217, 25)\n",
      "Error on_data: \n",
      "(53, 41, 174)\n",
      "0.5\n",
      "2016-02-17 12:08:54 : someone tweeted #trump!\n",
      "(14, 31, 183)\n",
      "0.5\n",
      "2016-02-17 12:08:55 : someone tweeted #trump!\n",
      "(182, 48, 72)\n",
      "0.5\n",
      "2016-02-17 12:08:55 : someone tweeted #trump!\n",
      "(253, 136, 83)\n",
      "0.5\n",
      "2016-02-17 12:08:56 : someone tweeted #trump!\n",
      "(80, 163, 207)\n",
      "0.5\n",
      "2016-02-17 12:08:56 : someone tweeted #trump!\n",
      "(196, 241, 180)\n",
      "0.5\n",
      "2016-02-17 12:08:57 : someone tweeted #trump!\n",
      "(208, 186, 135)\n",
      "0.5\n",
      "2016-02-17 12:08:57 : someone tweeted #trump!\n",
      "(109, 243, 188)\n",
      "0.5\n",
      "2016-02-17 12:08:58 : someone tweeted #trump!\n",
      "(145, 56, 83)\n",
      "0.5\n",
      "2016-02-17 12:09:00 : someone tweeted #trump!\n",
      "(21, 10, 63)\n",
      "0.5\n",
      "2016-02-17 12:09:03 : someone tweeted #trump!\n",
      "(37, 166, 185)\n",
      "0.5\n",
      "2016-02-17 12:09:04 : someone tweeted #trump!\n",
      "(34, 68, 44)\n",
      "0.5\n",
      "2016-02-17 12:09:06 : someone tweeted #trump!\n",
      "(232, 78, 171)\n",
      "0.5\n",
      "2016-02-17 12:09:06 : someone tweeted #trump!\n",
      "(137, 216, 19)\n",
      "0.5\n",
      "2016-02-17 12:09:07 : someone tweeted #trump!\n",
      "(35, 101, 139)\n",
      "0.5\n",
      "2016-02-17 12:09:10 : someone tweeted #trump!\n",
      "(101, 234, 150)\n",
      "0.5\n",
      "2016-02-17 12:09:11 : someone tweeted #trump!\n",
      "(163, 234, 206)\n",
      "0.5\n",
      "2016-02-17 12:09:11 : someone tweeted #trump!\n",
      "(41, 100, 107)\n",
      "0.5\n",
      "2016-02-17 12:09:12 : someone tweeted #trump!\n",
      "(190, 90, 136)\n",
      "0.5\n",
      "2016-02-17 12:09:12 : someone tweeted #trump!\n",
      "(189, 178, 197)\n",
      "0.5\n",
      "2016-02-17 12:09:13 : someone tweeted #trump!\n",
      "(68, 249, 126)\n",
      "0.5\n",
      "2016-02-17 12:09:13 : someone tweeted #trump!\n",
      "(240, 12, 117)\n",
      "0.5\n",
      "2016-02-17 12:09:14 : someone tweeted #trump!\n",
      "(70, 124, 125)\n",
      "0.5\n",
      "2016-02-17 12:09:14 : someone tweeted #trump!\n",
      "(246, 162, 205)\n",
      "0.5\n",
      "2016-02-17 12:09:17 : someone tweeted #trump!\n",
      "(193, 136, 203)\n",
      "0.5\n",
      "2016-02-17 12:09:20 : someone tweeted #trump!\n",
      "(185, 20, 114)\n",
      "0.5\n",
      "2016-02-17 12:09:21 : someone tweeted #trump!\n",
      "(221, 218, 192)\n",
      "0.5\n",
      "2016-02-17 12:09:22 : someone tweeted #trump!\n",
      "(223, 160, 201)\n",
      "0.5\n",
      "2016-02-17 12:09:22 : someone tweeted #trump!\n",
      "(118, 64, 15)\n",
      "0.5\n",
      "2016-02-17 12:09:23 : someone tweeted #trump!\n",
      "(54, 247, 216)\n",
      "0.5\n",
      "2016-02-17 12:09:30 : someone tweeted #trump!\n",
      "(208, 17, 40)\n",
      "0.5\n",
      "2016-02-17 12:09:30 : someone tweeted #trump!\n",
      "(234, 247, 222)\n",
      "0.5\n",
      "2016-02-17 12:09:31 : someone tweeted #trump!\n",
      "(53, 127, 121)\n",
      "0.5\n",
      "2016-02-17 12:09:32 : someone tweeted #trump!\n",
      "(139, 78, 196)\n",
      "0.5\n",
      "2016-02-17 12:09:39 : someone tweeted #trump!\n",
      "(11, 103, 119)\n",
      "0.5"
     ]
    }
   ],
   "source": [
    "twitter_stream = Stream(auth, MyListener())\n",
    "twitter_stream.filter(track=['#'+hashtag]) #set hashtag here; "
   ]
  },
  {
   "cell_type": "code",
   "execution_count": null,
   "metadata": {
    "collapsed": true
   },
   "outputs": [],
   "source": []
  }
 ],
 "metadata": {
  "kernelspec": {
   "display_name": "Python 2",
   "language": "python",
   "name": "python2"
  },
  "language_info": {
   "codemirror_mode": {
    "name": "ipython",
    "version": 2
   },
   "file_extension": ".py",
   "mimetype": "text/x-python",
   "name": "python",
   "nbconvert_exporter": "python",
   "pygments_lexer": "ipython2",
   "version": "2.7.10"
  }
 },
 "nbformat": 4,
 "nbformat_minor": 0
}
